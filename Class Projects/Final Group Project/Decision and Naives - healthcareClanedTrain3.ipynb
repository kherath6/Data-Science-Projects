{
 "cells": [
  {
   "cell_type": "code",
   "execution_count": 1,
   "metadata": {},
   "outputs": [],
   "source": [
    "import numpy as np\n",
    "import pandas as pd\n",
    "import matplotlib.pyplot as plt\n",
    "import seaborn as sns\n",
    "import os\n",
    "%matplotlib inline"
   ]
  },
  {
   "cell_type": "code",
   "execution_count": 2,
   "metadata": {},
   "outputs": [
    {
     "data": {
      "text/html": [
       "<div>\n",
       "<style scoped>\n",
       "    .dataframe tbody tr th:only-of-type {\n",
       "        vertical-align: middle;\n",
       "    }\n",
       "\n",
       "    .dataframe tbody tr th {\n",
       "        vertical-align: top;\n",
       "    }\n",
       "\n",
       "    .dataframe thead th {\n",
       "        text-align: right;\n",
       "    }\n",
       "</style>\n",
       "<table border=\"1\" class=\"dataframe\">\n",
       "  <thead>\n",
       "    <tr style=\"text-align: right;\">\n",
       "      <th></th>\n",
       "      <th>hosp_code</th>\n",
       "      <th>hosp_type</th>\n",
       "      <th>city_code</th>\n",
       "      <th>hosp_region</th>\n",
       "      <th>rooms_available</th>\n",
       "      <th>department</th>\n",
       "      <th>ward_type</th>\n",
       "      <th>ward_code</th>\n",
       "      <th>bed_grade</th>\n",
       "      <th>patient_id</th>\n",
       "      <th>admission_type</th>\n",
       "      <th>severity</th>\n",
       "      <th>num_visitors</th>\n",
       "      <th>age</th>\n",
       "      <th>deposit</th>\n",
       "      <th>stay</th>\n",
       "    </tr>\n",
       "  </thead>\n",
       "  <tbody>\n",
       "    <tr>\n",
       "      <th>0</th>\n",
       "      <td>8</td>\n",
       "      <td>0</td>\n",
       "      <td>3</td>\n",
       "      <td>0</td>\n",
       "      <td>3</td>\n",
       "      <td>0</td>\n",
       "      <td>0</td>\n",
       "      <td>0</td>\n",
       "      <td>2</td>\n",
       "      <td>31397</td>\n",
       "      <td>0</td>\n",
       "      <td>0</td>\n",
       "      <td>2</td>\n",
       "      <td>5</td>\n",
       "      <td>4911</td>\n",
       "      <td>0</td>\n",
       "    </tr>\n",
       "    <tr>\n",
       "      <th>1</th>\n",
       "      <td>2</td>\n",
       "      <td>0</td>\n",
       "      <td>5</td>\n",
       "      <td>0</td>\n",
       "      <td>2</td>\n",
       "      <td>0</td>\n",
       "      <td>1</td>\n",
       "      <td>0</td>\n",
       "      <td>2</td>\n",
       "      <td>31397</td>\n",
       "      <td>1</td>\n",
       "      <td>0</td>\n",
       "      <td>2</td>\n",
       "      <td>5</td>\n",
       "      <td>5954</td>\n",
       "      <td>4</td>\n",
       "    </tr>\n",
       "    <tr>\n",
       "      <th>2</th>\n",
       "      <td>10</td>\n",
       "      <td>1</td>\n",
       "      <td>1</td>\n",
       "      <td>1</td>\n",
       "      <td>2</td>\n",
       "      <td>1</td>\n",
       "      <td>1</td>\n",
       "      <td>1</td>\n",
       "      <td>2</td>\n",
       "      <td>31397</td>\n",
       "      <td>1</td>\n",
       "      <td>0</td>\n",
       "      <td>2</td>\n",
       "      <td>5</td>\n",
       "      <td>4745</td>\n",
       "      <td>3</td>\n",
       "    </tr>\n",
       "    <tr>\n",
       "      <th>3</th>\n",
       "      <td>26</td>\n",
       "      <td>2</td>\n",
       "      <td>2</td>\n",
       "      <td>2</td>\n",
       "      <td>2</td>\n",
       "      <td>0</td>\n",
       "      <td>0</td>\n",
       "      <td>2</td>\n",
       "      <td>2</td>\n",
       "      <td>31397</td>\n",
       "      <td>1</td>\n",
       "      <td>0</td>\n",
       "      <td>2</td>\n",
       "      <td>5</td>\n",
       "      <td>7272</td>\n",
       "      <td>4</td>\n",
       "    </tr>\n",
       "    <tr>\n",
       "      <th>4</th>\n",
       "      <td>26</td>\n",
       "      <td>2</td>\n",
       "      <td>2</td>\n",
       "      <td>2</td>\n",
       "      <td>2</td>\n",
       "      <td>0</td>\n",
       "      <td>1</td>\n",
       "      <td>2</td>\n",
       "      <td>2</td>\n",
       "      <td>31397</td>\n",
       "      <td>1</td>\n",
       "      <td>0</td>\n",
       "      <td>2</td>\n",
       "      <td>5</td>\n",
       "      <td>5558</td>\n",
       "      <td>4</td>\n",
       "    </tr>\n",
       "  </tbody>\n",
       "</table>\n",
       "</div>"
      ],
      "text/plain": [
       "   hosp_code  hosp_type  city_code  hosp_region  rooms_available  department  \\\n",
       "0          8          0          3            0                3           0   \n",
       "1          2          0          5            0                2           0   \n",
       "2         10          1          1            1                2           1   \n",
       "3         26          2          2            2                2           0   \n",
       "4         26          2          2            2                2           0   \n",
       "\n",
       "   ward_type  ward_code  bed_grade  patient_id  admission_type  severity  \\\n",
       "0          0          0          2       31397               0         0   \n",
       "1          1          0          2       31397               1         0   \n",
       "2          1          1          2       31397               1         0   \n",
       "3          0          2          2       31397               1         0   \n",
       "4          1          2          2       31397               1         0   \n",
       "\n",
       "   num_visitors  age  deposit  stay  \n",
       "0             2    5     4911     0  \n",
       "1             2    5     5954     4  \n",
       "2             2    5     4745     3  \n",
       "3             2    5     7272     4  \n",
       "4             2    5     5558     4  "
      ]
     },
     "execution_count": 2,
     "metadata": {},
     "output_type": "execute_result"
    }
   ],
   "source": [
    "DATA_DIR = '../project'\n",
    "FILE_NAME = 'healthcareClanedTrain3.csv'\n",
    "data_path = os.path.join(DATA_DIR, FILE_NAME)\n",
    "health_cleaned = pd.read_csv(data_path)\n",
    "health_cleaned.head()"
   ]
  },
  {
   "cell_type": "code",
   "execution_count": 3,
   "metadata": {},
   "outputs": [
    {
     "name": "stdout",
     "output_type": "stream",
     "text": [
      "<class 'pandas.core.frame.DataFrame'>\n",
      "RangeIndex: 318325 entries, 0 to 318324\n",
      "Data columns (total 16 columns):\n",
      " #   Column           Non-Null Count   Dtype\n",
      "---  ------           --------------   -----\n",
      " 0   hosp_code        318325 non-null  int64\n",
      " 1   hosp_type        318325 non-null  int64\n",
      " 2   city_code        318325 non-null  int64\n",
      " 3   hosp_region      318325 non-null  int64\n",
      " 4   rooms_available  318325 non-null  int64\n",
      " 5   department       318325 non-null  int64\n",
      " 6   ward_type        318325 non-null  int64\n",
      " 7   ward_code        318325 non-null  int64\n",
      " 8   bed_grade        318325 non-null  int64\n",
      " 9   patient_id       318325 non-null  int64\n",
      " 10  admission_type   318325 non-null  int64\n",
      " 11  severity         318325 non-null  int64\n",
      " 12  num_visitors     318325 non-null  int64\n",
      " 13  age              318325 non-null  int64\n",
      " 14  deposit          318325 non-null  int64\n",
      " 15  stay             318325 non-null  int64\n",
      "dtypes: int64(16)\n",
      "memory usage: 38.9 MB\n"
     ]
    }
   ],
   "source": [
    "health_cleaned.info()"
   ]
  },
  {
   "cell_type": "code",
   "execution_count": 4,
   "metadata": {},
   "outputs": [
    {
     "data": {
      "text/plain": [
       "array([ 0,  4,  3,  1,  5,  2,  7, 10,  8,  6,  9])"
      ]
     },
     "execution_count": 4,
     "metadata": {},
     "output_type": "execute_result"
    }
   ],
   "source": [
    "health_cleaned['stay'].unique()"
   ]
  },
  {
   "cell_type": "code",
   "execution_count": 5,
   "metadata": {},
   "outputs": [
    {
     "data": {
      "text/plain": [
       "array([5, 7, 3, 4, 8, 6, 2, 1, 0, 9])"
      ]
     },
     "execution_count": 5,
     "metadata": {},
     "output_type": "execute_result"
    }
   ],
   "source": [
    "health_cleaned['age'].unique()"
   ]
  },
  {
   "cell_type": "code",
   "execution_count": 9,
   "metadata": {},
   "outputs": [
    {
     "data": {
      "text/html": [
       "<div>\n",
       "<style scoped>\n",
       "    .dataframe tbody tr th:only-of-type {\n",
       "        vertical-align: middle;\n",
       "    }\n",
       "\n",
       "    .dataframe tbody tr th {\n",
       "        vertical-align: top;\n",
       "    }\n",
       "\n",
       "    .dataframe thead th {\n",
       "        text-align: right;\n",
       "    }\n",
       "</style>\n",
       "<table border=\"1\" class=\"dataframe\">\n",
       "  <thead>\n",
       "    <tr style=\"text-align: right;\">\n",
       "      <th></th>\n",
       "      <th>hosp_code</th>\n",
       "      <th>hosp_type</th>\n",
       "      <th>city_code</th>\n",
       "      <th>hosp_region</th>\n",
       "      <th>rooms_available</th>\n",
       "      <th>department</th>\n",
       "      <th>ward_type</th>\n",
       "      <th>ward_code</th>\n",
       "      <th>bed_grade</th>\n",
       "      <th>patient_id</th>\n",
       "      <th>admission_type</th>\n",
       "      <th>severity</th>\n",
       "      <th>num_visitors</th>\n",
       "      <th>age</th>\n",
       "      <th>deposit</th>\n",
       "    </tr>\n",
       "  </thead>\n",
       "  <tbody>\n",
       "    <tr>\n",
       "      <th>0</th>\n",
       "      <td>8</td>\n",
       "      <td>0</td>\n",
       "      <td>3</td>\n",
       "      <td>0</td>\n",
       "      <td>3</td>\n",
       "      <td>0</td>\n",
       "      <td>0</td>\n",
       "      <td>0</td>\n",
       "      <td>2</td>\n",
       "      <td>31397</td>\n",
       "      <td>0</td>\n",
       "      <td>0</td>\n",
       "      <td>2</td>\n",
       "      <td>5</td>\n",
       "      <td>4911</td>\n",
       "    </tr>\n",
       "    <tr>\n",
       "      <th>1</th>\n",
       "      <td>2</td>\n",
       "      <td>0</td>\n",
       "      <td>5</td>\n",
       "      <td>0</td>\n",
       "      <td>2</td>\n",
       "      <td>0</td>\n",
       "      <td>1</td>\n",
       "      <td>0</td>\n",
       "      <td>2</td>\n",
       "      <td>31397</td>\n",
       "      <td>1</td>\n",
       "      <td>0</td>\n",
       "      <td>2</td>\n",
       "      <td>5</td>\n",
       "      <td>5954</td>\n",
       "    </tr>\n",
       "    <tr>\n",
       "      <th>2</th>\n",
       "      <td>10</td>\n",
       "      <td>1</td>\n",
       "      <td>1</td>\n",
       "      <td>1</td>\n",
       "      <td>2</td>\n",
       "      <td>1</td>\n",
       "      <td>1</td>\n",
       "      <td>1</td>\n",
       "      <td>2</td>\n",
       "      <td>31397</td>\n",
       "      <td>1</td>\n",
       "      <td>0</td>\n",
       "      <td>2</td>\n",
       "      <td>5</td>\n",
       "      <td>4745</td>\n",
       "    </tr>\n",
       "    <tr>\n",
       "      <th>3</th>\n",
       "      <td>26</td>\n",
       "      <td>2</td>\n",
       "      <td>2</td>\n",
       "      <td>2</td>\n",
       "      <td>2</td>\n",
       "      <td>0</td>\n",
       "      <td>0</td>\n",
       "      <td>2</td>\n",
       "      <td>2</td>\n",
       "      <td>31397</td>\n",
       "      <td>1</td>\n",
       "      <td>0</td>\n",
       "      <td>2</td>\n",
       "      <td>5</td>\n",
       "      <td>7272</td>\n",
       "    </tr>\n",
       "    <tr>\n",
       "      <th>4</th>\n",
       "      <td>26</td>\n",
       "      <td>2</td>\n",
       "      <td>2</td>\n",
       "      <td>2</td>\n",
       "      <td>2</td>\n",
       "      <td>0</td>\n",
       "      <td>1</td>\n",
       "      <td>2</td>\n",
       "      <td>2</td>\n",
       "      <td>31397</td>\n",
       "      <td>1</td>\n",
       "      <td>0</td>\n",
       "      <td>2</td>\n",
       "      <td>5</td>\n",
       "      <td>5558</td>\n",
       "    </tr>\n",
       "  </tbody>\n",
       "</table>\n",
       "</div>"
      ],
      "text/plain": [
       "   hosp_code  hosp_type  city_code  hosp_region  rooms_available  department  \\\n",
       "0          8          0          3            0                3           0   \n",
       "1          2          0          5            0                2           0   \n",
       "2         10          1          1            1                2           1   \n",
       "3         26          2          2            2                2           0   \n",
       "4         26          2          2            2                2           0   \n",
       "\n",
       "   ward_type  ward_code  bed_grade  patient_id  admission_type  severity  \\\n",
       "0          0          0          2       31397               0         0   \n",
       "1          1          0          2       31397               1         0   \n",
       "2          1          1          2       31397               1         0   \n",
       "3          0          2          2       31397               1         0   \n",
       "4          1          2          2       31397               1         0   \n",
       "\n",
       "   num_visitors  age  deposit  \n",
       "0             2    5     4911  \n",
       "1             2    5     5954  \n",
       "2             2    5     4745  \n",
       "3             2    5     7272  \n",
       "4             2    5     5558  "
      ]
     },
     "execution_count": 9,
     "metadata": {},
     "output_type": "execute_result"
    }
   ],
   "source": [
    "X=health_cleaned.drop('stay',axis=1)\n",
    "y=health_cleaned['stay']\n",
    "X.head()"
   ]
  },
  {
   "cell_type": "code",
   "execution_count": 10,
   "metadata": {},
   "outputs": [],
   "source": [
    "from sklearn.model_selection import train_test_split\n",
    "X_train, X_test, y_train, y_test = train_test_split(X, y, test_size=.10, random_state=42)"
   ]
  },
  {
   "cell_type": "code",
   "execution_count": 11,
   "metadata": {},
   "outputs": [
    {
     "data": {
      "text/plain": [
       "2.6995343674517964"
      ]
     },
     "execution_count": 11,
     "metadata": {},
     "output_type": "execute_result"
    }
   ],
   "source": [
    "y_train.mean()"
   ]
  },
  {
   "cell_type": "code",
   "execution_count": 12,
   "metadata": {},
   "outputs": [
    {
     "data": {
      "text/plain": [
       "2.688436528131185"
      ]
     },
     "execution_count": 12,
     "metadata": {},
     "output_type": "execute_result"
    }
   ],
   "source": [
    "y_test.mean()"
   ]
  },
  {
   "cell_type": "markdown",
   "metadata": {},
   "source": [
    "## Decision Tree"
   ]
  },
  {
   "cell_type": "code",
   "execution_count": 13,
   "metadata": {},
   "outputs": [
    {
     "data": {
      "text/plain": [
       "DecisionTreeClassifier(max_depth=11)"
      ]
     },
     "execution_count": 13,
     "metadata": {},
     "output_type": "execute_result"
    }
   ],
   "source": [
    "from sklearn.tree import DecisionTreeClassifier\n",
    "class_tree = DecisionTreeClassifier(max_depth=11)\n",
    "class_tree.fit(X_train, y_train)"
   ]
  },
  {
   "cell_type": "code",
   "execution_count": 15,
   "metadata": {},
   "outputs": [
    {
     "data": {
      "text/plain": [
       "array([[ 3688,  9012,  8316,   139,     1,    53,     0,     1,     0,\n",
       "            0,     0],\n",
       "       [ 1597, 36520, 27178,  2798,    14,  2051,     1,    18,    27,\n",
       "            0,     7],\n",
       "       [ 1299, 24225, 51019,   925,    12,  1014,     2,    10,   143,\n",
       "            0,    75],\n",
       "       [  817,  9996, 19261, 11990,    21,  7276,     2,    38,   116,\n",
       "            1,   109],\n",
       "       [  330,  2452,  6332,   584,    76,   694,     2,    11,    46,\n",
       "            8,    62],\n",
       "       [  350,  2782,  4743,  7604,    19, 15033,     2,    47,   679,\n",
       "            6,   360],\n",
       "       [   61,   440,  1245,   197,     8,   375,    31,    14,    38,\n",
       "            3,    46],\n",
       "       [  118,   675,  1021,  2041,     9,  4277,     6,   387,   143,\n",
       "            4,   559],\n",
       "       [   51,   194,   224,   506,     2,  1783,     1,    27,  1191,\n",
       "            4,   308],\n",
       "       [   26,   157,   304,   461,     4,  1136,     2,    50,    33,\n",
       "          128,   203],\n",
       "       [   62,   283,   340,   492,     7,  1671,     2,   112,   459,\n",
       "           58,  2519]])"
      ]
     },
     "execution_count": 15,
     "metadata": {},
     "output_type": "execute_result"
    }
   ],
   "source": [
    "#Main diagnol = What we got right\n",
    "#Off = What we got wrong\n",
    "from sklearn.metrics import confusion_matrix\n",
    "y_train_pred = class_tree.predict(X_train)\n",
    "confusion_matrix(y_train,y_train_pred)"
   ]
  },
  {
   "cell_type": "code",
   "execution_count": 16,
   "metadata": {},
   "outputs": [
    {
     "data": {
      "text/html": [
       "<div>\n",
       "<style scoped>\n",
       "    .dataframe tbody tr th:only-of-type {\n",
       "        vertical-align: middle;\n",
       "    }\n",
       "\n",
       "    .dataframe tbody tr th {\n",
       "        vertical-align: top;\n",
       "    }\n",
       "\n",
       "    .dataframe thead th {\n",
       "        text-align: right;\n",
       "    }\n",
       "</style>\n",
       "<table border=\"1\" class=\"dataframe\">\n",
       "  <thead>\n",
       "    <tr style=\"text-align: right;\">\n",
       "      <th>Predicted</th>\n",
       "      <th>0</th>\n",
       "      <th>1</th>\n",
       "      <th>2</th>\n",
       "      <th>3</th>\n",
       "      <th>4</th>\n",
       "      <th>5</th>\n",
       "      <th>6</th>\n",
       "      <th>7</th>\n",
       "      <th>8</th>\n",
       "      <th>9</th>\n",
       "      <th>10</th>\n",
       "      <th>All</th>\n",
       "    </tr>\n",
       "    <tr>\n",
       "      <th>True</th>\n",
       "      <th></th>\n",
       "      <th></th>\n",
       "      <th></th>\n",
       "      <th></th>\n",
       "      <th></th>\n",
       "      <th></th>\n",
       "      <th></th>\n",
       "      <th></th>\n",
       "      <th></th>\n",
       "      <th></th>\n",
       "      <th></th>\n",
       "      <th></th>\n",
       "    </tr>\n",
       "  </thead>\n",
       "  <tbody>\n",
       "    <tr>\n",
       "      <th>0</th>\n",
       "      <td>3688</td>\n",
       "      <td>9012</td>\n",
       "      <td>8316</td>\n",
       "      <td>139</td>\n",
       "      <td>1</td>\n",
       "      <td>53</td>\n",
       "      <td>0</td>\n",
       "      <td>1</td>\n",
       "      <td>0</td>\n",
       "      <td>0</td>\n",
       "      <td>0</td>\n",
       "      <td>21210</td>\n",
       "    </tr>\n",
       "    <tr>\n",
       "      <th>1</th>\n",
       "      <td>1597</td>\n",
       "      <td>36520</td>\n",
       "      <td>27178</td>\n",
       "      <td>2798</td>\n",
       "      <td>14</td>\n",
       "      <td>2051</td>\n",
       "      <td>1</td>\n",
       "      <td>18</td>\n",
       "      <td>27</td>\n",
       "      <td>0</td>\n",
       "      <td>7</td>\n",
       "      <td>70211</td>\n",
       "    </tr>\n",
       "    <tr>\n",
       "      <th>2</th>\n",
       "      <td>1299</td>\n",
       "      <td>24225</td>\n",
       "      <td>51019</td>\n",
       "      <td>925</td>\n",
       "      <td>12</td>\n",
       "      <td>1014</td>\n",
       "      <td>2</td>\n",
       "      <td>10</td>\n",
       "      <td>143</td>\n",
       "      <td>0</td>\n",
       "      <td>75</td>\n",
       "      <td>78724</td>\n",
       "    </tr>\n",
       "    <tr>\n",
       "      <th>3</th>\n",
       "      <td>817</td>\n",
       "      <td>9996</td>\n",
       "      <td>19261</td>\n",
       "      <td>11990</td>\n",
       "      <td>21</td>\n",
       "      <td>7276</td>\n",
       "      <td>2</td>\n",
       "      <td>38</td>\n",
       "      <td>116</td>\n",
       "      <td>1</td>\n",
       "      <td>109</td>\n",
       "      <td>49627</td>\n",
       "    </tr>\n",
       "    <tr>\n",
       "      <th>4</th>\n",
       "      <td>330</td>\n",
       "      <td>2452</td>\n",
       "      <td>6332</td>\n",
       "      <td>584</td>\n",
       "      <td>76</td>\n",
       "      <td>694</td>\n",
       "      <td>2</td>\n",
       "      <td>11</td>\n",
       "      <td>46</td>\n",
       "      <td>8</td>\n",
       "      <td>62</td>\n",
       "      <td>10597</td>\n",
       "    </tr>\n",
       "    <tr>\n",
       "      <th>5</th>\n",
       "      <td>350</td>\n",
       "      <td>2782</td>\n",
       "      <td>4743</td>\n",
       "      <td>7604</td>\n",
       "      <td>19</td>\n",
       "      <td>15033</td>\n",
       "      <td>2</td>\n",
       "      <td>47</td>\n",
       "      <td>679</td>\n",
       "      <td>6</td>\n",
       "      <td>360</td>\n",
       "      <td>31625</td>\n",
       "    </tr>\n",
       "    <tr>\n",
       "      <th>6</th>\n",
       "      <td>61</td>\n",
       "      <td>440</td>\n",
       "      <td>1245</td>\n",
       "      <td>197</td>\n",
       "      <td>8</td>\n",
       "      <td>375</td>\n",
       "      <td>31</td>\n",
       "      <td>14</td>\n",
       "      <td>38</td>\n",
       "      <td>3</td>\n",
       "      <td>46</td>\n",
       "      <td>2458</td>\n",
       "    </tr>\n",
       "    <tr>\n",
       "      <th>7</th>\n",
       "      <td>118</td>\n",
       "      <td>675</td>\n",
       "      <td>1021</td>\n",
       "      <td>2041</td>\n",
       "      <td>9</td>\n",
       "      <td>4277</td>\n",
       "      <td>6</td>\n",
       "      <td>387</td>\n",
       "      <td>143</td>\n",
       "      <td>4</td>\n",
       "      <td>559</td>\n",
       "      <td>9240</td>\n",
       "    </tr>\n",
       "    <tr>\n",
       "      <th>8</th>\n",
       "      <td>51</td>\n",
       "      <td>194</td>\n",
       "      <td>224</td>\n",
       "      <td>506</td>\n",
       "      <td>2</td>\n",
       "      <td>1783</td>\n",
       "      <td>1</td>\n",
       "      <td>27</td>\n",
       "      <td>1191</td>\n",
       "      <td>4</td>\n",
       "      <td>308</td>\n",
       "      <td>4291</td>\n",
       "    </tr>\n",
       "    <tr>\n",
       "      <th>9</th>\n",
       "      <td>26</td>\n",
       "      <td>157</td>\n",
       "      <td>304</td>\n",
       "      <td>461</td>\n",
       "      <td>4</td>\n",
       "      <td>1136</td>\n",
       "      <td>2</td>\n",
       "      <td>50</td>\n",
       "      <td>33</td>\n",
       "      <td>128</td>\n",
       "      <td>203</td>\n",
       "      <td>2504</td>\n",
       "    </tr>\n",
       "    <tr>\n",
       "      <th>10</th>\n",
       "      <td>62</td>\n",
       "      <td>283</td>\n",
       "      <td>340</td>\n",
       "      <td>492</td>\n",
       "      <td>7</td>\n",
       "      <td>1671</td>\n",
       "      <td>2</td>\n",
       "      <td>112</td>\n",
       "      <td>459</td>\n",
       "      <td>58</td>\n",
       "      <td>2519</td>\n",
       "      <td>6005</td>\n",
       "    </tr>\n",
       "    <tr>\n",
       "      <th>All</th>\n",
       "      <td>8399</td>\n",
       "      <td>86736</td>\n",
       "      <td>119983</td>\n",
       "      <td>27737</td>\n",
       "      <td>173</td>\n",
       "      <td>35363</td>\n",
       "      <td>51</td>\n",
       "      <td>715</td>\n",
       "      <td>2875</td>\n",
       "      <td>212</td>\n",
       "      <td>4248</td>\n",
       "      <td>286492</td>\n",
       "    </tr>\n",
       "  </tbody>\n",
       "</table>\n",
       "</div>"
      ],
      "text/plain": [
       "Predicted     0      1       2      3    4      5   6    7     8    9    10  \\\n",
       "True                                                                          \n",
       "0          3688   9012    8316    139    1     53   0    1     0    0     0   \n",
       "1          1597  36520   27178   2798   14   2051   1   18    27    0     7   \n",
       "2          1299  24225   51019    925   12   1014   2   10   143    0    75   \n",
       "3           817   9996   19261  11990   21   7276   2   38   116    1   109   \n",
       "4           330   2452    6332    584   76    694   2   11    46    8    62   \n",
       "5           350   2782    4743   7604   19  15033   2   47   679    6   360   \n",
       "6            61    440    1245    197    8    375  31   14    38    3    46   \n",
       "7           118    675    1021   2041    9   4277   6  387   143    4   559   \n",
       "8            51    194     224    506    2   1783   1   27  1191    4   308   \n",
       "9            26    157     304    461    4   1136   2   50    33  128   203   \n",
       "10           62    283     340    492    7   1671   2  112   459   58  2519   \n",
       "All        8399  86736  119983  27737  173  35363  51  715  2875  212  4248   \n",
       "\n",
       "Predicted     All  \n",
       "True               \n",
       "0           21210  \n",
       "1           70211  \n",
       "2           78724  \n",
       "3           49627  \n",
       "4           10597  \n",
       "5           31625  \n",
       "6            2458  \n",
       "7            9240  \n",
       "8            4291  \n",
       "9            2504  \n",
       "10           6005  \n",
       "All        286492  "
      ]
     },
     "execution_count": 16,
     "metadata": {},
     "output_type": "execute_result"
    }
   ],
   "source": [
    "pd.crosstab(y_train, y_train_pred, rownames=['True'], colnames=['Predicted'], margins=True)"
   ]
  },
  {
   "cell_type": "code",
   "execution_count": 17,
   "metadata": {},
   "outputs": [
    {
     "data": {
      "text/plain": [
       "0.428"
      ]
     },
     "execution_count": 17,
     "metadata": {},
     "output_type": "execute_result"
    }
   ],
   "source": [
    "#Comparing actual vs predicted values\n",
    "#On average, can predict correctly 42.8% of the time\n",
    "from sklearn.metrics import accuracy_score\n",
    "accuracy = accuracy_score(y_true=y_train, y_pred=y_train_pred)\n",
    "accuracy.round(3)"
   ]
  },
  {
   "cell_type": "code",
   "execution_count": 18,
   "metadata": {},
   "outputs": [
    {
     "data": {
      "text/plain": [
       "array([0.439, 0.421, 0.425, 0.432, 0.439, 0.425, 0.608, 0.541, 0.414,\n",
       "       0.604, 0.593])"
      ]
     },
     "execution_count": 18,
     "metadata": {},
     "output_type": "execute_result"
    }
   ],
   "source": [
    "#43.9% classified 0 stay, actually were 0 stay...\n",
    "from sklearn.metrics import precision_score\n",
    "precision = precision_score(y_true=y_train, y_pred=y_train_pred, average = None)\n",
    "precision.round(3)"
   ]
  },
  {
   "cell_type": "code",
   "execution_count": 19,
   "metadata": {},
   "outputs": [
    {
     "data": {
      "text/plain": [
       "array([0.174, 0.52 , 0.648, 0.242, 0.007, 0.475, 0.013, 0.042, 0.278,\n",
       "       0.051, 0.419])"
      ]
     },
     "execution_count": 19,
     "metadata": {},
     "output_type": "execute_result"
    }
   ],
   "source": [
    "#17.4% of the things that are actually 0 stay, we were able to correctly categorize...\n",
    "from sklearn.metrics import recall_score\n",
    "recall = recall_score(y_true=y_train, y_pred=y_train_pred, average = None)\n",
    "recall.round(3)"
   ]
  },
  {
   "cell_type": "code",
   "execution_count": 20,
   "metadata": {},
   "outputs": [
    {
     "data": {
      "text/plain": [
       "num_visitors       0.408\n",
       "ward_type          0.208\n",
       "deposit            0.076\n",
       "bed_grade          0.065\n",
       "admission_type     0.063\n",
       "ward_code          0.033\n",
       "hosp_code          0.033\n",
       "patient_id         0.027\n",
       "severity           0.022\n",
       "rooms_available    0.016\n",
       "age                0.015\n",
       "city_code          0.012\n",
       "hosp_type          0.010\n",
       "department         0.006\n",
       "hosp_region        0.005\n",
       "dtype: float64"
      ]
     },
     "execution_count": 20,
     "metadata": {},
     "output_type": "execute_result"
    }
   ],
   "source": [
    "#What the effect of each feature to the overall classification\n",
    "#num_visitors, majority of our entropy\n",
    "pd.Series(data=class_tree.feature_importances_, index=X_train.columns).sort_values(ascending=False).round(3)"
   ]
  },
  {
   "cell_type": "markdown",
   "metadata": {},
   "source": [
    "## Decision Tree - Test"
   ]
  },
  {
   "cell_type": "code",
   "execution_count": 21,
   "metadata": {},
   "outputs": [
    {
     "data": {
      "text/plain": [
       "array([[ 341, 1066,  946,   24,    1,   14,    0,    0,    0,    0,    0],\n",
       "       [ 218, 3889, 3207,  338,    2,  248,    0,    4,    2,    0,    1],\n",
       "       [ 165, 2726, 5549,  124,    2,  139,    0,    2,   16,    0,    7],\n",
       "       [  96, 1139, 2082, 1302,    2,  838,    1,   11,   20,    0,   19],\n",
       "       [  44,  267,  683,   64,    1,   67,    0,    0,    3,    2,    7],\n",
       "       [  35,  315,  513,  828,    0, 1546,    2,    4,   95,    0,   42],\n",
       "       [   6,   67,  129,   17,    0,   49,    1,    0,    7,    0,    6],\n",
       "       [  18,   81,  112,  208,    0,  489,    0,   16,   18,    2,   66],\n",
       "       [   2,   24,   33,   66,    1,  238,    4,    2,  115,    0,   61],\n",
       "       [   4,   17,   33,   48,    1,  120,    0,    6,    3,    6,   22],\n",
       "       [   4,   31,   39,   54,    0,  207,    2,   20,   58,    8,  253]])"
      ]
     },
     "execution_count": 21,
     "metadata": {},
     "output_type": "execute_result"
    }
   ],
   "source": [
    "y_test_pred = class_tree.predict(X_test)\n",
    "confusion_matrix(y_test,y_test_pred)"
   ]
  },
  {
   "cell_type": "code",
   "execution_count": 22,
   "metadata": {},
   "outputs": [
    {
     "data": {
      "text/html": [
       "<div>\n",
       "<style scoped>\n",
       "    .dataframe tbody tr th:only-of-type {\n",
       "        vertical-align: middle;\n",
       "    }\n",
       "\n",
       "    .dataframe tbody tr th {\n",
       "        vertical-align: top;\n",
       "    }\n",
       "\n",
       "    .dataframe thead th {\n",
       "        text-align: right;\n",
       "    }\n",
       "</style>\n",
       "<table border=\"1\" class=\"dataframe\">\n",
       "  <thead>\n",
       "    <tr style=\"text-align: right;\">\n",
       "      <th>Predicted</th>\n",
       "      <th>0</th>\n",
       "      <th>1</th>\n",
       "      <th>2</th>\n",
       "      <th>3</th>\n",
       "      <th>4</th>\n",
       "      <th>5</th>\n",
       "      <th>6</th>\n",
       "      <th>7</th>\n",
       "      <th>8</th>\n",
       "      <th>9</th>\n",
       "      <th>10</th>\n",
       "      <th>All</th>\n",
       "    </tr>\n",
       "    <tr>\n",
       "      <th>True</th>\n",
       "      <th></th>\n",
       "      <th></th>\n",
       "      <th></th>\n",
       "      <th></th>\n",
       "      <th></th>\n",
       "      <th></th>\n",
       "      <th></th>\n",
       "      <th></th>\n",
       "      <th></th>\n",
       "      <th></th>\n",
       "      <th></th>\n",
       "      <th></th>\n",
       "    </tr>\n",
       "  </thead>\n",
       "  <tbody>\n",
       "    <tr>\n",
       "      <th>0</th>\n",
       "      <td>341</td>\n",
       "      <td>1066</td>\n",
       "      <td>946</td>\n",
       "      <td>24</td>\n",
       "      <td>1</td>\n",
       "      <td>14</td>\n",
       "      <td>0</td>\n",
       "      <td>0</td>\n",
       "      <td>0</td>\n",
       "      <td>0</td>\n",
       "      <td>0</td>\n",
       "      <td>2392</td>\n",
       "    </tr>\n",
       "    <tr>\n",
       "      <th>1</th>\n",
       "      <td>218</td>\n",
       "      <td>3889</td>\n",
       "      <td>3207</td>\n",
       "      <td>338</td>\n",
       "      <td>2</td>\n",
       "      <td>248</td>\n",
       "      <td>0</td>\n",
       "      <td>4</td>\n",
       "      <td>2</td>\n",
       "      <td>0</td>\n",
       "      <td>1</td>\n",
       "      <td>7909</td>\n",
       "    </tr>\n",
       "    <tr>\n",
       "      <th>2</th>\n",
       "      <td>165</td>\n",
       "      <td>2726</td>\n",
       "      <td>5549</td>\n",
       "      <td>124</td>\n",
       "      <td>2</td>\n",
       "      <td>139</td>\n",
       "      <td>0</td>\n",
       "      <td>2</td>\n",
       "      <td>16</td>\n",
       "      <td>0</td>\n",
       "      <td>7</td>\n",
       "      <td>8730</td>\n",
       "    </tr>\n",
       "    <tr>\n",
       "      <th>3</th>\n",
       "      <td>96</td>\n",
       "      <td>1139</td>\n",
       "      <td>2082</td>\n",
       "      <td>1302</td>\n",
       "      <td>2</td>\n",
       "      <td>838</td>\n",
       "      <td>1</td>\n",
       "      <td>11</td>\n",
       "      <td>20</td>\n",
       "      <td>0</td>\n",
       "      <td>19</td>\n",
       "      <td>5510</td>\n",
       "    </tr>\n",
       "    <tr>\n",
       "      <th>4</th>\n",
       "      <td>44</td>\n",
       "      <td>267</td>\n",
       "      <td>683</td>\n",
       "      <td>64</td>\n",
       "      <td>1</td>\n",
       "      <td>67</td>\n",
       "      <td>0</td>\n",
       "      <td>0</td>\n",
       "      <td>3</td>\n",
       "      <td>2</td>\n",
       "      <td>7</td>\n",
       "      <td>1138</td>\n",
       "    </tr>\n",
       "    <tr>\n",
       "      <th>5</th>\n",
       "      <td>35</td>\n",
       "      <td>315</td>\n",
       "      <td>513</td>\n",
       "      <td>828</td>\n",
       "      <td>0</td>\n",
       "      <td>1546</td>\n",
       "      <td>2</td>\n",
       "      <td>4</td>\n",
       "      <td>95</td>\n",
       "      <td>0</td>\n",
       "      <td>42</td>\n",
       "      <td>3380</td>\n",
       "    </tr>\n",
       "    <tr>\n",
       "      <th>6</th>\n",
       "      <td>6</td>\n",
       "      <td>67</td>\n",
       "      <td>129</td>\n",
       "      <td>17</td>\n",
       "      <td>0</td>\n",
       "      <td>49</td>\n",
       "      <td>1</td>\n",
       "      <td>0</td>\n",
       "      <td>7</td>\n",
       "      <td>0</td>\n",
       "      <td>6</td>\n",
       "      <td>282</td>\n",
       "    </tr>\n",
       "    <tr>\n",
       "      <th>7</th>\n",
       "      <td>18</td>\n",
       "      <td>81</td>\n",
       "      <td>112</td>\n",
       "      <td>208</td>\n",
       "      <td>0</td>\n",
       "      <td>489</td>\n",
       "      <td>0</td>\n",
       "      <td>16</td>\n",
       "      <td>18</td>\n",
       "      <td>2</td>\n",
       "      <td>66</td>\n",
       "      <td>1010</td>\n",
       "    </tr>\n",
       "    <tr>\n",
       "      <th>8</th>\n",
       "      <td>2</td>\n",
       "      <td>24</td>\n",
       "      <td>33</td>\n",
       "      <td>66</td>\n",
       "      <td>1</td>\n",
       "      <td>238</td>\n",
       "      <td>4</td>\n",
       "      <td>2</td>\n",
       "      <td>115</td>\n",
       "      <td>0</td>\n",
       "      <td>61</td>\n",
       "      <td>546</td>\n",
       "    </tr>\n",
       "    <tr>\n",
       "      <th>9</th>\n",
       "      <td>4</td>\n",
       "      <td>17</td>\n",
       "      <td>33</td>\n",
       "      <td>48</td>\n",
       "      <td>1</td>\n",
       "      <td>120</td>\n",
       "      <td>0</td>\n",
       "      <td>6</td>\n",
       "      <td>3</td>\n",
       "      <td>6</td>\n",
       "      <td>22</td>\n",
       "      <td>260</td>\n",
       "    </tr>\n",
       "    <tr>\n",
       "      <th>10</th>\n",
       "      <td>4</td>\n",
       "      <td>31</td>\n",
       "      <td>39</td>\n",
       "      <td>54</td>\n",
       "      <td>0</td>\n",
       "      <td>207</td>\n",
       "      <td>2</td>\n",
       "      <td>20</td>\n",
       "      <td>58</td>\n",
       "      <td>8</td>\n",
       "      <td>253</td>\n",
       "      <td>676</td>\n",
       "    </tr>\n",
       "    <tr>\n",
       "      <th>All</th>\n",
       "      <td>933</td>\n",
       "      <td>9622</td>\n",
       "      <td>13326</td>\n",
       "      <td>3073</td>\n",
       "      <td>10</td>\n",
       "      <td>3955</td>\n",
       "      <td>10</td>\n",
       "      <td>65</td>\n",
       "      <td>337</td>\n",
       "      <td>18</td>\n",
       "      <td>484</td>\n",
       "      <td>31833</td>\n",
       "    </tr>\n",
       "  </tbody>\n",
       "</table>\n",
       "</div>"
      ],
      "text/plain": [
       "Predicted    0     1      2     3   4     5   6   7    8   9   10    All\n",
       "True                                                                    \n",
       "0          341  1066    946    24   1    14   0   0    0   0    0   2392\n",
       "1          218  3889   3207   338   2   248   0   4    2   0    1   7909\n",
       "2          165  2726   5549   124   2   139   0   2   16   0    7   8730\n",
       "3           96  1139   2082  1302   2   838   1  11   20   0   19   5510\n",
       "4           44   267    683    64   1    67   0   0    3   2    7   1138\n",
       "5           35   315    513   828   0  1546   2   4   95   0   42   3380\n",
       "6            6    67    129    17   0    49   1   0    7   0    6    282\n",
       "7           18    81    112   208   0   489   0  16   18   2   66   1010\n",
       "8            2    24     33    66   1   238   4   2  115   0   61    546\n",
       "9            4    17     33    48   1   120   0   6    3   6   22    260\n",
       "10           4    31     39    54   0   207   2  20   58   8  253    676\n",
       "All        933  9622  13326  3073  10  3955  10  65  337  18  484  31833"
      ]
     },
     "execution_count": 22,
     "metadata": {},
     "output_type": "execute_result"
    }
   ],
   "source": [
    "pd.crosstab(y_test, y_test_pred, rownames=['True'], colnames=['Predicted'], margins=True)"
   ]
  },
  {
   "cell_type": "code",
   "execution_count": 23,
   "metadata": {},
   "outputs": [
    {
     "data": {
      "text/plain": [
       "0.409"
      ]
     },
     "execution_count": 23,
     "metadata": {},
     "output_type": "execute_result"
    }
   ],
   "source": [
    "#Comparing actual vs predicted values\n",
    "#On average, can predict correctly 40.9 of the time\n",
    "from sklearn.metrics import accuracy_score\n",
    "accuracy = accuracy_score(y_true=y_test, y_pred=y_test_pred)\n",
    "accuracy.round(3)"
   ]
  },
  {
   "cell_type": "code",
   "execution_count": 24,
   "metadata": {},
   "outputs": [
    {
     "data": {
      "text/plain": [
       "array([0.365, 0.404, 0.416, 0.424, 0.1  , 0.391, 0.1  , 0.246, 0.341,\n",
       "       0.333, 0.523])"
      ]
     },
     "execution_count": 24,
     "metadata": {},
     "output_type": "execute_result"
    }
   ],
   "source": [
    "#36.4% classified 0 stay, actually were 0 stay...\n",
    "from sklearn.metrics import precision_score\n",
    "precision = precision_score(y_true=y_test, y_pred=y_test_pred, average = None)\n",
    "precision.round(3)"
   ]
  },
  {
   "cell_type": "code",
   "execution_count": 25,
   "metadata": {},
   "outputs": [
    {
     "data": {
      "text/plain": [
       "array([0.143, 0.492, 0.636, 0.236, 0.001, 0.457, 0.004, 0.016, 0.211,\n",
       "       0.023, 0.374])"
      ]
     },
     "execution_count": 25,
     "metadata": {},
     "output_type": "execute_result"
    }
   ],
   "source": [
    "#14.3% of the things that are actually 0 stay, we were able to correctly categorize...\n",
    "from sklearn.metrics import recall_score\n",
    "recall = recall_score(y_true=y_test, y_pred=y_test_pred, average = None)\n",
    "recall.round(3)"
   ]
  },
  {
   "cell_type": "markdown",
   "metadata": {},
   "source": [
    "## Naive Bayes"
   ]
  },
  {
   "cell_type": "code",
   "execution_count": 26,
   "metadata": {},
   "outputs": [
    {
     "data": {
      "text/plain": [
       "array([[   22,  6970, 13921,   269,     1,    27,     0,     0,     0,\n",
       "            0,     0],\n",
       "       [    6, 19719, 48035,  1257,     0,  1168,     0,     0,     0,\n",
       "            0,    26],\n",
       "       [    9, 12772, 64102,   891,     1,   791,     1,     0,     1,\n",
       "            0,   156],\n",
       "       [    3, 10238, 31530,  3453,     1,  4202,     0,     0,     1,\n",
       "            0,   199],\n",
       "       [    1,  1448,  8257,   385,     0,   410,     1,     0,     0,\n",
       "            0,    95],\n",
       "       [    2,  5033, 15364,  3773,     1,  6940,     0,     0,     0,\n",
       "            0,   512],\n",
       "       [    1,   233,  1702,   164,     0,   293,     0,     0,     0,\n",
       "            0,    65],\n",
       "       [    1,  1220,  4312,  1054,     0,  2124,     0,     0,     0,\n",
       "            0,   529],\n",
       "       [    0,   211,   588,   597,     0,  2472,     0,     0,     1,\n",
       "            0,   422],\n",
       "       [    0,   264,  1167,   277,     0,   452,     0,     0,     0,\n",
       "            0,   344],\n",
       "       [    1,   298,  1035,   422,     2,  2407,     0,     0,     1,\n",
       "            0,  1839]])"
      ]
     },
     "execution_count": 26,
     "metadata": {},
     "output_type": "execute_result"
    }
   ],
   "source": [
    "from sklearn.naive_bayes import GaussianNB\n",
    "nb = GaussianNB()\n",
    "nb.fit(X_train, y_train)\n",
    "y_train_pred_nb = nb.predict(X_train)\n",
    "confusion_matrix(y_train,y_train_pred_nb)"
   ]
  },
  {
   "cell_type": "code",
   "execution_count": 27,
   "metadata": {},
   "outputs": [
    {
     "data": {
      "text/html": [
       "<div>\n",
       "<style scoped>\n",
       "    .dataframe tbody tr th:only-of-type {\n",
       "        vertical-align: middle;\n",
       "    }\n",
       "\n",
       "    .dataframe tbody tr th {\n",
       "        vertical-align: top;\n",
       "    }\n",
       "\n",
       "    .dataframe thead th {\n",
       "        text-align: right;\n",
       "    }\n",
       "</style>\n",
       "<table border=\"1\" class=\"dataframe\">\n",
       "  <thead>\n",
       "    <tr style=\"text-align: right;\">\n",
       "      <th>Predicted</th>\n",
       "      <th>0</th>\n",
       "      <th>1</th>\n",
       "      <th>2</th>\n",
       "      <th>3</th>\n",
       "      <th>4</th>\n",
       "      <th>5</th>\n",
       "      <th>6</th>\n",
       "      <th>8</th>\n",
       "      <th>10</th>\n",
       "      <th>All</th>\n",
       "    </tr>\n",
       "    <tr>\n",
       "      <th>True</th>\n",
       "      <th></th>\n",
       "      <th></th>\n",
       "      <th></th>\n",
       "      <th></th>\n",
       "      <th></th>\n",
       "      <th></th>\n",
       "      <th></th>\n",
       "      <th></th>\n",
       "      <th></th>\n",
       "      <th></th>\n",
       "    </tr>\n",
       "  </thead>\n",
       "  <tbody>\n",
       "    <tr>\n",
       "      <th>0</th>\n",
       "      <td>22</td>\n",
       "      <td>6970</td>\n",
       "      <td>13921</td>\n",
       "      <td>269</td>\n",
       "      <td>1</td>\n",
       "      <td>27</td>\n",
       "      <td>0</td>\n",
       "      <td>0</td>\n",
       "      <td>0</td>\n",
       "      <td>21210</td>\n",
       "    </tr>\n",
       "    <tr>\n",
       "      <th>1</th>\n",
       "      <td>6</td>\n",
       "      <td>19719</td>\n",
       "      <td>48035</td>\n",
       "      <td>1257</td>\n",
       "      <td>0</td>\n",
       "      <td>1168</td>\n",
       "      <td>0</td>\n",
       "      <td>0</td>\n",
       "      <td>26</td>\n",
       "      <td>70211</td>\n",
       "    </tr>\n",
       "    <tr>\n",
       "      <th>2</th>\n",
       "      <td>9</td>\n",
       "      <td>12772</td>\n",
       "      <td>64102</td>\n",
       "      <td>891</td>\n",
       "      <td>1</td>\n",
       "      <td>791</td>\n",
       "      <td>1</td>\n",
       "      <td>1</td>\n",
       "      <td>156</td>\n",
       "      <td>78724</td>\n",
       "    </tr>\n",
       "    <tr>\n",
       "      <th>3</th>\n",
       "      <td>3</td>\n",
       "      <td>10238</td>\n",
       "      <td>31530</td>\n",
       "      <td>3453</td>\n",
       "      <td>1</td>\n",
       "      <td>4202</td>\n",
       "      <td>0</td>\n",
       "      <td>1</td>\n",
       "      <td>199</td>\n",
       "      <td>49627</td>\n",
       "    </tr>\n",
       "    <tr>\n",
       "      <th>4</th>\n",
       "      <td>1</td>\n",
       "      <td>1448</td>\n",
       "      <td>8257</td>\n",
       "      <td>385</td>\n",
       "      <td>0</td>\n",
       "      <td>410</td>\n",
       "      <td>1</td>\n",
       "      <td>0</td>\n",
       "      <td>95</td>\n",
       "      <td>10597</td>\n",
       "    </tr>\n",
       "    <tr>\n",
       "      <th>5</th>\n",
       "      <td>2</td>\n",
       "      <td>5033</td>\n",
       "      <td>15364</td>\n",
       "      <td>3773</td>\n",
       "      <td>1</td>\n",
       "      <td>6940</td>\n",
       "      <td>0</td>\n",
       "      <td>0</td>\n",
       "      <td>512</td>\n",
       "      <td>31625</td>\n",
       "    </tr>\n",
       "    <tr>\n",
       "      <th>6</th>\n",
       "      <td>1</td>\n",
       "      <td>233</td>\n",
       "      <td>1702</td>\n",
       "      <td>164</td>\n",
       "      <td>0</td>\n",
       "      <td>293</td>\n",
       "      <td>0</td>\n",
       "      <td>0</td>\n",
       "      <td>65</td>\n",
       "      <td>2458</td>\n",
       "    </tr>\n",
       "    <tr>\n",
       "      <th>7</th>\n",
       "      <td>1</td>\n",
       "      <td>1220</td>\n",
       "      <td>4312</td>\n",
       "      <td>1054</td>\n",
       "      <td>0</td>\n",
       "      <td>2124</td>\n",
       "      <td>0</td>\n",
       "      <td>0</td>\n",
       "      <td>529</td>\n",
       "      <td>9240</td>\n",
       "    </tr>\n",
       "    <tr>\n",
       "      <th>8</th>\n",
       "      <td>0</td>\n",
       "      <td>211</td>\n",
       "      <td>588</td>\n",
       "      <td>597</td>\n",
       "      <td>0</td>\n",
       "      <td>2472</td>\n",
       "      <td>0</td>\n",
       "      <td>1</td>\n",
       "      <td>422</td>\n",
       "      <td>4291</td>\n",
       "    </tr>\n",
       "    <tr>\n",
       "      <th>9</th>\n",
       "      <td>0</td>\n",
       "      <td>264</td>\n",
       "      <td>1167</td>\n",
       "      <td>277</td>\n",
       "      <td>0</td>\n",
       "      <td>452</td>\n",
       "      <td>0</td>\n",
       "      <td>0</td>\n",
       "      <td>344</td>\n",
       "      <td>2504</td>\n",
       "    </tr>\n",
       "    <tr>\n",
       "      <th>10</th>\n",
       "      <td>1</td>\n",
       "      <td>298</td>\n",
       "      <td>1035</td>\n",
       "      <td>422</td>\n",
       "      <td>2</td>\n",
       "      <td>2407</td>\n",
       "      <td>0</td>\n",
       "      <td>1</td>\n",
       "      <td>1839</td>\n",
       "      <td>6005</td>\n",
       "    </tr>\n",
       "    <tr>\n",
       "      <th>All</th>\n",
       "      <td>46</td>\n",
       "      <td>58406</td>\n",
       "      <td>190013</td>\n",
       "      <td>12542</td>\n",
       "      <td>6</td>\n",
       "      <td>21286</td>\n",
       "      <td>2</td>\n",
       "      <td>4</td>\n",
       "      <td>4187</td>\n",
       "      <td>286492</td>\n",
       "    </tr>\n",
       "  </tbody>\n",
       "</table>\n",
       "</div>"
      ],
      "text/plain": [
       "Predicted   0      1       2      3  4      5  6  8    10     All\n",
       "True                                                             \n",
       "0          22   6970   13921    269  1     27  0  0     0   21210\n",
       "1           6  19719   48035   1257  0   1168  0  0    26   70211\n",
       "2           9  12772   64102    891  1    791  1  1   156   78724\n",
       "3           3  10238   31530   3453  1   4202  0  1   199   49627\n",
       "4           1   1448    8257    385  0    410  1  0    95   10597\n",
       "5           2   5033   15364   3773  1   6940  0  0   512   31625\n",
       "6           1    233    1702    164  0    293  0  0    65    2458\n",
       "7           1   1220    4312   1054  0   2124  0  0   529    9240\n",
       "8           0    211     588    597  0   2472  0  1   422    4291\n",
       "9           0    264    1167    277  0    452  0  0   344    2504\n",
       "10          1    298    1035    422  2   2407  0  1  1839    6005\n",
       "All        46  58406  190013  12542  6  21286  2  4  4187  286492"
      ]
     },
     "execution_count": 27,
     "metadata": {},
     "output_type": "execute_result"
    }
   ],
   "source": [
    "#Doesn't predict 7 or 9\n",
    "pd.crosstab(y_train, y_train_pred_nb, rownames=['True'], colnames=['Predicted'], margins=True)"
   ]
  },
  {
   "cell_type": "code",
   "execution_count": 28,
   "metadata": {},
   "outputs": [
    {
     "data": {
      "text/plain": [
       "0.335"
      ]
     },
     "execution_count": 28,
     "metadata": {},
     "output_type": "execute_result"
    }
   ],
   "source": [
    "#Comparing actual vs predicted values\n",
    "#On average, can predict correctly 33.5% of the time\n",
    "accuracy = accuracy_score(y_true=y_train, y_pred=y_train_pred_nb)\n",
    "accuracy.round(3)"
   ]
  },
  {
   "cell_type": "code",
   "execution_count": 29,
   "metadata": {},
   "outputs": [
    {
     "name": "stderr",
     "output_type": "stream",
     "text": [
      "/Users/dannica/opt/anaconda3/lib/python3.8/site-packages/sklearn/metrics/_classification.py:1221: UndefinedMetricWarning: Precision is ill-defined and being set to 0.0 in labels with no predicted samples. Use `zero_division` parameter to control this behavior.\n",
      "  _warn_prf(average, modifier, msg_start, len(result))\n"
     ]
    },
    {
     "data": {
      "text/plain": [
       "array([0.478, 0.338, 0.337, 0.275, 0.   , 0.326, 0.   , 0.   , 0.25 ,\n",
       "       0.   , 0.439])"
      ]
     },
     "execution_count": 29,
     "metadata": {},
     "output_type": "execute_result"
    }
   ],
   "source": [
    "#47.8% classified 0 stay, actually were 0 stay...\n",
    "precision = precision_score(y_true=y_train, y_pred=y_train_pred_nb, average = None)\n",
    "precision.round(3)"
   ]
  },
  {
   "cell_type": "code",
   "execution_count": 30,
   "metadata": {},
   "outputs": [
    {
     "data": {
      "text/plain": [
       "array([0.001, 0.281, 0.814, 0.07 , 0.   , 0.219, 0.   , 0.   , 0.   ,\n",
       "       0.   , 0.306])"
      ]
     },
     "execution_count": 30,
     "metadata": {},
     "output_type": "execute_result"
    }
   ],
   "source": [
    "#0.1% of the things that are actually 0 stay, we were able to correctly categorize...\n",
    "recall = recall_score(y_true=y_train, y_pred=y_train_pred_nb, average = None)\n",
    "recall.round(3)"
   ]
  },
  {
   "cell_type": "markdown",
   "metadata": {},
   "source": [
    "## Naive Bayes - Test"
   ]
  },
  {
   "cell_type": "code",
   "execution_count": 31,
   "metadata": {},
   "outputs": [
    {
     "data": {
      "text/plain": [
       "array([[   1,  768, 1588,   34,    0,    1,    0,    0,    0,    0,    0],\n",
       "       [   0, 2241, 5368,  173,    0,  125,    0,    0,    0,    0,    2],\n",
       "       [   1, 1352, 7162,  115,    0,   89,    0,    0,    0,    0,   11],\n",
       "       [   1, 1099, 3488,  417,    0,  482,    0,    0,    0,    0,   23],\n",
       "       [   0,  143,  906,   35,    0,   43,    0,    0,    0,    0,   11],\n",
       "       [   0,  515, 1678,  395,    0,  734,    0,    0,    0,    0,   58],\n",
       "       [   0,   30,  187,   29,    0,   28,    0,    0,    0,    0,    8],\n",
       "       [   0,  139,  479,  119,    0,  223,    0,    0,    0,    0,   50],\n",
       "       [   0,   29,   67,   68,    0,  323,    0,    0,    0,    0,   59],\n",
       "       [   0,   29,  132,   23,    0,   50,    0,    0,    0,    0,   26],\n",
       "       [   0,   27,  115,   45,    0,  279,    0,    0,    1,    0,  209]])"
      ]
     },
     "execution_count": 31,
     "metadata": {},
     "output_type": "execute_result"
    }
   ],
   "source": [
    "y_test_pred_nb = nb.predict(X_test)\n",
    "confusion_matrix(y_test,y_test_pred_nb)"
   ]
  },
  {
   "cell_type": "code",
   "execution_count": 32,
   "metadata": {},
   "outputs": [
    {
     "data": {
      "text/html": [
       "<div>\n",
       "<style scoped>\n",
       "    .dataframe tbody tr th:only-of-type {\n",
       "        vertical-align: middle;\n",
       "    }\n",
       "\n",
       "    .dataframe tbody tr th {\n",
       "        vertical-align: top;\n",
       "    }\n",
       "\n",
       "    .dataframe thead th {\n",
       "        text-align: right;\n",
       "    }\n",
       "</style>\n",
       "<table border=\"1\" class=\"dataframe\">\n",
       "  <thead>\n",
       "    <tr style=\"text-align: right;\">\n",
       "      <th>Predicted</th>\n",
       "      <th>0</th>\n",
       "      <th>1</th>\n",
       "      <th>2</th>\n",
       "      <th>3</th>\n",
       "      <th>5</th>\n",
       "      <th>8</th>\n",
       "      <th>10</th>\n",
       "      <th>All</th>\n",
       "    </tr>\n",
       "    <tr>\n",
       "      <th>True</th>\n",
       "      <th></th>\n",
       "      <th></th>\n",
       "      <th></th>\n",
       "      <th></th>\n",
       "      <th></th>\n",
       "      <th></th>\n",
       "      <th></th>\n",
       "      <th></th>\n",
       "    </tr>\n",
       "  </thead>\n",
       "  <tbody>\n",
       "    <tr>\n",
       "      <th>0</th>\n",
       "      <td>1</td>\n",
       "      <td>768</td>\n",
       "      <td>1588</td>\n",
       "      <td>34</td>\n",
       "      <td>1</td>\n",
       "      <td>0</td>\n",
       "      <td>0</td>\n",
       "      <td>2392</td>\n",
       "    </tr>\n",
       "    <tr>\n",
       "      <th>1</th>\n",
       "      <td>0</td>\n",
       "      <td>2241</td>\n",
       "      <td>5368</td>\n",
       "      <td>173</td>\n",
       "      <td>125</td>\n",
       "      <td>0</td>\n",
       "      <td>2</td>\n",
       "      <td>7909</td>\n",
       "    </tr>\n",
       "    <tr>\n",
       "      <th>2</th>\n",
       "      <td>1</td>\n",
       "      <td>1352</td>\n",
       "      <td>7162</td>\n",
       "      <td>115</td>\n",
       "      <td>89</td>\n",
       "      <td>0</td>\n",
       "      <td>11</td>\n",
       "      <td>8730</td>\n",
       "    </tr>\n",
       "    <tr>\n",
       "      <th>3</th>\n",
       "      <td>1</td>\n",
       "      <td>1099</td>\n",
       "      <td>3488</td>\n",
       "      <td>417</td>\n",
       "      <td>482</td>\n",
       "      <td>0</td>\n",
       "      <td>23</td>\n",
       "      <td>5510</td>\n",
       "    </tr>\n",
       "    <tr>\n",
       "      <th>4</th>\n",
       "      <td>0</td>\n",
       "      <td>143</td>\n",
       "      <td>906</td>\n",
       "      <td>35</td>\n",
       "      <td>43</td>\n",
       "      <td>0</td>\n",
       "      <td>11</td>\n",
       "      <td>1138</td>\n",
       "    </tr>\n",
       "    <tr>\n",
       "      <th>5</th>\n",
       "      <td>0</td>\n",
       "      <td>515</td>\n",
       "      <td>1678</td>\n",
       "      <td>395</td>\n",
       "      <td>734</td>\n",
       "      <td>0</td>\n",
       "      <td>58</td>\n",
       "      <td>3380</td>\n",
       "    </tr>\n",
       "    <tr>\n",
       "      <th>6</th>\n",
       "      <td>0</td>\n",
       "      <td>30</td>\n",
       "      <td>187</td>\n",
       "      <td>29</td>\n",
       "      <td>28</td>\n",
       "      <td>0</td>\n",
       "      <td>8</td>\n",
       "      <td>282</td>\n",
       "    </tr>\n",
       "    <tr>\n",
       "      <th>7</th>\n",
       "      <td>0</td>\n",
       "      <td>139</td>\n",
       "      <td>479</td>\n",
       "      <td>119</td>\n",
       "      <td>223</td>\n",
       "      <td>0</td>\n",
       "      <td>50</td>\n",
       "      <td>1010</td>\n",
       "    </tr>\n",
       "    <tr>\n",
       "      <th>8</th>\n",
       "      <td>0</td>\n",
       "      <td>29</td>\n",
       "      <td>67</td>\n",
       "      <td>68</td>\n",
       "      <td>323</td>\n",
       "      <td>0</td>\n",
       "      <td>59</td>\n",
       "      <td>546</td>\n",
       "    </tr>\n",
       "    <tr>\n",
       "      <th>9</th>\n",
       "      <td>0</td>\n",
       "      <td>29</td>\n",
       "      <td>132</td>\n",
       "      <td>23</td>\n",
       "      <td>50</td>\n",
       "      <td>0</td>\n",
       "      <td>26</td>\n",
       "      <td>260</td>\n",
       "    </tr>\n",
       "    <tr>\n",
       "      <th>10</th>\n",
       "      <td>0</td>\n",
       "      <td>27</td>\n",
       "      <td>115</td>\n",
       "      <td>45</td>\n",
       "      <td>279</td>\n",
       "      <td>1</td>\n",
       "      <td>209</td>\n",
       "      <td>676</td>\n",
       "    </tr>\n",
       "    <tr>\n",
       "      <th>All</th>\n",
       "      <td>3</td>\n",
       "      <td>6372</td>\n",
       "      <td>21170</td>\n",
       "      <td>1453</td>\n",
       "      <td>2377</td>\n",
       "      <td>1</td>\n",
       "      <td>457</td>\n",
       "      <td>31833</td>\n",
       "    </tr>\n",
       "  </tbody>\n",
       "</table>\n",
       "</div>"
      ],
      "text/plain": [
       "Predicted  0     1      2     3     5  8   10    All\n",
       "True                                                \n",
       "0          1   768   1588    34     1  0    0   2392\n",
       "1          0  2241   5368   173   125  0    2   7909\n",
       "2          1  1352   7162   115    89  0   11   8730\n",
       "3          1  1099   3488   417   482  0   23   5510\n",
       "4          0   143    906    35    43  0   11   1138\n",
       "5          0   515   1678   395   734  0   58   3380\n",
       "6          0    30    187    29    28  0    8    282\n",
       "7          0   139    479   119   223  0   50   1010\n",
       "8          0    29     67    68   323  0   59    546\n",
       "9          0    29    132    23    50  0   26    260\n",
       "10         0    27    115    45   279  1  209    676\n",
       "All        3  6372  21170  1453  2377  1  457  31833"
      ]
     },
     "execution_count": 32,
     "metadata": {},
     "output_type": "execute_result"
    }
   ],
   "source": [
    "#Doesn't predict 4, 6, 7, 9\n",
    "pd.crosstab(y_test, y_test_pred_nb, rownames=['True'], colnames=['Predicted'], margins=True)"
   ]
  },
  {
   "cell_type": "code",
   "execution_count": 33,
   "metadata": {},
   "outputs": [
    {
     "data": {
      "text/plain": [
       "0.338"
      ]
     },
     "execution_count": 33,
     "metadata": {},
     "output_type": "execute_result"
    }
   ],
   "source": [
    "#Comparing actual vs predicted values\n",
    "#On average, can predict correctly 33.8% of the time\n",
    "accuracy = accuracy_score(y_true=y_test, y_pred=y_test_pred_nb)\n",
    "accuracy.round(3)"
   ]
  },
  {
   "cell_type": "code",
   "execution_count": 34,
   "metadata": {},
   "outputs": [
    {
     "name": "stderr",
     "output_type": "stream",
     "text": [
      "/Users/dannica/opt/anaconda3/lib/python3.8/site-packages/sklearn/metrics/_classification.py:1221: UndefinedMetricWarning: Precision is ill-defined and being set to 0.0 in labels with no predicted samples. Use `zero_division` parameter to control this behavior.\n",
      "  _warn_prf(average, modifier, msg_start, len(result))\n"
     ]
    },
    {
     "data": {
      "text/plain": [
       "array([0.333, 0.352, 0.338, 0.287, 0.   , 0.309, 0.   , 0.   , 0.   ,\n",
       "       0.   , 0.457])"
      ]
     },
     "execution_count": 34,
     "metadata": {},
     "output_type": "execute_result"
    }
   ],
   "source": [
    "#33.3% classified 0 stay, actually were 0 stay...\n",
    "precision = precision_score(y_true=y_test, y_pred=y_test_pred_nb, average = None)\n",
    "precision.round(3)"
   ]
  },
  {
   "cell_type": "code",
   "execution_count": 35,
   "metadata": {},
   "outputs": [
    {
     "data": {
      "text/plain": [
       "array([0.   , 0.283, 0.82 , 0.076, 0.   , 0.217, 0.   , 0.   , 0.   ,\n",
       "       0.   , 0.309])"
      ]
     },
     "execution_count": 35,
     "metadata": {},
     "output_type": "execute_result"
    }
   ],
   "source": [
    "#0% of the things that are actually 0 stay, we were able to correctly categorize...\n",
    "recall = recall_score(y_true=y_test, y_pred=y_test_pred_nb, average = None)\n",
    "recall.round(3)"
   ]
  },
  {
   "cell_type": "markdown",
   "metadata": {},
   "source": [
    "## Decide Max Depth"
   ]
  },
  {
   "cell_type": "code",
   "execution_count": 37,
   "metadata": {},
   "outputs": [
    {
     "name": "stdout",
     "output_type": "stream",
     "text": [
      "DEPTH: 1\tACCURACY: 0.304\n",
      "DEPTH: 2\tACCURACY: 0.354\n",
      "DEPTH: 3\tACCURACY: 0.367\n",
      "DEPTH: 4\tACCURACY: 0.38\n",
      "DEPTH: 5\tACCURACY: 0.392\n",
      "DEPTH: 6\tACCURACY: 0.394\n",
      "DEPTH: 7\tACCURACY: 0.402\n",
      "DEPTH: 8\tACCURACY: 0.407\n",
      "DEPTH: 9\tACCURACY: 0.412\n",
      "DEPTH: 10\tACCURACY: 0.419\n",
      "DEPTH: 11\tACCURACY: 0.428\n",
      "DEPTH: 12\tACCURACY: 0.44\n",
      "DEPTH: 13\tACCURACY: 0.455\n",
      "DEPTH: 14\tACCURACY: 0.474\n",
      "DEPTH: 15\tACCURACY: 0.498\n",
      "DEPTH: 16\tACCURACY: 0.526\n",
      "DEPTH: 17\tACCURACY: 0.557\n",
      "DEPTH: 18\tACCURACY: 0.592\n",
      "DEPTH: 19\tACCURACY: 0.63\n",
      "DEPTH: 20\tACCURACY: 0.67\n",
      "DEPTH: 21\tACCURACY: 0.709\n",
      "DEPTH: 22\tACCURACY: 0.748\n",
      "DEPTH: 23\tACCURACY: 0.784\n",
      "DEPTH: 24\tACCURACY: 0.818\n",
      "DEPTH: 25\tACCURACY: 0.848\n",
      "DEPTH: 26\tACCURACY: 0.874\n",
      "DEPTH: 27\tACCURACY: 0.897\n",
      "DEPTH: 28\tACCURACY: 0.916\n",
      "DEPTH: 29\tACCURACY: 0.932\n",
      "DEPTH: 30\tACCURACY: 0.946\n",
      "DEPTH: 31\tACCURACY: 0.957\n",
      "DEPTH: 32\tACCURACY: 0.967\n",
      "DEPTH: 33\tACCURACY: 0.974\n",
      "DEPTH: 34\tACCURACY: 0.98\n",
      "DEPTH: 35\tACCURACY: 0.985\n",
      "DEPTH: 36\tACCURACY: 0.989\n",
      "DEPTH: 37\tACCURACY: 0.991\n",
      "DEPTH: 38\tACCURACY: 0.994\n",
      "DEPTH: 39\tACCURACY: 0.995\n"
     ]
    }
   ],
   "source": [
    "for x in range(1,40):\n",
    "    class_tree = DecisionTreeClassifier(max_depth=x)\n",
    "    class_tree.fit(X_train, y_train)\n",
    "    y_train_pred = class_tree.predict(X_train)\n",
    "    accuracy = accuracy_score(y_true=y_train, y_pred=y_train_pred)\n",
    "    accuracy.round(3)\n",
    "    print('DEPTH: '+str(x)+\"\\t\"+'ACCURACY: '+str((accuracy.round(3))))"
   ]
  },
  {
   "cell_type": "markdown",
   "metadata": {},
   "source": [
    "## Different features"
   ]
  },
  {
   "cell_type": "code",
   "execution_count": 38,
   "metadata": {},
   "outputs": [],
   "source": [
    "training_features = ['num_visitors','ward_type','deposit','bed_grade','admission_type']\n",
    "X=health_cleaned[training_features]\n",
    "y=health_cleaned['stay']"
   ]
  },
  {
   "cell_type": "code",
   "execution_count": 39,
   "metadata": {},
   "outputs": [],
   "source": [
    "from sklearn.model_selection import train_test_split\n",
    "X_train, X_test, y_train, y_test = train_test_split(X, y, test_size=.10, random_state=42)"
   ]
  },
  {
   "cell_type": "code",
   "execution_count": 40,
   "metadata": {},
   "outputs": [
    {
     "name": "stdout",
     "output_type": "stream",
     "text": [
      "DEPTH: 39\tACCURACY: 0.409\n"
     ]
    }
   ],
   "source": [
    "class_tree = DecisionTreeClassifier(max_depth=11)\n",
    "class_tree.fit(X_train, y_train)\n",
    "y_train_pred = class_tree.predict(X_train)\n",
    "accuracy = accuracy_score(y_true=y_train, y_pred=y_train_pred)\n",
    "accuracy.round(3)\n",
    "print('DEPTH: '+str(x)+\"\\t\"+'ACCURACY: '+str((accuracy.round(3))))"
   ]
  },
  {
   "cell_type": "markdown",
   "metadata": {},
   "source": [
    "## Predict Stay 1-3"
   ]
  },
  {
   "cell_type": "code",
   "execution_count": 41,
   "metadata": {},
   "outputs": [
    {
     "data": {
      "text/html": [
       "<div>\n",
       "<style scoped>\n",
       "    .dataframe tbody tr th:only-of-type {\n",
       "        vertical-align: middle;\n",
       "    }\n",
       "\n",
       "    .dataframe tbody tr th {\n",
       "        vertical-align: top;\n",
       "    }\n",
       "\n",
       "    .dataframe thead th {\n",
       "        text-align: right;\n",
       "    }\n",
       "</style>\n",
       "<table border=\"1\" class=\"dataframe\">\n",
       "  <thead>\n",
       "    <tr style=\"text-align: right;\">\n",
       "      <th></th>\n",
       "      <th>hosp_code</th>\n",
       "      <th>hosp_type</th>\n",
       "      <th>city_code</th>\n",
       "      <th>hosp_region</th>\n",
       "      <th>rooms_available</th>\n",
       "      <th>department</th>\n",
       "      <th>ward_type</th>\n",
       "      <th>ward_code</th>\n",
       "      <th>bed_grade</th>\n",
       "      <th>patient_id</th>\n",
       "      <th>admission_type</th>\n",
       "      <th>severity</th>\n",
       "      <th>num_visitors</th>\n",
       "      <th>age</th>\n",
       "      <th>deposit</th>\n",
       "      <th>stay</th>\n",
       "    </tr>\n",
       "  </thead>\n",
       "  <tbody>\n",
       "    <tr>\n",
       "      <th>2</th>\n",
       "      <td>10</td>\n",
       "      <td>1</td>\n",
       "      <td>1</td>\n",
       "      <td>1</td>\n",
       "      <td>2</td>\n",
       "      <td>1</td>\n",
       "      <td>1</td>\n",
       "      <td>1</td>\n",
       "      <td>2</td>\n",
       "      <td>31397</td>\n",
       "      <td>1</td>\n",
       "      <td>0</td>\n",
       "      <td>2</td>\n",
       "      <td>5</td>\n",
       "      <td>4745</td>\n",
       "      <td>3</td>\n",
       "    </tr>\n",
       "    <tr>\n",
       "      <th>5</th>\n",
       "      <td>23</td>\n",
       "      <td>3</td>\n",
       "      <td>6</td>\n",
       "      <td>1</td>\n",
       "      <td>2</td>\n",
       "      <td>1</td>\n",
       "      <td>1</td>\n",
       "      <td>0</td>\n",
       "      <td>2</td>\n",
       "      <td>31397</td>\n",
       "      <td>1</td>\n",
       "      <td>0</td>\n",
       "      <td>2</td>\n",
       "      <td>5</td>\n",
       "      <td>4449</td>\n",
       "      <td>1</td>\n",
       "    </tr>\n",
       "    <tr>\n",
       "      <th>9</th>\n",
       "      <td>10</td>\n",
       "      <td>1</td>\n",
       "      <td>1</td>\n",
       "      <td>1</td>\n",
       "      <td>2</td>\n",
       "      <td>2</td>\n",
       "      <td>1</td>\n",
       "      <td>1</td>\n",
       "      <td>3</td>\n",
       "      <td>31397</td>\n",
       "      <td>1</td>\n",
       "      <td>0</td>\n",
       "      <td>2</td>\n",
       "      <td>5</td>\n",
       "      <td>6056</td>\n",
       "      <td>3</td>\n",
       "    </tr>\n",
       "    <tr>\n",
       "      <th>10</th>\n",
       "      <td>22</td>\n",
       "      <td>6</td>\n",
       "      <td>9</td>\n",
       "      <td>2</td>\n",
       "      <td>2</td>\n",
       "      <td>0</td>\n",
       "      <td>1</td>\n",
       "      <td>3</td>\n",
       "      <td>2</td>\n",
       "      <td>31397</td>\n",
       "      <td>2</td>\n",
       "      <td>0</td>\n",
       "      <td>2</td>\n",
       "      <td>5</td>\n",
       "      <td>5797</td>\n",
       "      <td>2</td>\n",
       "    </tr>\n",
       "    <tr>\n",
       "      <th>11</th>\n",
       "      <td>26</td>\n",
       "      <td>2</td>\n",
       "      <td>2</td>\n",
       "      <td>2</td>\n",
       "      <td>4</td>\n",
       "      <td>0</td>\n",
       "      <td>0</td>\n",
       "      <td>2</td>\n",
       "      <td>1</td>\n",
       "      <td>31397</td>\n",
       "      <td>2</td>\n",
       "      <td>0</td>\n",
       "      <td>2</td>\n",
       "      <td>5</td>\n",
       "      <td>5993</td>\n",
       "      <td>1</td>\n",
       "    </tr>\n",
       "    <tr>\n",
       "      <th>...</th>\n",
       "      <td>...</td>\n",
       "      <td>...</td>\n",
       "      <td>...</td>\n",
       "      <td>...</td>\n",
       "      <td>...</td>\n",
       "      <td>...</td>\n",
       "      <td>...</td>\n",
       "      <td>...</td>\n",
       "      <td>...</td>\n",
       "      <td>...</td>\n",
       "      <td>...</td>\n",
       "      <td>...</td>\n",
       "      <td>...</td>\n",
       "      <td>...</td>\n",
       "      <td>...</td>\n",
       "      <td>...</td>\n",
       "    </tr>\n",
       "    <tr>\n",
       "      <th>318319</th>\n",
       "      <td>26</td>\n",
       "      <td>2</td>\n",
       "      <td>2</td>\n",
       "      <td>2</td>\n",
       "      <td>2</td>\n",
       "      <td>1</td>\n",
       "      <td>0</td>\n",
       "      <td>2</td>\n",
       "      <td>3</td>\n",
       "      <td>36018</td>\n",
       "      <td>0</td>\n",
       "      <td>2</td>\n",
       "      <td>3</td>\n",
       "      <td>1</td>\n",
       "      <td>8308</td>\n",
       "      <td>2</td>\n",
       "    </tr>\n",
       "    <tr>\n",
       "      <th>318320</th>\n",
       "      <td>6</td>\n",
       "      <td>3</td>\n",
       "      <td>6</td>\n",
       "      <td>1</td>\n",
       "      <td>3</td>\n",
       "      <td>0</td>\n",
       "      <td>2</td>\n",
       "      <td>0</td>\n",
       "      <td>4</td>\n",
       "      <td>86499</td>\n",
       "      <td>0</td>\n",
       "      <td>1</td>\n",
       "      <td>3</td>\n",
       "      <td>4</td>\n",
       "      <td>4144</td>\n",
       "      <td>1</td>\n",
       "    </tr>\n",
       "    <tr>\n",
       "      <th>318321</th>\n",
       "      <td>24</td>\n",
       "      <td>3</td>\n",
       "      <td>1</td>\n",
       "      <td>1</td>\n",
       "      <td>2</td>\n",
       "      <td>1</td>\n",
       "      <td>2</td>\n",
       "      <td>1</td>\n",
       "      <td>4</td>\n",
       "      <td>325</td>\n",
       "      <td>2</td>\n",
       "      <td>1</td>\n",
       "      <td>4</td>\n",
       "      <td>8</td>\n",
       "      <td>6699</td>\n",
       "      <td>3</td>\n",
       "    </tr>\n",
       "    <tr>\n",
       "      <th>318322</th>\n",
       "      <td>7</td>\n",
       "      <td>3</td>\n",
       "      <td>4</td>\n",
       "      <td>1</td>\n",
       "      <td>3</td>\n",
       "      <td>2</td>\n",
       "      <td>0</td>\n",
       "      <td>0</td>\n",
       "      <td>4</td>\n",
       "      <td>125235</td>\n",
       "      <td>0</td>\n",
       "      <td>2</td>\n",
       "      <td>3</td>\n",
       "      <td>7</td>\n",
       "      <td>4235</td>\n",
       "      <td>1</td>\n",
       "    </tr>\n",
       "    <tr>\n",
       "      <th>318323</th>\n",
       "      <td>11</td>\n",
       "      <td>2</td>\n",
       "      <td>2</td>\n",
       "      <td>2</td>\n",
       "      <td>3</td>\n",
       "      <td>1</td>\n",
       "      <td>2</td>\n",
       "      <td>2</td>\n",
       "      <td>3</td>\n",
       "      <td>91081</td>\n",
       "      <td>1</td>\n",
       "      <td>2</td>\n",
       "      <td>5</td>\n",
       "      <td>1</td>\n",
       "      <td>3761</td>\n",
       "      <td>1</td>\n",
       "    </tr>\n",
       "  </tbody>\n",
       "</table>\n",
       "<p>220711 rows × 16 columns</p>\n",
       "</div>"
      ],
      "text/plain": [
       "        hosp_code  hosp_type  city_code  hosp_region  rooms_available  \\\n",
       "2              10          1          1            1                2   \n",
       "5              23          3          6            1                2   \n",
       "9              10          1          1            1                2   \n",
       "10             22          6          9            2                2   \n",
       "11             26          2          2            2                4   \n",
       "...           ...        ...        ...          ...              ...   \n",
       "318319         26          2          2            2                2   \n",
       "318320          6          3          6            1                3   \n",
       "318321         24          3          1            1                2   \n",
       "318322          7          3          4            1                3   \n",
       "318323         11          2          2            2                3   \n",
       "\n",
       "        department  ward_type  ward_code  bed_grade  patient_id  \\\n",
       "2                1          1          1          2       31397   \n",
       "5                1          1          0          2       31397   \n",
       "9                2          1          1          3       31397   \n",
       "10               0          1          3          2       31397   \n",
       "11               0          0          2          1       31397   \n",
       "...            ...        ...        ...        ...         ...   \n",
       "318319           1          0          2          3       36018   \n",
       "318320           0          2          0          4       86499   \n",
       "318321           1          2          1          4         325   \n",
       "318322           2          0          0          4      125235   \n",
       "318323           1          2          2          3       91081   \n",
       "\n",
       "        admission_type  severity  num_visitors  age  deposit  stay  \n",
       "2                    1         0             2    5     4745     3  \n",
       "5                    1         0             2    5     4449     1  \n",
       "9                    1         0             2    5     6056     3  \n",
       "10                   2         0             2    5     5797     2  \n",
       "11                   2         0             2    5     5993     1  \n",
       "...                ...       ...           ...  ...      ...   ...  \n",
       "318319               0         2             3    1     8308     2  \n",
       "318320               0         1             3    4     4144     1  \n",
       "318321               2         1             4    8     6699     3  \n",
       "318322               0         2             3    7     4235     1  \n",
       "318323               1         2             5    1     3761     1  \n",
       "\n",
       "[220711 rows x 16 columns]"
      ]
     },
     "execution_count": 41,
     "metadata": {},
     "output_type": "execute_result"
    }
   ],
   "source": [
    "stay123 = health_cleaned[health_cleaned['stay'].isin([1, 2, 3])]\n",
    "stay123"
   ]
  },
  {
   "cell_type": "code",
   "execution_count": 44,
   "metadata": {},
   "outputs": [],
   "source": [
    "X=stay123.drop('stay',axis=1)\n",
    "y=stay123['stay']"
   ]
  },
  {
   "cell_type": "code",
   "execution_count": 45,
   "metadata": {},
   "outputs": [],
   "source": [
    "from sklearn.model_selection import train_test_split\n",
    "X_train, X_test, y_train, y_test = train_test_split(X, y, test_size=.10, random_state=42)"
   ]
  },
  {
   "cell_type": "code",
   "execution_count": 46,
   "metadata": {},
   "outputs": [
    {
     "name": "stdout",
     "output_type": "stream",
     "text": [
      "DEPTH: 11\tACCURACY: 0.558\n"
     ]
    }
   ],
   "source": [
    "from sklearn.tree import DecisionTreeClassifier\n",
    "class_tree = DecisionTreeClassifier(max_depth=11)\n",
    "class_tree.fit(X_train, y_train)\n",
    "y_train_pred = class_tree.predict(X_train)\n",
    "from sklearn.metrics import accuracy_score\n",
    "accuracy = accuracy_score(y_true=y_train, y_pred=y_train_pred)\n",
    "accuracy.round(3)\n",
    "print('DEPTH: '+str(11)+\"\\t\"+'ACCURACY: '+str((accuracy.round(3))))"
   ]
  },
  {
   "cell_type": "code",
   "execution_count": 47,
   "metadata": {},
   "outputs": [
    {
     "data": {
      "text/plain": [
       "hosp_code          0\n",
       "hosp_type          0\n",
       "city_code          0\n",
       "hosp_region        0\n",
       "rooms_available    0\n",
       "department         0\n",
       "ward_type          0\n",
       "ward_code          0\n",
       "bed_grade          0\n",
       "patient_id         0\n",
       "admission_type     0\n",
       "severity           0\n",
       "num_visitors       0\n",
       "age                0\n",
       "deposit            0\n",
       "stay               0\n",
       "dtype: int64"
      ]
     },
     "execution_count": 47,
     "metadata": {},
     "output_type": "execute_result"
    }
   ],
   "source": [
    "health_cleaned.isnull().sum()"
   ]
  },
  {
   "cell_type": "markdown",
   "metadata": {},
   "source": [
    "## Change stay 4-10, to 4"
   ]
  },
  {
   "cell_type": "code",
   "execution_count": 48,
   "metadata": {},
   "outputs": [
    {
     "data": {
      "text/plain": [
       "array([ 0,  4,  3,  1,  5,  2,  7, 10,  8,  6,  9])"
      ]
     },
     "execution_count": 48,
     "metadata": {},
     "output_type": "execute_result"
    }
   ],
   "source": [
    "health_cleaned.stay.unique()"
   ]
  },
  {
   "cell_type": "code",
   "execution_count": 49,
   "metadata": {},
   "outputs": [],
   "source": [
    "health_cleaned['stay'] = health_cleaned['stay'].replace([4,5,6,7,8,9,10],4)"
   ]
  },
  {
   "cell_type": "code",
   "execution_count": 50,
   "metadata": {},
   "outputs": [
    {
     "data": {
      "text/plain": [
       "array([0, 4, 3, 1, 2])"
      ]
     },
     "execution_count": 50,
     "metadata": {},
     "output_type": "execute_result"
    }
   ],
   "source": [
    "health_cleaned.stay.unique()"
   ]
  },
  {
   "cell_type": "code",
   "execution_count": 52,
   "metadata": {},
   "outputs": [],
   "source": [
    "X=health_cleaned.drop('stay',axis=1)\n",
    "y=health_cleaned['stay']"
   ]
  },
  {
   "cell_type": "code",
   "execution_count": 53,
   "metadata": {},
   "outputs": [],
   "source": [
    "from sklearn.model_selection import train_test_split\n",
    "X_train, X_test, y_train, y_test = train_test_split(X, y, test_size=.10, random_state=42)"
   ]
  },
  {
   "cell_type": "code",
   "execution_count": 54,
   "metadata": {},
   "outputs": [
    {
     "name": "stdout",
     "output_type": "stream",
     "text": [
      "DEPTH: 11\tACCURACY: 0.484\n"
     ]
    }
   ],
   "source": [
    "from sklearn.tree import DecisionTreeClassifier\n",
    "class_tree = DecisionTreeClassifier(max_depth=11)\n",
    "class_tree.fit(X_train, y_train)\n",
    "y_train_pred = class_tree.predict(X_train)\n",
    "from sklearn.metrics import accuracy_score\n",
    "accuracy = accuracy_score(y_true=y_train, y_pred=y_train_pred)\n",
    "accuracy.round(3)\n",
    "print('DEPTH: '+str(11)+\"\\t\"+'ACCURACY: '+str((accuracy.round(3))))"
   ]
  },
  {
   "cell_type": "code",
   "execution_count": 55,
   "metadata": {},
   "outputs": [
    {
     "name": "stdout",
     "output_type": "stream",
     "text": [
      "DEPTH: 1\tACCURACY: 0.384\n",
      "DEPTH: 2\tACCURACY: 0.413\n",
      "DEPTH: 3\tACCURACY: 0.433\n",
      "DEPTH: 4\tACCURACY: 0.444\n",
      "DEPTH: 5\tACCURACY: 0.45\n",
      "DEPTH: 6\tACCURACY: 0.453\n",
      "DEPTH: 7\tACCURACY: 0.461\n",
      "DEPTH: 8\tACCURACY: 0.464\n",
      "DEPTH: 9\tACCURACY: 0.469\n",
      "DEPTH: 10\tACCURACY: 0.475\n",
      "DEPTH: 11\tACCURACY: 0.484\n",
      "DEPTH: 12\tACCURACY: 0.494\n",
      "DEPTH: 13\tACCURACY: 0.508\n",
      "DEPTH: 14\tACCURACY: 0.525\n",
      "DEPTH: 15\tACCURACY: 0.546\n",
      "DEPTH: 16\tACCURACY: 0.571\n",
      "DEPTH: 17\tACCURACY: 0.599\n",
      "DEPTH: 18\tACCURACY: 0.63\n",
      "DEPTH: 19\tACCURACY: 0.663\n",
      "DEPTH: 20\tACCURACY: 0.696\n",
      "DEPTH: 21\tACCURACY: 0.73\n",
      "DEPTH: 22\tACCURACY: 0.763\n",
      "DEPTH: 23\tACCURACY: 0.795\n",
      "DEPTH: 24\tACCURACY: 0.825\n",
      "DEPTH: 25\tACCURACY: 0.852\n"
     ]
    }
   ],
   "source": [
    "for x in range(1,26):\n",
    "    class_tree = DecisionTreeClassifier(max_depth=x)\n",
    "    class_tree.fit(X_train, y_train)\n",
    "    y_train_pred = class_tree.predict(X_train)\n",
    "    accuracy = accuracy_score(y_true=y_train, y_pred=y_train_pred)\n",
    "    accuracy.round(3)\n",
    "    print('DEPTH: '+str(x)+\"\\t\"+'ACCURACY: '+str((accuracy.round(3))))"
   ]
  },
  {
   "cell_type": "code",
   "execution_count": null,
   "metadata": {},
   "outputs": [],
   "source": []
  }
 ],
 "metadata": {
  "kernelspec": {
   "display_name": "Python 3",
   "language": "python",
   "name": "python3"
  },
  "language_info": {
   "codemirror_mode": {
    "name": "ipython",
    "version": 3
   },
   "file_extension": ".py",
   "mimetype": "text/x-python",
   "name": "python",
   "nbconvert_exporter": "python",
   "pygments_lexer": "ipython3",
   "version": "3.7.4"
  }
 },
 "nbformat": 4,
 "nbformat_minor": 4
}
