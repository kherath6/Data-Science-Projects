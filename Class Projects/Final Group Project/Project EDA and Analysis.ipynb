{
 "cells": [
  {
   "cell_type": "markdown",
   "metadata": {},
   "source": [
    "#### MIS 776 Group 4\n",
    "- Group Project\n",
    "- Dataset: (LINK?)"
   ]
  },
  {
   "cell_type": "markdown",
   "metadata": {},
   "source": [
    "***The objective of this project is to predict the length of hospital stay of a given patient based on the predictor variables.***\n",
    "\n",
    "#### Todo: \n",
    "- **Come up with hypothesis to test (problem Statements)** \n",
    "- Check data types of each columns\n",
    "- Define categorical vs. Numerical variables. \n",
    "- Data cleaning: \n",
    "    - Find missing values \n",
    "    - Impute missing values \n",
    "    - Convert categorical variables into Dummy Variables. \n",
    "    - **Clean up the predictor varible(stay) and transform it based on the group's choice**\n",
    "    \n",
    "- EDA: \n",
    "    - Plot numerical values\n",
    "    - plot categorical values \n",
    "    - Check correlation (correlation chart, plot)\n",
    "    - Check for multicollinearity \n",
    "    - Extract information from the data. \n",
    "    - **Form questions based on the information and answer the questions.** \n",
    "   \n",
    "- Identify the best features(Predictor variables) based on EDA\n",
    "- Define X(predictor variables)\n",
    "- Define y(target)\n",
    "- Split the data using train_test_split\n",
    "- Normalize the data\n",
    "- Model development \n",
    "    - Train Machine learning models\n",
    "    - Test the models\n",
    "    - Evaluate the models\n",
    "    - retrain and test if necessary\n",
    "    - Find the best model \n",
    "- Explain the best model and the reason for choosing the model. "
   ]
  },
  {
   "cell_type": "code",
   "execution_count": null,
   "metadata": {},
   "outputs": [],
   "source": []
  },
  {
   "cell_type": "code",
   "execution_count": 1,
   "metadata": {},
   "outputs": [],
   "source": [
    "import pandas as pd\n",
    "import numpy as np\n",
    "import matplotlib.pyplot as plt\n",
    "import seaborn as sns\n",
    "import os\n",
    "\n",
    "%matplotlib inline "
   ]
  },
  {
   "cell_type": "code",
   "execution_count": 2,
   "metadata": {},
   "outputs": [
    {
     "data": {
      "text/html": [
       "<div>\n",
       "<style scoped>\n",
       "    .dataframe tbody tr th:only-of-type {\n",
       "        vertical-align: middle;\n",
       "    }\n",
       "\n",
       "    .dataframe tbody tr th {\n",
       "        vertical-align: top;\n",
       "    }\n",
       "\n",
       "    .dataframe thead th {\n",
       "        text-align: right;\n",
       "    }\n",
       "</style>\n",
       "<table border=\"1\" class=\"dataframe\">\n",
       "  <thead>\n",
       "    <tr style=\"text-align: right;\">\n",
       "      <th></th>\n",
       "      <th>case_id</th>\n",
       "      <th>Hospital_code</th>\n",
       "      <th>Hospital_type_code</th>\n",
       "      <th>City_Code_Hospital</th>\n",
       "      <th>Hospital_region_code</th>\n",
       "      <th>Available Extra Rooms in Hospital</th>\n",
       "      <th>Department</th>\n",
       "      <th>Ward_Type</th>\n",
       "      <th>Ward_Facility_Code</th>\n",
       "      <th>Bed Grade</th>\n",
       "      <th>patientid</th>\n",
       "      <th>City_Code_Patient</th>\n",
       "      <th>Type of Admission</th>\n",
       "      <th>Severity of Illness</th>\n",
       "      <th>Visitors with Patient</th>\n",
       "      <th>Age</th>\n",
       "      <th>Admission_Deposit</th>\n",
       "      <th>Stay</th>\n",
       "    </tr>\n",
       "  </thead>\n",
       "  <tbody>\n",
       "    <tr>\n",
       "      <td>0</td>\n",
       "      <td>1</td>\n",
       "      <td>8</td>\n",
       "      <td>c</td>\n",
       "      <td>3</td>\n",
       "      <td>Z</td>\n",
       "      <td>3</td>\n",
       "      <td>radiotherapy</td>\n",
       "      <td>R</td>\n",
       "      <td>F</td>\n",
       "      <td>2.0</td>\n",
       "      <td>31397</td>\n",
       "      <td>7.0</td>\n",
       "      <td>Emergency</td>\n",
       "      <td>Extreme</td>\n",
       "      <td>2</td>\n",
       "      <td>51-60</td>\n",
       "      <td>4911</td>\n",
       "      <td>0-10</td>\n",
       "    </tr>\n",
       "    <tr>\n",
       "      <td>1</td>\n",
       "      <td>2</td>\n",
       "      <td>2</td>\n",
       "      <td>c</td>\n",
       "      <td>5</td>\n",
       "      <td>Z</td>\n",
       "      <td>2</td>\n",
       "      <td>radiotherapy</td>\n",
       "      <td>S</td>\n",
       "      <td>F</td>\n",
       "      <td>2.0</td>\n",
       "      <td>31397</td>\n",
       "      <td>7.0</td>\n",
       "      <td>Trauma</td>\n",
       "      <td>Extreme</td>\n",
       "      <td>2</td>\n",
       "      <td>51-60</td>\n",
       "      <td>5954</td>\n",
       "      <td>41-50</td>\n",
       "    </tr>\n",
       "    <tr>\n",
       "      <td>2</td>\n",
       "      <td>3</td>\n",
       "      <td>10</td>\n",
       "      <td>e</td>\n",
       "      <td>1</td>\n",
       "      <td>X</td>\n",
       "      <td>2</td>\n",
       "      <td>anesthesia</td>\n",
       "      <td>S</td>\n",
       "      <td>E</td>\n",
       "      <td>2.0</td>\n",
       "      <td>31397</td>\n",
       "      <td>7.0</td>\n",
       "      <td>Trauma</td>\n",
       "      <td>Extreme</td>\n",
       "      <td>2</td>\n",
       "      <td>51-60</td>\n",
       "      <td>4745</td>\n",
       "      <td>31-40</td>\n",
       "    </tr>\n",
       "    <tr>\n",
       "      <td>3</td>\n",
       "      <td>4</td>\n",
       "      <td>26</td>\n",
       "      <td>b</td>\n",
       "      <td>2</td>\n",
       "      <td>Y</td>\n",
       "      <td>2</td>\n",
       "      <td>radiotherapy</td>\n",
       "      <td>R</td>\n",
       "      <td>D</td>\n",
       "      <td>2.0</td>\n",
       "      <td>31397</td>\n",
       "      <td>7.0</td>\n",
       "      <td>Trauma</td>\n",
       "      <td>Extreme</td>\n",
       "      <td>2</td>\n",
       "      <td>51-60</td>\n",
       "      <td>7272</td>\n",
       "      <td>41-50</td>\n",
       "    </tr>\n",
       "    <tr>\n",
       "      <td>4</td>\n",
       "      <td>5</td>\n",
       "      <td>26</td>\n",
       "      <td>b</td>\n",
       "      <td>2</td>\n",
       "      <td>Y</td>\n",
       "      <td>2</td>\n",
       "      <td>radiotherapy</td>\n",
       "      <td>S</td>\n",
       "      <td>D</td>\n",
       "      <td>2.0</td>\n",
       "      <td>31397</td>\n",
       "      <td>7.0</td>\n",
       "      <td>Trauma</td>\n",
       "      <td>Extreme</td>\n",
       "      <td>2</td>\n",
       "      <td>51-60</td>\n",
       "      <td>5558</td>\n",
       "      <td>41-50</td>\n",
       "    </tr>\n",
       "  </tbody>\n",
       "</table>\n",
       "</div>"
      ],
      "text/plain": [
       "   case_id  Hospital_code Hospital_type_code  City_Code_Hospital  \\\n",
       "0        1              8                  c                   3   \n",
       "1        2              2                  c                   5   \n",
       "2        3             10                  e                   1   \n",
       "3        4             26                  b                   2   \n",
       "4        5             26                  b                   2   \n",
       "\n",
       "  Hospital_region_code  Available Extra Rooms in Hospital    Department  \\\n",
       "0                    Z                                  3  radiotherapy   \n",
       "1                    Z                                  2  radiotherapy   \n",
       "2                    X                                  2    anesthesia   \n",
       "3                    Y                                  2  radiotherapy   \n",
       "4                    Y                                  2  radiotherapy   \n",
       "\n",
       "  Ward_Type Ward_Facility_Code  Bed Grade  patientid  City_Code_Patient  \\\n",
       "0         R                  F        2.0      31397                7.0   \n",
       "1         S                  F        2.0      31397                7.0   \n",
       "2         S                  E        2.0      31397                7.0   \n",
       "3         R                  D        2.0      31397                7.0   \n",
       "4         S                  D        2.0      31397                7.0   \n",
       "\n",
       "  Type of Admission Severity of Illness  Visitors with Patient    Age  \\\n",
       "0         Emergency             Extreme                      2  51-60   \n",
       "1            Trauma             Extreme                      2  51-60   \n",
       "2            Trauma             Extreme                      2  51-60   \n",
       "3            Trauma             Extreme                      2  51-60   \n",
       "4            Trauma             Extreme                      2  51-60   \n",
       "\n",
       "   Admission_Deposit   Stay  \n",
       "0               4911   0-10  \n",
       "1               5954  41-50  \n",
       "2               4745  31-40  \n",
       "3               7272  41-50  \n",
       "4               5558  41-50  "
      ]
     },
     "execution_count": 2,
     "metadata": {},
     "output_type": "execute_result"
    }
   ],
   "source": [
    "dataDir = 'data sets/healthcare'\n",
    "fileName = 'train_data.csv'\n",
    "data = os.path.join(dataDir, fileName)\n",
    "\n",
    "# Read the file\n",
    "health = pd.read_csv(data)\n",
    "health.head()"
   ]
  },
  {
   "cell_type": "code",
   "execution_count": null,
   "metadata": {},
   "outputs": [],
   "source": []
  },
  {
   "cell_type": "markdown",
   "metadata": {},
   "source": [
    "#### Check the data types: "
   ]
  },
  {
   "cell_type": "code",
   "execution_count": 3,
   "metadata": {},
   "outputs": [
    {
     "data": {
      "text/plain": [
       "case_id                                int64\n",
       "Hospital_code                          int64\n",
       "Hospital_type_code                    object\n",
       "City_Code_Hospital                     int64\n",
       "Hospital_region_code                  object\n",
       "Available Extra Rooms in Hospital      int64\n",
       "Department                            object\n",
       "Ward_Type                             object\n",
       "Ward_Facility_Code                    object\n",
       "Bed Grade                            float64\n",
       "patientid                              int64\n",
       "City_Code_Patient                    float64\n",
       "Type of Admission                     object\n",
       "Severity of Illness                   object\n",
       "Visitors with Patient                  int64\n",
       "Age                                   object\n",
       "Admission_Deposit                      int64\n",
       "Stay                                  object\n",
       "dtype: object"
      ]
     },
     "execution_count": 3,
     "metadata": {},
     "output_type": "execute_result"
    }
   ],
   "source": [
    "health.dtypes"
   ]
  },
  {
   "cell_type": "markdown",
   "metadata": {},
   "source": [
    "**We have a mixture of categorial(object) and numercal variables**"
   ]
  },
  {
   "cell_type": "code",
   "execution_count": null,
   "metadata": {},
   "outputs": [],
   "source": []
  },
  {
   "cell_type": "markdown",
   "metadata": {},
   "source": [
    "### Data Cleaning "
   ]
  },
  {
   "cell_type": "markdown",
   "metadata": {},
   "source": [
    "#### Change the column names: \n",
    "- Shorten longer column names\n",
    "- convert column names to lower case "
   ]
  },
  {
   "cell_type": "code",
   "execution_count": 4,
   "metadata": {},
   "outputs": [],
   "source": [
    "health.columns = ['case_id', 'hosp_code','hosp_type','city_code','hosp_region','rooms_available','department',\n",
    "                  'ward_type','ward_code','bed_grade','patient_id','city_patientCode','admission_type',\n",
    "                  'severity','num_visitors','age','deposit','stay']"
   ]
  },
  {
   "cell_type": "code",
   "execution_count": 5,
   "metadata": {},
   "outputs": [
    {
     "data": {
      "text/html": [
       "<div>\n",
       "<style scoped>\n",
       "    .dataframe tbody tr th:only-of-type {\n",
       "        vertical-align: middle;\n",
       "    }\n",
       "\n",
       "    .dataframe tbody tr th {\n",
       "        vertical-align: top;\n",
       "    }\n",
       "\n",
       "    .dataframe thead th {\n",
       "        text-align: right;\n",
       "    }\n",
       "</style>\n",
       "<table border=\"1\" class=\"dataframe\">\n",
       "  <thead>\n",
       "    <tr style=\"text-align: right;\">\n",
       "      <th></th>\n",
       "      <th>case_id</th>\n",
       "      <th>hosp_code</th>\n",
       "      <th>hosp_type</th>\n",
       "      <th>city_code</th>\n",
       "      <th>hosp_region</th>\n",
       "      <th>rooms_available</th>\n",
       "      <th>department</th>\n",
       "      <th>ward_type</th>\n",
       "      <th>ward_code</th>\n",
       "      <th>bed_grade</th>\n",
       "      <th>patient_id</th>\n",
       "      <th>city_patientCode</th>\n",
       "      <th>admission_type</th>\n",
       "      <th>severity</th>\n",
       "      <th>num_visitors</th>\n",
       "      <th>age</th>\n",
       "      <th>deposit</th>\n",
       "      <th>stay</th>\n",
       "    </tr>\n",
       "  </thead>\n",
       "  <tbody>\n",
       "    <tr>\n",
       "      <td>0</td>\n",
       "      <td>1</td>\n",
       "      <td>8</td>\n",
       "      <td>c</td>\n",
       "      <td>3</td>\n",
       "      <td>Z</td>\n",
       "      <td>3</td>\n",
       "      <td>radiotherapy</td>\n",
       "      <td>R</td>\n",
       "      <td>F</td>\n",
       "      <td>2.0</td>\n",
       "      <td>31397</td>\n",
       "      <td>7.0</td>\n",
       "      <td>Emergency</td>\n",
       "      <td>Extreme</td>\n",
       "      <td>2</td>\n",
       "      <td>51-60</td>\n",
       "      <td>4911</td>\n",
       "      <td>0-10</td>\n",
       "    </tr>\n",
       "    <tr>\n",
       "      <td>1</td>\n",
       "      <td>2</td>\n",
       "      <td>2</td>\n",
       "      <td>c</td>\n",
       "      <td>5</td>\n",
       "      <td>Z</td>\n",
       "      <td>2</td>\n",
       "      <td>radiotherapy</td>\n",
       "      <td>S</td>\n",
       "      <td>F</td>\n",
       "      <td>2.0</td>\n",
       "      <td>31397</td>\n",
       "      <td>7.0</td>\n",
       "      <td>Trauma</td>\n",
       "      <td>Extreme</td>\n",
       "      <td>2</td>\n",
       "      <td>51-60</td>\n",
       "      <td>5954</td>\n",
       "      <td>41-50</td>\n",
       "    </tr>\n",
       "    <tr>\n",
       "      <td>2</td>\n",
       "      <td>3</td>\n",
       "      <td>10</td>\n",
       "      <td>e</td>\n",
       "      <td>1</td>\n",
       "      <td>X</td>\n",
       "      <td>2</td>\n",
       "      <td>anesthesia</td>\n",
       "      <td>S</td>\n",
       "      <td>E</td>\n",
       "      <td>2.0</td>\n",
       "      <td>31397</td>\n",
       "      <td>7.0</td>\n",
       "      <td>Trauma</td>\n",
       "      <td>Extreme</td>\n",
       "      <td>2</td>\n",
       "      <td>51-60</td>\n",
       "      <td>4745</td>\n",
       "      <td>31-40</td>\n",
       "    </tr>\n",
       "    <tr>\n",
       "      <td>3</td>\n",
       "      <td>4</td>\n",
       "      <td>26</td>\n",
       "      <td>b</td>\n",
       "      <td>2</td>\n",
       "      <td>Y</td>\n",
       "      <td>2</td>\n",
       "      <td>radiotherapy</td>\n",
       "      <td>R</td>\n",
       "      <td>D</td>\n",
       "      <td>2.0</td>\n",
       "      <td>31397</td>\n",
       "      <td>7.0</td>\n",
       "      <td>Trauma</td>\n",
       "      <td>Extreme</td>\n",
       "      <td>2</td>\n",
       "      <td>51-60</td>\n",
       "      <td>7272</td>\n",
       "      <td>41-50</td>\n",
       "    </tr>\n",
       "    <tr>\n",
       "      <td>4</td>\n",
       "      <td>5</td>\n",
       "      <td>26</td>\n",
       "      <td>b</td>\n",
       "      <td>2</td>\n",
       "      <td>Y</td>\n",
       "      <td>2</td>\n",
       "      <td>radiotherapy</td>\n",
       "      <td>S</td>\n",
       "      <td>D</td>\n",
       "      <td>2.0</td>\n",
       "      <td>31397</td>\n",
       "      <td>7.0</td>\n",
       "      <td>Trauma</td>\n",
       "      <td>Extreme</td>\n",
       "      <td>2</td>\n",
       "      <td>51-60</td>\n",
       "      <td>5558</td>\n",
       "      <td>41-50</td>\n",
       "    </tr>\n",
       "  </tbody>\n",
       "</table>\n",
       "</div>"
      ],
      "text/plain": [
       "   case_id  hosp_code hosp_type  city_code hosp_region  rooms_available  \\\n",
       "0        1          8         c          3           Z                3   \n",
       "1        2          2         c          5           Z                2   \n",
       "2        3         10         e          1           X                2   \n",
       "3        4         26         b          2           Y                2   \n",
       "4        5         26         b          2           Y                2   \n",
       "\n",
       "     department ward_type ward_code  bed_grade  patient_id  city_patientCode  \\\n",
       "0  radiotherapy         R         F        2.0       31397               7.0   \n",
       "1  radiotherapy         S         F        2.0       31397               7.0   \n",
       "2    anesthesia         S         E        2.0       31397               7.0   \n",
       "3  radiotherapy         R         D        2.0       31397               7.0   \n",
       "4  radiotherapy         S         D        2.0       31397               7.0   \n",
       "\n",
       "  admission_type severity  num_visitors    age  deposit   stay  \n",
       "0      Emergency  Extreme             2  51-60     4911   0-10  \n",
       "1         Trauma  Extreme             2  51-60     5954  41-50  \n",
       "2         Trauma  Extreme             2  51-60     4745  31-40  \n",
       "3         Trauma  Extreme             2  51-60     7272  41-50  \n",
       "4         Trauma  Extreme             2  51-60     5558  41-50  "
      ]
     },
     "execution_count": 5,
     "metadata": {},
     "output_type": "execute_result"
    }
   ],
   "source": [
    "health.head()"
   ]
  },
  {
   "cell_type": "code",
   "execution_count": null,
   "metadata": {},
   "outputs": [],
   "source": []
  },
  {
   "cell_type": "code",
   "execution_count": null,
   "metadata": {},
   "outputs": [],
   "source": []
  },
  {
   "cell_type": "markdown",
   "metadata": {},
   "source": [
    "### Missing Values"
   ]
  },
  {
   "cell_type": "code",
   "execution_count": 6,
   "metadata": {},
   "outputs": [
    {
     "data": {
      "text/plain": [
       "(318438, 18)"
      ]
     },
     "execution_count": 6,
     "metadata": {},
     "output_type": "execute_result"
    }
   ],
   "source": [
    "health.shape"
   ]
  },
  {
   "cell_type": "code",
   "execution_count": 7,
   "metadata": {},
   "outputs": [
    {
     "data": {
      "text/plain": [
       "case_id                0\n",
       "hosp_code              0\n",
       "hosp_type              0\n",
       "city_code              0\n",
       "hosp_region            0\n",
       "rooms_available        0\n",
       "department             0\n",
       "ward_type              0\n",
       "ward_code              0\n",
       "bed_grade            113\n",
       "patient_id             0\n",
       "city_patientCode    4532\n",
       "admission_type         0\n",
       "severity               0\n",
       "num_visitors           0\n",
       "age                    0\n",
       "deposit                0\n",
       "stay                   0\n",
       "dtype: int64"
      ]
     },
     "execution_count": 7,
     "metadata": {},
     "output_type": "execute_result"
    }
   ],
   "source": [
    "# Find columns with missing values \n",
    "health.isna().sum()"
   ]
  },
  {
   "cell_type": "markdown",
   "metadata": {},
   "source": [
    "- There are two colummns with missing values : \n",
    "    - city_patientCode\n",
    "    - Bed_grade \n",
    "- There are over 31,800 individual records and only 4532 records with missing values from city_patientCode and 113 missing values from bed_grade. \n",
    "- We can easily drop those rows and still keep majority of the information intact. "
   ]
  },
  {
   "cell_type": "code",
   "execution_count": 8,
   "metadata": {},
   "outputs": [
    {
     "data": {
      "text/html": [
       "<div>\n",
       "<style scoped>\n",
       "    .dataframe tbody tr th:only-of-type {\n",
       "        vertical-align: middle;\n",
       "    }\n",
       "\n",
       "    .dataframe tbody tr th {\n",
       "        vertical-align: top;\n",
       "    }\n",
       "\n",
       "    .dataframe thead th {\n",
       "        text-align: right;\n",
       "    }\n",
       "</style>\n",
       "<table border=\"1\" class=\"dataframe\">\n",
       "  <thead>\n",
       "    <tr style=\"text-align: right;\">\n",
       "      <th></th>\n",
       "      <th>case_id</th>\n",
       "      <th>hosp_code</th>\n",
       "      <th>hosp_type</th>\n",
       "      <th>city_code</th>\n",
       "      <th>hosp_region</th>\n",
       "      <th>rooms_available</th>\n",
       "      <th>department</th>\n",
       "      <th>ward_type</th>\n",
       "      <th>ward_code</th>\n",
       "      <th>bed_grade</th>\n",
       "      <th>patient_id</th>\n",
       "      <th>city_patientCode</th>\n",
       "      <th>admission_type</th>\n",
       "      <th>severity</th>\n",
       "      <th>num_visitors</th>\n",
       "      <th>age</th>\n",
       "      <th>deposit</th>\n",
       "      <th>stay</th>\n",
       "    </tr>\n",
       "  </thead>\n",
       "  <tbody>\n",
       "    <tr>\n",
       "      <td>191</td>\n",
       "      <td>192</td>\n",
       "      <td>14</td>\n",
       "      <td>a</td>\n",
       "      <td>1</td>\n",
       "      <td>X</td>\n",
       "      <td>2</td>\n",
       "      <td>radiotherapy</td>\n",
       "      <td>Q</td>\n",
       "      <td>E</td>\n",
       "      <td>3.0</td>\n",
       "      <td>122110</td>\n",
       "      <td>NaN</td>\n",
       "      <td>Emergency</td>\n",
       "      <td>Minor</td>\n",
       "      <td>2</td>\n",
       "      <td>71-80</td>\n",
       "      <td>9096</td>\n",
       "      <td>51-60</td>\n",
       "    </tr>\n",
       "    <tr>\n",
       "      <td>192</td>\n",
       "      <td>193</td>\n",
       "      <td>30</td>\n",
       "      <td>c</td>\n",
       "      <td>3</td>\n",
       "      <td>Z</td>\n",
       "      <td>2</td>\n",
       "      <td>anesthesia</td>\n",
       "      <td>Q</td>\n",
       "      <td>A</td>\n",
       "      <td>4.0</td>\n",
       "      <td>122110</td>\n",
       "      <td>NaN</td>\n",
       "      <td>Trauma</td>\n",
       "      <td>Minor</td>\n",
       "      <td>2</td>\n",
       "      <td>71-80</td>\n",
       "      <td>5098</td>\n",
       "      <td>31-40</td>\n",
       "    </tr>\n",
       "    <tr>\n",
       "      <td>193</td>\n",
       "      <td>194</td>\n",
       "      <td>27</td>\n",
       "      <td>a</td>\n",
       "      <td>7</td>\n",
       "      <td>Y</td>\n",
       "      <td>2</td>\n",
       "      <td>radiotherapy</td>\n",
       "      <td>P</td>\n",
       "      <td>C</td>\n",
       "      <td>3.0</td>\n",
       "      <td>122110</td>\n",
       "      <td>NaN</td>\n",
       "      <td>Trauma</td>\n",
       "      <td>Minor</td>\n",
       "      <td>2</td>\n",
       "      <td>71-80</td>\n",
       "      <td>7776</td>\n",
       "      <td>21-30</td>\n",
       "    </tr>\n",
       "    <tr>\n",
       "      <td>194</td>\n",
       "      <td>195</td>\n",
       "      <td>27</td>\n",
       "      <td>a</td>\n",
       "      <td>7</td>\n",
       "      <td>Y</td>\n",
       "      <td>2</td>\n",
       "      <td>anesthesia</td>\n",
       "      <td>Q</td>\n",
       "      <td>C</td>\n",
       "      <td>3.0</td>\n",
       "      <td>122110</td>\n",
       "      <td>NaN</td>\n",
       "      <td>Trauma</td>\n",
       "      <td>Minor</td>\n",
       "      <td>2</td>\n",
       "      <td>71-80</td>\n",
       "      <td>5988</td>\n",
       "      <td>20-Nov</td>\n",
       "    </tr>\n",
       "    <tr>\n",
       "      <td>195</td>\n",
       "      <td>196</td>\n",
       "      <td>25</td>\n",
       "      <td>e</td>\n",
       "      <td>1</td>\n",
       "      <td>X</td>\n",
       "      <td>3</td>\n",
       "      <td>radiotherapy</td>\n",
       "      <td>S</td>\n",
       "      <td>E</td>\n",
       "      <td>3.0</td>\n",
       "      <td>122110</td>\n",
       "      <td>NaN</td>\n",
       "      <td>Urgent</td>\n",
       "      <td>Minor</td>\n",
       "      <td>2</td>\n",
       "      <td>71-80</td>\n",
       "      <td>5333</td>\n",
       "      <td>21-30</td>\n",
       "    </tr>\n",
       "    <tr>\n",
       "      <td>...</td>\n",
       "      <td>...</td>\n",
       "      <td>...</td>\n",
       "      <td>...</td>\n",
       "      <td>...</td>\n",
       "      <td>...</td>\n",
       "      <td>...</td>\n",
       "      <td>...</td>\n",
       "      <td>...</td>\n",
       "      <td>...</td>\n",
       "      <td>...</td>\n",
       "      <td>...</td>\n",
       "      <td>...</td>\n",
       "      <td>...</td>\n",
       "      <td>...</td>\n",
       "      <td>...</td>\n",
       "      <td>...</td>\n",
       "      <td>...</td>\n",
       "      <td>...</td>\n",
       "    </tr>\n",
       "    <tr>\n",
       "      <td>318198</td>\n",
       "      <td>318199</td>\n",
       "      <td>23</td>\n",
       "      <td>a</td>\n",
       "      <td>6</td>\n",
       "      <td>X</td>\n",
       "      <td>2</td>\n",
       "      <td>anesthesia</td>\n",
       "      <td>Q</td>\n",
       "      <td>F</td>\n",
       "      <td>3.0</td>\n",
       "      <td>58469</td>\n",
       "      <td>NaN</td>\n",
       "      <td>Urgent</td>\n",
       "      <td>Minor</td>\n",
       "      <td>2</td>\n",
       "      <td>20-Nov</td>\n",
       "      <td>4432</td>\n",
       "      <td>20-Nov</td>\n",
       "    </tr>\n",
       "    <tr>\n",
       "      <td>318263</td>\n",
       "      <td>318264</td>\n",
       "      <td>28</td>\n",
       "      <td>b</td>\n",
       "      <td>11</td>\n",
       "      <td>X</td>\n",
       "      <td>3</td>\n",
       "      <td>anesthesia</td>\n",
       "      <td>R</td>\n",
       "      <td>F</td>\n",
       "      <td>3.0</td>\n",
       "      <td>66803</td>\n",
       "      <td>NaN</td>\n",
       "      <td>Trauma</td>\n",
       "      <td>Moderate</td>\n",
       "      <td>2</td>\n",
       "      <td>31-40</td>\n",
       "      <td>5415</td>\n",
       "      <td>20-Nov</td>\n",
       "    </tr>\n",
       "    <tr>\n",
       "      <td>318269</td>\n",
       "      <td>318270</td>\n",
       "      <td>26</td>\n",
       "      <td>b</td>\n",
       "      <td>2</td>\n",
       "      <td>Y</td>\n",
       "      <td>3</td>\n",
       "      <td>gynecology</td>\n",
       "      <td>R</td>\n",
       "      <td>D</td>\n",
       "      <td>4.0</td>\n",
       "      <td>95483</td>\n",
       "      <td>NaN</td>\n",
       "      <td>Trauma</td>\n",
       "      <td>Minor</td>\n",
       "      <td>5</td>\n",
       "      <td>51-60</td>\n",
       "      <td>4135</td>\n",
       "      <td>51-60</td>\n",
       "    </tr>\n",
       "    <tr>\n",
       "      <td>318271</td>\n",
       "      <td>318272</td>\n",
       "      <td>28</td>\n",
       "      <td>b</td>\n",
       "      <td>11</td>\n",
       "      <td>X</td>\n",
       "      <td>2</td>\n",
       "      <td>gynecology</td>\n",
       "      <td>R</td>\n",
       "      <td>F</td>\n",
       "      <td>4.0</td>\n",
       "      <td>117128</td>\n",
       "      <td>NaN</td>\n",
       "      <td>Emergency</td>\n",
       "      <td>Minor</td>\n",
       "      <td>2</td>\n",
       "      <td>61-70</td>\n",
       "      <td>3418</td>\n",
       "      <td>0-10</td>\n",
       "    </tr>\n",
       "    <tr>\n",
       "      <td>318314</td>\n",
       "      <td>318315</td>\n",
       "      <td>6</td>\n",
       "      <td>a</td>\n",
       "      <td>6</td>\n",
       "      <td>X</td>\n",
       "      <td>3</td>\n",
       "      <td>gynecology</td>\n",
       "      <td>R</td>\n",
       "      <td>F</td>\n",
       "      <td>4.0</td>\n",
       "      <td>103101</td>\n",
       "      <td>NaN</td>\n",
       "      <td>Urgent</td>\n",
       "      <td>Moderate</td>\n",
       "      <td>5</td>\n",
       "      <td>61-70</td>\n",
       "      <td>4277</td>\n",
       "      <td>31-40</td>\n",
       "    </tr>\n",
       "  </tbody>\n",
       "</table>\n",
       "<p>4532 rows × 18 columns</p>\n",
       "</div>"
      ],
      "text/plain": [
       "        case_id  hosp_code hosp_type  city_code hosp_region  rooms_available  \\\n",
       "191         192         14         a          1           X                2   \n",
       "192         193         30         c          3           Z                2   \n",
       "193         194         27         a          7           Y                2   \n",
       "194         195         27         a          7           Y                2   \n",
       "195         196         25         e          1           X                3   \n",
       "...         ...        ...       ...        ...         ...              ...   \n",
       "318198   318199         23         a          6           X                2   \n",
       "318263   318264         28         b         11           X                3   \n",
       "318269   318270         26         b          2           Y                3   \n",
       "318271   318272         28         b         11           X                2   \n",
       "318314   318315          6         a          6           X                3   \n",
       "\n",
       "          department ward_type ward_code  bed_grade  patient_id  \\\n",
       "191     radiotherapy         Q         E        3.0      122110   \n",
       "192       anesthesia         Q         A        4.0      122110   \n",
       "193     radiotherapy         P         C        3.0      122110   \n",
       "194       anesthesia         Q         C        3.0      122110   \n",
       "195     radiotherapy         S         E        3.0      122110   \n",
       "...              ...       ...       ...        ...         ...   \n",
       "318198    anesthesia         Q         F        3.0       58469   \n",
       "318263    anesthesia         R         F        3.0       66803   \n",
       "318269    gynecology         R         D        4.0       95483   \n",
       "318271    gynecology         R         F        4.0      117128   \n",
       "318314    gynecology         R         F        4.0      103101   \n",
       "\n",
       "        city_patientCode admission_type  severity  num_visitors     age  \\\n",
       "191                  NaN      Emergency     Minor             2   71-80   \n",
       "192                  NaN         Trauma     Minor             2   71-80   \n",
       "193                  NaN         Trauma     Minor             2   71-80   \n",
       "194                  NaN         Trauma     Minor             2   71-80   \n",
       "195                  NaN         Urgent     Minor             2   71-80   \n",
       "...                  ...            ...       ...           ...     ...   \n",
       "318198               NaN         Urgent     Minor             2  20-Nov   \n",
       "318263               NaN         Trauma  Moderate             2   31-40   \n",
       "318269               NaN         Trauma     Minor             5   51-60   \n",
       "318271               NaN      Emergency     Minor             2   61-70   \n",
       "318314               NaN         Urgent  Moderate             5   61-70   \n",
       "\n",
       "        deposit    stay  \n",
       "191        9096   51-60  \n",
       "192        5098   31-40  \n",
       "193        7776   21-30  \n",
       "194        5988  20-Nov  \n",
       "195        5333   21-30  \n",
       "...         ...     ...  \n",
       "318198     4432  20-Nov  \n",
       "318263     5415  20-Nov  \n",
       "318269     4135   51-60  \n",
       "318271     3418    0-10  \n",
       "318314     4277   31-40  \n",
       "\n",
       "[4532 rows x 18 columns]"
      ]
     },
     "execution_count": 8,
     "metadata": {},
     "output_type": "execute_result"
    }
   ],
   "source": [
    "# Check rows with missing values \n",
    "health[health.city_patientCode.isna()]"
   ]
  },
  {
   "cell_type": "code",
   "execution_count": 9,
   "metadata": {},
   "outputs": [
    {
     "data": {
      "text/html": [
       "<div>\n",
       "<style scoped>\n",
       "    .dataframe tbody tr th:only-of-type {\n",
       "        vertical-align: middle;\n",
       "    }\n",
       "\n",
       "    .dataframe tbody tr th {\n",
       "        vertical-align: top;\n",
       "    }\n",
       "\n",
       "    .dataframe thead th {\n",
       "        text-align: right;\n",
       "    }\n",
       "</style>\n",
       "<table border=\"1\" class=\"dataframe\">\n",
       "  <thead>\n",
       "    <tr style=\"text-align: right;\">\n",
       "      <th></th>\n",
       "      <th>case_id</th>\n",
       "      <th>hosp_code</th>\n",
       "      <th>hosp_type</th>\n",
       "      <th>city_code</th>\n",
       "      <th>hosp_region</th>\n",
       "      <th>rooms_available</th>\n",
       "      <th>department</th>\n",
       "      <th>ward_type</th>\n",
       "      <th>ward_code</th>\n",
       "      <th>bed_grade</th>\n",
       "      <th>patient_id</th>\n",
       "      <th>city_patientCode</th>\n",
       "      <th>admission_type</th>\n",
       "      <th>severity</th>\n",
       "      <th>num_visitors</th>\n",
       "      <th>age</th>\n",
       "      <th>deposit</th>\n",
       "      <th>stay</th>\n",
       "    </tr>\n",
       "  </thead>\n",
       "  <tbody>\n",
       "    <tr>\n",
       "      <td>293</td>\n",
       "      <td>294</td>\n",
       "      <td>6</td>\n",
       "      <td>a</td>\n",
       "      <td>6</td>\n",
       "      <td>X</td>\n",
       "      <td>4</td>\n",
       "      <td>gynecology</td>\n",
       "      <td>Q</td>\n",
       "      <td>F</td>\n",
       "      <td>NaN</td>\n",
       "      <td>27075</td>\n",
       "      <td>15.0</td>\n",
       "      <td>Trauma</td>\n",
       "      <td>Extreme</td>\n",
       "      <td>2</td>\n",
       "      <td>21-30</td>\n",
       "      <td>4420</td>\n",
       "      <td>31-40</td>\n",
       "    </tr>\n",
       "    <tr>\n",
       "      <td>1071</td>\n",
       "      <td>1072</td>\n",
       "      <td>6</td>\n",
       "      <td>a</td>\n",
       "      <td>6</td>\n",
       "      <td>X</td>\n",
       "      <td>2</td>\n",
       "      <td>gynecology</td>\n",
       "      <td>Q</td>\n",
       "      <td>F</td>\n",
       "      <td>NaN</td>\n",
       "      <td>62491</td>\n",
       "      <td>8.0</td>\n",
       "      <td>Trauma</td>\n",
       "      <td>Extreme</td>\n",
       "      <td>4</td>\n",
       "      <td>61-70</td>\n",
       "      <td>5395</td>\n",
       "      <td>21-30</td>\n",
       "    </tr>\n",
       "    <tr>\n",
       "      <td>20379</td>\n",
       "      <td>20380</td>\n",
       "      <td>6</td>\n",
       "      <td>a</td>\n",
       "      <td>6</td>\n",
       "      <td>X</td>\n",
       "      <td>4</td>\n",
       "      <td>gynecology</td>\n",
       "      <td>Q</td>\n",
       "      <td>F</td>\n",
       "      <td>NaN</td>\n",
       "      <td>69932</td>\n",
       "      <td>2.0</td>\n",
       "      <td>Trauma</td>\n",
       "      <td>Extreme</td>\n",
       "      <td>3</td>\n",
       "      <td>41-50</td>\n",
       "      <td>5989</td>\n",
       "      <td>31-40</td>\n",
       "    </tr>\n",
       "    <tr>\n",
       "      <td>23791</td>\n",
       "      <td>23792</td>\n",
       "      <td>6</td>\n",
       "      <td>a</td>\n",
       "      <td>6</td>\n",
       "      <td>X</td>\n",
       "      <td>3</td>\n",
       "      <td>gynecology</td>\n",
       "      <td>R</td>\n",
       "      <td>F</td>\n",
       "      <td>NaN</td>\n",
       "      <td>29943</td>\n",
       "      <td>10.0</td>\n",
       "      <td>Emergency</td>\n",
       "      <td>Minor</td>\n",
       "      <td>3</td>\n",
       "      <td>31-40</td>\n",
       "      <td>4488</td>\n",
       "      <td>41-50</td>\n",
       "    </tr>\n",
       "    <tr>\n",
       "      <td>25162</td>\n",
       "      <td>25163</td>\n",
       "      <td>6</td>\n",
       "      <td>a</td>\n",
       "      <td>6</td>\n",
       "      <td>X</td>\n",
       "      <td>5</td>\n",
       "      <td>gynecology</td>\n",
       "      <td>R</td>\n",
       "      <td>F</td>\n",
       "      <td>NaN</td>\n",
       "      <td>92499</td>\n",
       "      <td>1.0</td>\n",
       "      <td>Emergency</td>\n",
       "      <td>Minor</td>\n",
       "      <td>2</td>\n",
       "      <td>71-80</td>\n",
       "      <td>4885</td>\n",
       "      <td>21-30</td>\n",
       "    </tr>\n",
       "    <tr>\n",
       "      <td>...</td>\n",
       "      <td>...</td>\n",
       "      <td>...</td>\n",
       "      <td>...</td>\n",
       "      <td>...</td>\n",
       "      <td>...</td>\n",
       "      <td>...</td>\n",
       "      <td>...</td>\n",
       "      <td>...</td>\n",
       "      <td>...</td>\n",
       "      <td>...</td>\n",
       "      <td>...</td>\n",
       "      <td>...</td>\n",
       "      <td>...</td>\n",
       "      <td>...</td>\n",
       "      <td>...</td>\n",
       "      <td>...</td>\n",
       "      <td>...</td>\n",
       "      <td>...</td>\n",
       "    </tr>\n",
       "    <tr>\n",
       "      <td>234337</td>\n",
       "      <td>234338</td>\n",
       "      <td>6</td>\n",
       "      <td>a</td>\n",
       "      <td>6</td>\n",
       "      <td>X</td>\n",
       "      <td>2</td>\n",
       "      <td>radiotherapy</td>\n",
       "      <td>R</td>\n",
       "      <td>F</td>\n",
       "      <td>NaN</td>\n",
       "      <td>22881</td>\n",
       "      <td>7.0</td>\n",
       "      <td>Emergency</td>\n",
       "      <td>Minor</td>\n",
       "      <td>2</td>\n",
       "      <td>20-Nov</td>\n",
       "      <td>2416</td>\n",
       "      <td>0-10</td>\n",
       "    </tr>\n",
       "    <tr>\n",
       "      <td>234577</td>\n",
       "      <td>234578</td>\n",
       "      <td>6</td>\n",
       "      <td>a</td>\n",
       "      <td>6</td>\n",
       "      <td>X</td>\n",
       "      <td>2</td>\n",
       "      <td>gynecology</td>\n",
       "      <td>R</td>\n",
       "      <td>F</td>\n",
       "      <td>NaN</td>\n",
       "      <td>120677</td>\n",
       "      <td>2.0</td>\n",
       "      <td>Trauma</td>\n",
       "      <td>Extreme</td>\n",
       "      <td>4</td>\n",
       "      <td>41-50</td>\n",
       "      <td>4932</td>\n",
       "      <td>51-60</td>\n",
       "    </tr>\n",
       "    <tr>\n",
       "      <td>234895</td>\n",
       "      <td>234896</td>\n",
       "      <td>6</td>\n",
       "      <td>a</td>\n",
       "      <td>6</td>\n",
       "      <td>X</td>\n",
       "      <td>2</td>\n",
       "      <td>gynecology</td>\n",
       "      <td>R</td>\n",
       "      <td>F</td>\n",
       "      <td>NaN</td>\n",
       "      <td>111514</td>\n",
       "      <td>1.0</td>\n",
       "      <td>Trauma</td>\n",
       "      <td>Moderate</td>\n",
       "      <td>4</td>\n",
       "      <td>51-60</td>\n",
       "      <td>3984</td>\n",
       "      <td>20-Nov</td>\n",
       "    </tr>\n",
       "    <tr>\n",
       "      <td>235048</td>\n",
       "      <td>235049</td>\n",
       "      <td>6</td>\n",
       "      <td>a</td>\n",
       "      <td>6</td>\n",
       "      <td>X</td>\n",
       "      <td>2</td>\n",
       "      <td>gynecology</td>\n",
       "      <td>R</td>\n",
       "      <td>F</td>\n",
       "      <td>NaN</td>\n",
       "      <td>57706</td>\n",
       "      <td>2.0</td>\n",
       "      <td>Trauma</td>\n",
       "      <td>Moderate</td>\n",
       "      <td>3</td>\n",
       "      <td>41-50</td>\n",
       "      <td>4139</td>\n",
       "      <td>51-60</td>\n",
       "    </tr>\n",
       "    <tr>\n",
       "      <td>236244</td>\n",
       "      <td>236245</td>\n",
       "      <td>6</td>\n",
       "      <td>a</td>\n",
       "      <td>6</td>\n",
       "      <td>X</td>\n",
       "      <td>4</td>\n",
       "      <td>gynecology</td>\n",
       "      <td>R</td>\n",
       "      <td>F</td>\n",
       "      <td>NaN</td>\n",
       "      <td>19345</td>\n",
       "      <td>2.0</td>\n",
       "      <td>Emergency</td>\n",
       "      <td>Extreme</td>\n",
       "      <td>2</td>\n",
       "      <td>41-50</td>\n",
       "      <td>3745</td>\n",
       "      <td>21-30</td>\n",
       "    </tr>\n",
       "  </tbody>\n",
       "</table>\n",
       "<p>113 rows × 18 columns</p>\n",
       "</div>"
      ],
      "text/plain": [
       "        case_id  hosp_code hosp_type  city_code hosp_region  rooms_available  \\\n",
       "293         294          6         a          6           X                4   \n",
       "1071       1072          6         a          6           X                2   \n",
       "20379     20380          6         a          6           X                4   \n",
       "23791     23792          6         a          6           X                3   \n",
       "25162     25163          6         a          6           X                5   \n",
       "...         ...        ...       ...        ...         ...              ...   \n",
       "234337   234338          6         a          6           X                2   \n",
       "234577   234578          6         a          6           X                2   \n",
       "234895   234896          6         a          6           X                2   \n",
       "235048   235049          6         a          6           X                2   \n",
       "236244   236245          6         a          6           X                4   \n",
       "\n",
       "          department ward_type ward_code  bed_grade  patient_id  \\\n",
       "293       gynecology         Q         F        NaN       27075   \n",
       "1071      gynecology         Q         F        NaN       62491   \n",
       "20379     gynecology         Q         F        NaN       69932   \n",
       "23791     gynecology         R         F        NaN       29943   \n",
       "25162     gynecology         R         F        NaN       92499   \n",
       "...              ...       ...       ...        ...         ...   \n",
       "234337  radiotherapy         R         F        NaN       22881   \n",
       "234577    gynecology         R         F        NaN      120677   \n",
       "234895    gynecology         R         F        NaN      111514   \n",
       "235048    gynecology         R         F        NaN       57706   \n",
       "236244    gynecology         R         F        NaN       19345   \n",
       "\n",
       "        city_patientCode admission_type  severity  num_visitors     age  \\\n",
       "293                 15.0         Trauma   Extreme             2   21-30   \n",
       "1071                 8.0         Trauma   Extreme             4   61-70   \n",
       "20379                2.0         Trauma   Extreme             3   41-50   \n",
       "23791               10.0      Emergency     Minor             3   31-40   \n",
       "25162                1.0      Emergency     Minor             2   71-80   \n",
       "...                  ...            ...       ...           ...     ...   \n",
       "234337               7.0      Emergency     Minor             2  20-Nov   \n",
       "234577               2.0         Trauma   Extreme             4   41-50   \n",
       "234895               1.0         Trauma  Moderate             4   51-60   \n",
       "235048               2.0         Trauma  Moderate             3   41-50   \n",
       "236244               2.0      Emergency   Extreme             2   41-50   \n",
       "\n",
       "        deposit    stay  \n",
       "293        4420   31-40  \n",
       "1071       5395   21-30  \n",
       "20379      5989   31-40  \n",
       "23791      4488   41-50  \n",
       "25162      4885   21-30  \n",
       "...         ...     ...  \n",
       "234337     2416    0-10  \n",
       "234577     4932   51-60  \n",
       "234895     3984  20-Nov  \n",
       "235048     4139   51-60  \n",
       "236244     3745   21-30  \n",
       "\n",
       "[113 rows x 18 columns]"
      ]
     },
     "execution_count": 9,
     "metadata": {},
     "output_type": "execute_result"
    }
   ],
   "source": [
    "health[health.bed_grade.isna()]"
   ]
  },
  {
   "cell_type": "code",
   "execution_count": 10,
   "metadata": {},
   "outputs": [
    {
     "data": {
      "text/plain": [
       "0"
      ]
     },
     "execution_count": 10,
     "metadata": {},
     "output_type": "execute_result"
    }
   ],
   "source": [
    "### Check for missing values in both city_patientCode and bed_grade\n",
    "((health.city_patientCode.isna()) & (health.bed_grade.isna())).sum()"
   ]
  },
  {
   "cell_type": "markdown",
   "metadata": {},
   "source": [
    "- There seem to be **no data points with missing values that are common to both city_patientCode and bed_grade.**\n",
    "- There aren't many missing values in the dataset, we can select best course of action with missing vallues after further evaluation of the dataset. "
   ]
  },
  {
   "cell_type": "code",
   "execution_count": 11,
   "metadata": {},
   "outputs": [
    {
     "data": {
      "text/plain": [
       "array([ 2.,  3.,  4.,  1., nan])"
      ]
     },
     "execution_count": 11,
     "metadata": {},
     "output_type": "execute_result"
    }
   ],
   "source": [
    "health.bed_grade.unique()"
   ]
  },
  {
   "cell_type": "code",
   "execution_count": null,
   "metadata": {},
   "outputs": [],
   "source": []
  },
  {
   "cell_type": "markdown",
   "metadata": {},
   "source": [
    "#### Drop rows with missing values in bed_grade"
   ]
  },
  {
   "cell_type": "code",
   "execution_count": 12,
   "metadata": {},
   "outputs": [
    {
     "data": {
      "text/plain": [
       "(318438, 18)"
      ]
     },
     "execution_count": 12,
     "metadata": {},
     "output_type": "execute_result"
    }
   ],
   "source": [
    "health.shape"
   ]
  },
  {
   "cell_type": "code",
   "execution_count": 13,
   "metadata": {},
   "outputs": [],
   "source": [
    "# Drop null values \n",
    "health.dropna(subset=['bed_grade'],how='any',inplace=True)"
   ]
  },
  {
   "cell_type": "code",
   "execution_count": 14,
   "metadata": {},
   "outputs": [
    {
     "data": {
      "text/plain": [
       "0"
      ]
     },
     "execution_count": 14,
     "metadata": {},
     "output_type": "execute_result"
    }
   ],
   "source": [
    "# Check for any null values present \n",
    "health.bed_grade.isna().sum()"
   ]
  },
  {
   "cell_type": "code",
   "execution_count": null,
   "metadata": {},
   "outputs": [],
   "source": []
  },
  {
   "cell_type": "markdown",
   "metadata": {},
   "source": [
    "### city_patientCode column"
   ]
  },
  {
   "cell_type": "code",
   "execution_count": 15,
   "metadata": {},
   "outputs": [
    {
     "data": {
      "text/plain": [
       "array([ 7.,  8.,  2.,  5.,  6.,  3.,  4.,  1.,  9., 14., nan, 25., 15.,\n",
       "       12., 10., 28., 24., 23., 20., 11., 13., 21., 18., 16., 26., 27.,\n",
       "       22., 19., 31., 34., 32., 30., 29., 37., 33., 35., 36., 38.])"
      ]
     },
     "execution_count": 15,
     "metadata": {},
     "output_type": "execute_result"
    }
   ],
   "source": [
    "health.city_patientCode.unique()"
   ]
  },
  {
   "cell_type": "code",
   "execution_count": 16,
   "metadata": {},
   "outputs": [
    {
     "data": {
      "text/plain": [
       "4532"
      ]
     },
     "execution_count": 16,
     "metadata": {},
     "output_type": "execute_result"
    }
   ],
   "source": [
    "# Check the number of missing values\n",
    "health.city_patientCode.isna().sum()"
   ]
  },
  {
   "cell_type": "code",
   "execution_count": null,
   "metadata": {},
   "outputs": [],
   "source": []
  },
  {
   "cell_type": "code",
   "execution_count": 17,
   "metadata": {},
   "outputs": [
    {
     "data": {
      "text/plain": [
       "stay\n",
       "0-10                  7.636602\n",
       "20-Nov                7.299682\n",
       "21-30                 7.133672\n",
       "31-40                 7.271248\n",
       "41-50                 7.574907\n",
       "51-60                 7.003743\n",
       "61-70                 7.589325\n",
       "71-80                 7.328348\n",
       "81-90                 7.091367\n",
       "91-100                7.318835\n",
       "More than 100 Days    7.316432\n",
       "Name: city_patientCode, dtype: float64"
      ]
     },
     "execution_count": 17,
     "metadata": {},
     "output_type": "execute_result"
    }
   ],
   "source": [
    "# Check agragates of city patient code variable with stay\n",
    "health.groupby('stay').city_patientCode.mean()"
   ]
  },
  {
   "cell_type": "markdown",
   "metadata": {},
   "source": [
    "- city_patientCode aggrate values within stay categories seems almost identical. \n",
    "- **Given the number of missing values and lack of variation we have decided to drop this column.**"
   ]
  },
  {
   "cell_type": "code",
   "execution_count": 18,
   "metadata": {},
   "outputs": [],
   "source": [
    "health.drop('city_patientCode', axis=1, inplace=True)"
   ]
  },
  {
   "cell_type": "code",
   "execution_count": 19,
   "metadata": {},
   "outputs": [
    {
     "data": {
      "text/plain": [
       "case_id            0\n",
       "hosp_code          0\n",
       "hosp_type          0\n",
       "city_code          0\n",
       "hosp_region        0\n",
       "rooms_available    0\n",
       "department         0\n",
       "ward_type          0\n",
       "ward_code          0\n",
       "bed_grade          0\n",
       "patient_id         0\n",
       "admission_type     0\n",
       "severity           0\n",
       "num_visitors       0\n",
       "age                0\n",
       "deposit            0\n",
       "stay               0\n",
       "dtype: int64"
      ]
     },
     "execution_count": 19,
     "metadata": {},
     "output_type": "execute_result"
    }
   ],
   "source": [
    "health.isna().sum()"
   ]
  },
  {
   "cell_type": "markdown",
   "metadata": {},
   "source": [
    "#### Now we have sucessfully dealt with all the missing values. "
   ]
  },
  {
   "cell_type": "code",
   "execution_count": null,
   "metadata": {},
   "outputs": [],
   "source": []
  },
  {
   "cell_type": "code",
   "execution_count": null,
   "metadata": {},
   "outputs": [],
   "source": []
  },
  {
   "cell_type": "markdown",
   "metadata": {},
   "source": [
    "### Case_id column "
   ]
  },
  {
   "cell_type": "code",
   "execution_count": 20,
   "metadata": {},
   "outputs": [
    {
     "data": {
      "text/plain": [
       "array([     1,      2,      3, ..., 318436, 318437, 318438])"
      ]
     },
     "execution_count": 20,
     "metadata": {},
     "output_type": "execute_result"
    }
   ],
   "source": [
    "health.case_id.unique()"
   ]
  },
  {
   "cell_type": "markdown",
   "metadata": {},
   "source": [
    "- Just by looking at the unique values in teh case_id column we can conclude that case_id is just an index number depicting all the rows. \n",
    "\n",
    "- We can drop this column as well. "
   ]
  },
  {
   "cell_type": "code",
   "execution_count": 21,
   "metadata": {},
   "outputs": [],
   "source": [
    "health.drop('case_id', axis=1, inplace=True)"
   ]
  },
  {
   "cell_type": "code",
   "execution_count": 22,
   "metadata": {},
   "outputs": [
    {
     "data": {
      "text/html": [
       "<div>\n",
       "<style scoped>\n",
       "    .dataframe tbody tr th:only-of-type {\n",
       "        vertical-align: middle;\n",
       "    }\n",
       "\n",
       "    .dataframe tbody tr th {\n",
       "        vertical-align: top;\n",
       "    }\n",
       "\n",
       "    .dataframe thead th {\n",
       "        text-align: right;\n",
       "    }\n",
       "</style>\n",
       "<table border=\"1\" class=\"dataframe\">\n",
       "  <thead>\n",
       "    <tr style=\"text-align: right;\">\n",
       "      <th></th>\n",
       "      <th>hosp_code</th>\n",
       "      <th>hosp_type</th>\n",
       "      <th>city_code</th>\n",
       "      <th>hosp_region</th>\n",
       "      <th>rooms_available</th>\n",
       "      <th>department</th>\n",
       "      <th>ward_type</th>\n",
       "      <th>ward_code</th>\n",
       "      <th>bed_grade</th>\n",
       "      <th>patient_id</th>\n",
       "      <th>admission_type</th>\n",
       "      <th>severity</th>\n",
       "      <th>num_visitors</th>\n",
       "      <th>age</th>\n",
       "      <th>deposit</th>\n",
       "      <th>stay</th>\n",
       "    </tr>\n",
       "  </thead>\n",
       "  <tbody>\n",
       "    <tr>\n",
       "      <td>0</td>\n",
       "      <td>8</td>\n",
       "      <td>c</td>\n",
       "      <td>3</td>\n",
       "      <td>Z</td>\n",
       "      <td>3</td>\n",
       "      <td>radiotherapy</td>\n",
       "      <td>R</td>\n",
       "      <td>F</td>\n",
       "      <td>2.0</td>\n",
       "      <td>31397</td>\n",
       "      <td>Emergency</td>\n",
       "      <td>Extreme</td>\n",
       "      <td>2</td>\n",
       "      <td>51-60</td>\n",
       "      <td>4911</td>\n",
       "      <td>0-10</td>\n",
       "    </tr>\n",
       "    <tr>\n",
       "      <td>1</td>\n",
       "      <td>2</td>\n",
       "      <td>c</td>\n",
       "      <td>5</td>\n",
       "      <td>Z</td>\n",
       "      <td>2</td>\n",
       "      <td>radiotherapy</td>\n",
       "      <td>S</td>\n",
       "      <td>F</td>\n",
       "      <td>2.0</td>\n",
       "      <td>31397</td>\n",
       "      <td>Trauma</td>\n",
       "      <td>Extreme</td>\n",
       "      <td>2</td>\n",
       "      <td>51-60</td>\n",
       "      <td>5954</td>\n",
       "      <td>41-50</td>\n",
       "    </tr>\n",
       "    <tr>\n",
       "      <td>2</td>\n",
       "      <td>10</td>\n",
       "      <td>e</td>\n",
       "      <td>1</td>\n",
       "      <td>X</td>\n",
       "      <td>2</td>\n",
       "      <td>anesthesia</td>\n",
       "      <td>S</td>\n",
       "      <td>E</td>\n",
       "      <td>2.0</td>\n",
       "      <td>31397</td>\n",
       "      <td>Trauma</td>\n",
       "      <td>Extreme</td>\n",
       "      <td>2</td>\n",
       "      <td>51-60</td>\n",
       "      <td>4745</td>\n",
       "      <td>31-40</td>\n",
       "    </tr>\n",
       "    <tr>\n",
       "      <td>3</td>\n",
       "      <td>26</td>\n",
       "      <td>b</td>\n",
       "      <td>2</td>\n",
       "      <td>Y</td>\n",
       "      <td>2</td>\n",
       "      <td>radiotherapy</td>\n",
       "      <td>R</td>\n",
       "      <td>D</td>\n",
       "      <td>2.0</td>\n",
       "      <td>31397</td>\n",
       "      <td>Trauma</td>\n",
       "      <td>Extreme</td>\n",
       "      <td>2</td>\n",
       "      <td>51-60</td>\n",
       "      <td>7272</td>\n",
       "      <td>41-50</td>\n",
       "    </tr>\n",
       "    <tr>\n",
       "      <td>4</td>\n",
       "      <td>26</td>\n",
       "      <td>b</td>\n",
       "      <td>2</td>\n",
       "      <td>Y</td>\n",
       "      <td>2</td>\n",
       "      <td>radiotherapy</td>\n",
       "      <td>S</td>\n",
       "      <td>D</td>\n",
       "      <td>2.0</td>\n",
       "      <td>31397</td>\n",
       "      <td>Trauma</td>\n",
       "      <td>Extreme</td>\n",
       "      <td>2</td>\n",
       "      <td>51-60</td>\n",
       "      <td>5558</td>\n",
       "      <td>41-50</td>\n",
       "    </tr>\n",
       "  </tbody>\n",
       "</table>\n",
       "</div>"
      ],
      "text/plain": [
       "   hosp_code hosp_type  city_code hosp_region  rooms_available    department  \\\n",
       "0          8         c          3           Z                3  radiotherapy   \n",
       "1          2         c          5           Z                2  radiotherapy   \n",
       "2         10         e          1           X                2    anesthesia   \n",
       "3         26         b          2           Y                2  radiotherapy   \n",
       "4         26         b          2           Y                2  radiotherapy   \n",
       "\n",
       "  ward_type ward_code  bed_grade  patient_id admission_type severity  \\\n",
       "0         R         F        2.0       31397      Emergency  Extreme   \n",
       "1         S         F        2.0       31397         Trauma  Extreme   \n",
       "2         S         E        2.0       31397         Trauma  Extreme   \n",
       "3         R         D        2.0       31397         Trauma  Extreme   \n",
       "4         S         D        2.0       31397         Trauma  Extreme   \n",
       "\n",
       "   num_visitors    age  deposit   stay  \n",
       "0             2  51-60     4911   0-10  \n",
       "1             2  51-60     5954  41-50  \n",
       "2             2  51-60     4745  31-40  \n",
       "3             2  51-60     7272  41-50  \n",
       "4             2  51-60     5558  41-50  "
      ]
     },
     "execution_count": 22,
     "metadata": {},
     "output_type": "execute_result"
    }
   ],
   "source": [
    "health.head()"
   ]
  },
  {
   "cell_type": "code",
   "execution_count": null,
   "metadata": {},
   "outputs": [],
   "source": []
  },
  {
   "cell_type": "code",
   "execution_count": null,
   "metadata": {},
   "outputs": [],
   "source": []
  },
  {
   "cell_type": "markdown",
   "metadata": {},
   "source": [
    "### Stay Column (Target Variable)\n",
    "- The stay column displays the number of days a patient is in the hospital. \n",
    "- The stay is a date range instead of a single number "
   ]
  },
  {
   "cell_type": "code",
   "execution_count": 23,
   "metadata": {},
   "outputs": [
    {
     "data": {
      "text/plain": [
       "array(['0-10', '41-50', '31-40', '20-Nov', '51-60', '21-30', '71-80',\n",
       "       'More than 100 Days', '81-90', '61-70', '91-100'], dtype=object)"
      ]
     },
     "execution_count": 23,
     "metadata": {},
     "output_type": "execute_result"
    }
   ],
   "source": [
    "health.stay.unique()"
   ]
  },
  {
   "cell_type": "markdown",
   "metadata": {},
   "source": [
    "- There are 11 unique combinations of date ranges in the stay variable. \n",
    "- The ranges are in increments of 10 days upto 100 days and one range depicting patients who stayed longer than 100 days. "
   ]
  },
  {
   "cell_type": "markdown",
   "metadata": {},
   "source": [
    "#### Dummy values for stay categories \n",
    "- We can devided the categories into 11 values from 0 through 10, where 11 depicting More than 100 Days category. \n",
    "- First we need to change the **20-Nov** value which is a typo for category 11-20 days. "
   ]
  },
  {
   "cell_type": "code",
   "execution_count": 24,
   "metadata": {},
   "outputs": [],
   "source": [
    "health['stay'] = health['stay'].replace(['0-10','20-Nov','21-30','31-40','41-50','51-60'],[0,1,2,3,4,5])"
   ]
  },
  {
   "cell_type": "code",
   "execution_count": 25,
   "metadata": {},
   "outputs": [],
   "source": [
    "health['stay'] = health['stay'].replace(['61-70','71-80','81-90','91-100'],[6,7,8,9])\n",
    "health['stay'] = health['stay'].replace(['More than 100 Days'],10)"
   ]
  },
  {
   "cell_type": "code",
   "execution_count": 26,
   "metadata": {},
   "outputs": [
    {
     "data": {
      "text/plain": [
       "array([ 0,  4,  3,  1,  5,  2,  7, 10,  8,  6,  9])"
      ]
     },
     "execution_count": 26,
     "metadata": {},
     "output_type": "execute_result"
    }
   ],
   "source": [
    "health.stay.unique()"
   ]
  },
  {
   "cell_type": "code",
   "execution_count": 27,
   "metadata": {},
   "outputs": [
    {
     "data": {
      "text/html": [
       "<div>\n",
       "<style scoped>\n",
       "    .dataframe tbody tr th:only-of-type {\n",
       "        vertical-align: middle;\n",
       "    }\n",
       "\n",
       "    .dataframe tbody tr th {\n",
       "        vertical-align: top;\n",
       "    }\n",
       "\n",
       "    .dataframe thead th {\n",
       "        text-align: right;\n",
       "    }\n",
       "</style>\n",
       "<table border=\"1\" class=\"dataframe\">\n",
       "  <thead>\n",
       "    <tr style=\"text-align: right;\">\n",
       "      <th></th>\n",
       "      <th>hosp_code</th>\n",
       "      <th>hosp_type</th>\n",
       "      <th>city_code</th>\n",
       "      <th>hosp_region</th>\n",
       "      <th>rooms_available</th>\n",
       "      <th>department</th>\n",
       "      <th>ward_type</th>\n",
       "      <th>ward_code</th>\n",
       "      <th>bed_grade</th>\n",
       "      <th>patient_id</th>\n",
       "      <th>admission_type</th>\n",
       "      <th>severity</th>\n",
       "      <th>num_visitors</th>\n",
       "      <th>age</th>\n",
       "      <th>deposit</th>\n",
       "      <th>stay</th>\n",
       "    </tr>\n",
       "  </thead>\n",
       "  <tbody>\n",
       "    <tr>\n",
       "      <td>0</td>\n",
       "      <td>8</td>\n",
       "      <td>c</td>\n",
       "      <td>3</td>\n",
       "      <td>Z</td>\n",
       "      <td>3</td>\n",
       "      <td>radiotherapy</td>\n",
       "      <td>R</td>\n",
       "      <td>F</td>\n",
       "      <td>2.0</td>\n",
       "      <td>31397</td>\n",
       "      <td>Emergency</td>\n",
       "      <td>Extreme</td>\n",
       "      <td>2</td>\n",
       "      <td>51-60</td>\n",
       "      <td>4911</td>\n",
       "      <td>0</td>\n",
       "    </tr>\n",
       "    <tr>\n",
       "      <td>1</td>\n",
       "      <td>2</td>\n",
       "      <td>c</td>\n",
       "      <td>5</td>\n",
       "      <td>Z</td>\n",
       "      <td>2</td>\n",
       "      <td>radiotherapy</td>\n",
       "      <td>S</td>\n",
       "      <td>F</td>\n",
       "      <td>2.0</td>\n",
       "      <td>31397</td>\n",
       "      <td>Trauma</td>\n",
       "      <td>Extreme</td>\n",
       "      <td>2</td>\n",
       "      <td>51-60</td>\n",
       "      <td>5954</td>\n",
       "      <td>4</td>\n",
       "    </tr>\n",
       "    <tr>\n",
       "      <td>2</td>\n",
       "      <td>10</td>\n",
       "      <td>e</td>\n",
       "      <td>1</td>\n",
       "      <td>X</td>\n",
       "      <td>2</td>\n",
       "      <td>anesthesia</td>\n",
       "      <td>S</td>\n",
       "      <td>E</td>\n",
       "      <td>2.0</td>\n",
       "      <td>31397</td>\n",
       "      <td>Trauma</td>\n",
       "      <td>Extreme</td>\n",
       "      <td>2</td>\n",
       "      <td>51-60</td>\n",
       "      <td>4745</td>\n",
       "      <td>3</td>\n",
       "    </tr>\n",
       "    <tr>\n",
       "      <td>3</td>\n",
       "      <td>26</td>\n",
       "      <td>b</td>\n",
       "      <td>2</td>\n",
       "      <td>Y</td>\n",
       "      <td>2</td>\n",
       "      <td>radiotherapy</td>\n",
       "      <td>R</td>\n",
       "      <td>D</td>\n",
       "      <td>2.0</td>\n",
       "      <td>31397</td>\n",
       "      <td>Trauma</td>\n",
       "      <td>Extreme</td>\n",
       "      <td>2</td>\n",
       "      <td>51-60</td>\n",
       "      <td>7272</td>\n",
       "      <td>4</td>\n",
       "    </tr>\n",
       "    <tr>\n",
       "      <td>4</td>\n",
       "      <td>26</td>\n",
       "      <td>b</td>\n",
       "      <td>2</td>\n",
       "      <td>Y</td>\n",
       "      <td>2</td>\n",
       "      <td>radiotherapy</td>\n",
       "      <td>S</td>\n",
       "      <td>D</td>\n",
       "      <td>2.0</td>\n",
       "      <td>31397</td>\n",
       "      <td>Trauma</td>\n",
       "      <td>Extreme</td>\n",
       "      <td>2</td>\n",
       "      <td>51-60</td>\n",
       "      <td>5558</td>\n",
       "      <td>4</td>\n",
       "    </tr>\n",
       "  </tbody>\n",
       "</table>\n",
       "</div>"
      ],
      "text/plain": [
       "   hosp_code hosp_type  city_code hosp_region  rooms_available    department  \\\n",
       "0          8         c          3           Z                3  radiotherapy   \n",
       "1          2         c          5           Z                2  radiotherapy   \n",
       "2         10         e          1           X                2    anesthesia   \n",
       "3         26         b          2           Y                2  radiotherapy   \n",
       "4         26         b          2           Y                2  radiotherapy   \n",
       "\n",
       "  ward_type ward_code  bed_grade  patient_id admission_type severity  \\\n",
       "0         R         F        2.0       31397      Emergency  Extreme   \n",
       "1         S         F        2.0       31397         Trauma  Extreme   \n",
       "2         S         E        2.0       31397         Trauma  Extreme   \n",
       "3         R         D        2.0       31397         Trauma  Extreme   \n",
       "4         S         D        2.0       31397         Trauma  Extreme   \n",
       "\n",
       "   num_visitors    age  deposit  stay  \n",
       "0             2  51-60     4911     0  \n",
       "1             2  51-60     5954     4  \n",
       "2             2  51-60     4745     3  \n",
       "3             2  51-60     7272     4  \n",
       "4             2  51-60     5558     4  "
      ]
     },
     "execution_count": 27,
     "metadata": {},
     "output_type": "execute_result"
    }
   ],
   "source": [
    "health.head()"
   ]
  },
  {
   "cell_type": "code",
   "execution_count": null,
   "metadata": {},
   "outputs": [],
   "source": []
  },
  {
   "cell_type": "code",
   "execution_count": 28,
   "metadata": {},
   "outputs": [
    {
     "data": {
      "image/png": "[encoded data removed]",
      "text/plain": [
       "<Figure size 720x576 with 1 Axes>"
      ]
     },
     "metadata": {
      "needs_background": "light"
     },
     "output_type": "display_data"
    }
   ],
   "source": [
    "# Plot the stay variable\n",
    "\n",
    "plt.figure(figsize=(10,8))\n",
    "\n",
    "plt.hist(health.stay, ec='k',bins=11)\n",
    "\n",
    "plt.xlabel('Stay Categories', fontsize=18)\n",
    "plt.ylabel('Distribution', fontsize=18)\n",
    "plt.grid();plt.xticks(np.arange(11),('0-10','11-20','21-30', \"31-40\", '41-50', \"51-60\",\n",
    "                          '61-70','71-80','81-90','91-100', '100<'))\n",
    "plt.title('Hospital Stay Categories Distribution', fontsize=20);"
   ]
  },
  {
   "cell_type": "code",
   "execution_count": 29,
   "metadata": {},
   "outputs": [
    {
     "data": {
      "image/png": "[encoded data removed]",
      "text/plain": [
       "<Figure size 720x576 with 1 Axes>"
      ]
     },
     "metadata": {
      "needs_background": "light"
     },
     "output_type": "display_data"
    }
   ],
   "source": [
    "# Plot the stay variable\n",
    "\n",
    "plt.figure(figsize=(10,8))\n",
    "\n",
    "plt.hist(health.stay, ec='k',bins=11)\n",
    "\n",
    "plt.xlabel('Stay Categories', fontsize=18)\n",
    "plt.ylabel('Distribution', fontsize=18)\n",
    "plt.xticks(np.arange(0,11,1))\n",
    "plt.title('Hospital Stay Categories Distribution', fontsize=20)\n",
    "plt.grid();"
   ]
  },
  {
   "cell_type": "markdown",
   "metadata": {},
   "source": [
    "- From the plot we can now see that **most of the values are between 1 and 3**, **which indicates 11-20, 21-30, and 31-40 days.**\n",
    "- More patients seem to have a hospital stay between 11 to 50 days.  "
   ]
  },
  {
   "cell_type": "code",
   "execution_count": null,
   "metadata": {},
   "outputs": [],
   "source": []
  },
  {
   "cell_type": "markdown",
   "metadata": {},
   "source": [
    "### Bed Grade column"
   ]
  },
  {
   "cell_type": "code",
   "execution_count": 30,
   "metadata": {},
   "outputs": [
    {
     "data": {
      "text/plain": [
       "2.0    123671\n",
       "3.0    110583\n",
       "4.0     57566\n",
       "1.0     26505\n",
       "Name: bed_grade, dtype: int64"
      ]
     },
     "execution_count": 30,
     "metadata": {},
     "output_type": "execute_result"
    }
   ],
   "source": [
    "# Value counts in each category\n",
    "health.bed_grade.value_counts()"
   ]
  },
  {
   "cell_type": "code",
   "execution_count": 31,
   "metadata": {},
   "outputs": [
    {
     "data": {
      "text/plain": [
       "array([2., 3., 4., 1.])"
      ]
     },
     "execution_count": 31,
     "metadata": {},
     "output_type": "execute_result"
    }
   ],
   "source": [
    "# Unique values \n",
    "health.bed_grade.unique()"
   ]
  },
  {
   "cell_type": "code",
   "execution_count": 32,
   "metadata": {},
   "outputs": [
    {
     "data": {
      "image/png": "[encoded data removed]",
      "text/plain": [
       "<Figure size 576x432 with 1 Axes>"
      ]
     },
     "metadata": {
      "needs_background": "light"
     },
     "output_type": "display_data"
    }
   ],
   "source": [
    "# Plot the three admission types\n",
    "\n",
    "plt.figure(figsize=(8,6))\n",
    "\n",
    "plt.hist(health.bed_grade.sort_values(), ec='k', bins=4)\n",
    "\n",
    "plt.xlabel('Bed Grade',fontsize=18)\n",
    "plt.ylabel('Number of Patients',fontsize=18)\n",
    "plt.title('Number of patients in each Bed Grade',fontsize=22);"
   ]
  },
  {
   "cell_type": "markdown",
   "metadata": {},
   "source": [
    "***Distribution of Length of stay based on bed grade***"
   ]
  },
  {
   "cell_type": "code",
   "execution_count": 33,
   "metadata": {},
   "outputs": [
    {
     "data": {
      "image/png": "[encoded data removed]",
      "text/plain": [
       "<Figure size 576x432 with 1 Axes>"
      ]
     },
     "metadata": {
      "needs_background": "light"
     },
     "output_type": "display_data"
    }
   ],
   "source": [
    "# Plot the three admission types\n",
    "\n",
    "plt.figure(figsize=(8,6))\n",
    "\n",
    "sns.boxplot('bed_grade',health['stay'] * 10, data=health)\n",
    "\n",
    "plt.xlabel('Bed Grade',fontsize=18)\n",
    "plt.ylabel('Length of Say (days)',fontsize=18)\n",
    "plt.title('Number of patients in each Bed Grade',fontsize=22);"
   ]
  },
  {
   "cell_type": "code",
   "execution_count": 34,
   "metadata": {},
   "outputs": [
    {
     "data": {
      "image/png": "[encoded data removed]",
      "text/plain": [
       "<Figure size 576x432 with 1 Axes>"
      ]
     },
     "metadata": {
      "needs_background": "light"
     },
     "output_type": "display_data"
    }
   ],
   "source": [
    "# Plot the three admission types\n",
    "\n",
    "plt.figure(figsize=(8,6))\n",
    "\n",
    "sns.barplot('bed_grade',health['stay'] * 10, data=health)\n",
    "\n",
    "plt.xlabel('Bed Grade',fontsize=18)\n",
    "plt.ylabel('Length of Say (days)',fontsize=18)\n",
    "plt.title('Number of patients in each Bed Grade',fontsize=22);"
   ]
  },
  {
   "cell_type": "markdown",
   "metadata": {},
   "source": [
    "- The average length of stay in each category seems to be extremely similar. However, they do differ slightly. \n",
    "- ***Bed Grade is most likely a good indicator of length of stay***"
   ]
  },
  {
   "cell_type": "code",
   "execution_count": null,
   "metadata": {},
   "outputs": [],
   "source": []
  },
  {
   "cell_type": "code",
   "execution_count": null,
   "metadata": {},
   "outputs": [],
   "source": []
  },
  {
   "cell_type": "markdown",
   "metadata": {},
   "source": [
    "### Age variable"
   ]
  },
  {
   "cell_type": "code",
   "execution_count": 35,
   "metadata": {},
   "outputs": [
    {
     "data": {
      "text/plain": [
       "array(['51-60', '71-80', '31-40', '41-50', '81-90', '61-70', '21-30',\n",
       "       '20-Nov', '0-10', '91-100'], dtype=object)"
      ]
     },
     "execution_count": 35,
     "metadata": {},
     "output_type": "execute_result"
    }
   ],
   "source": [
    "health.age.unique()"
   ]
  },
  {
   "cell_type": "markdown",
   "metadata": {},
   "source": [
    "- There seems to be 10 categories of age, each on a 10 year interval. \n",
    "- 20-Nov like previousely should belong to the 11-20 category. "
   ]
  },
  {
   "cell_type": "code",
   "execution_count": null,
   "metadata": {},
   "outputs": [],
   "source": []
  },
  {
   "cell_type": "code",
   "execution_count": 36,
   "metadata": {},
   "outputs": [
    {
     "data": {
      "image/png": "[encoded data removed]",
      "text/plain": [
       "<Figure size 720x576 with 1 Axes>"
      ]
     },
     "metadata": {
      "needs_background": "light"
     },
     "output_type": "display_data"
    }
   ],
   "source": [
    "## Plot the distribution of the age variable \n",
    "\n",
    "plt.figure(figsize=(10,8))\n",
    "\n",
    "plt.hist(health.age.sort_values(), ec='k',bins=10)\n",
    "\n",
    "plt.xlabel('Age Categories',fontsize=18)\n",
    "plt.ylabel('Number of Patients',fontsize=18)\n",
    "plt.title('Distribution of Age',fontsize=22)\n",
    "plt.grid();"
   ]
  },
  {
   "cell_type": "markdown",
   "metadata": {},
   "source": [
    "- The data seems to be pretty normally distributed\n",
    "- Ages 31-40 and 41-50 seems to have similar amount of patients"
   ]
  },
  {
   "cell_type": "code",
   "execution_count": null,
   "metadata": {},
   "outputs": [],
   "source": []
  },
  {
   "cell_type": "markdown",
   "metadata": {},
   "source": [
    "### Transforming the age variable. \n",
    "\n",
    "- We can devide the age variable into 10 categores, one for each decade. "
   ]
  },
  {
   "cell_type": "code",
   "execution_count": 37,
   "metadata": {},
   "outputs": [],
   "source": [
    "health['age'] = health['age'].replace(['0-10','20-Nov','21-30','31-40','41-50','51-60'],[0,1,2,3,4,5])\n",
    "health['age'] = health['age'].replace(['61-70','71-80','81-90','91-100'],[6,7,8,9])"
   ]
  },
  {
   "cell_type": "code",
   "execution_count": 38,
   "metadata": {},
   "outputs": [
    {
     "data": {
      "text/plain": [
       "array([5, 7, 3, 4, 8, 6, 2, 1, 0, 9])"
      ]
     },
     "execution_count": 38,
     "metadata": {},
     "output_type": "execute_result"
    }
   ],
   "source": [
    "health.age.unique()"
   ]
  },
  {
   "cell_type": "code",
   "execution_count": null,
   "metadata": {},
   "outputs": [],
   "source": []
  },
  {
   "cell_type": "code",
   "execution_count": 39,
   "metadata": {},
   "outputs": [
    {
     "data": {
      "image/png": "[encoded data removed]",
      "text/plain": [
       "<Figure size 576x432 with 1 Axes>"
      ]
     },
     "metadata": {
      "needs_background": "light"
     },
     "output_type": "display_data"
    }
   ],
   "source": [
    "### Plot new age distributions \n",
    "\n",
    "plt.figure(figsize=(8,6))\n",
    "\n",
    "plt.hist(health.age.sort_values(), ec='k', bins=10)\n",
    "\n",
    "plt.xlabel('Age Categories',fontsize=18)\n",
    "plt.ylabel('Number of Patients',fontsize=18)\n",
    "plt.xticks(np.arange(0,10,1))\n",
    "plt.title('Distribution of Age',fontsize=22);"
   ]
  },
  {
   "cell_type": "code",
   "execution_count": null,
   "metadata": {},
   "outputs": [],
   "source": []
  },
  {
   "cell_type": "code",
   "execution_count": 40,
   "metadata": {},
   "outputs": [
    {
     "data": {
      "text/html": [
       "<div>\n",
       "<style scoped>\n",
       "    .dataframe tbody tr th:only-of-type {\n",
       "        vertical-align: middle;\n",
       "    }\n",
       "\n",
       "    .dataframe tbody tr th {\n",
       "        vertical-align: top;\n",
       "    }\n",
       "\n",
       "    .dataframe thead th {\n",
       "        text-align: right;\n",
       "    }\n",
       "</style>\n",
       "<table border=\"1\" class=\"dataframe\">\n",
       "  <thead>\n",
       "    <tr style=\"text-align: right;\">\n",
       "      <th></th>\n",
       "      <th>hosp_code</th>\n",
       "      <th>hosp_type</th>\n",
       "      <th>city_code</th>\n",
       "      <th>hosp_region</th>\n",
       "      <th>rooms_available</th>\n",
       "      <th>department</th>\n",
       "      <th>ward_type</th>\n",
       "      <th>ward_code</th>\n",
       "      <th>bed_grade</th>\n",
       "      <th>patient_id</th>\n",
       "      <th>admission_type</th>\n",
       "      <th>severity</th>\n",
       "      <th>num_visitors</th>\n",
       "      <th>age</th>\n",
       "      <th>deposit</th>\n",
       "      <th>stay</th>\n",
       "    </tr>\n",
       "  </thead>\n",
       "  <tbody>\n",
       "    <tr>\n",
       "      <td>0</td>\n",
       "      <td>8</td>\n",
       "      <td>c</td>\n",
       "      <td>3</td>\n",
       "      <td>Z</td>\n",
       "      <td>3</td>\n",
       "      <td>radiotherapy</td>\n",
       "      <td>R</td>\n",
       "      <td>F</td>\n",
       "      <td>2.0</td>\n",
       "      <td>31397</td>\n",
       "      <td>Emergency</td>\n",
       "      <td>Extreme</td>\n",
       "      <td>2</td>\n",
       "      <td>5</td>\n",
       "      <td>4911</td>\n",
       "      <td>0</td>\n",
       "    </tr>\n",
       "    <tr>\n",
       "      <td>1</td>\n",
       "      <td>2</td>\n",
       "      <td>c</td>\n",
       "      <td>5</td>\n",
       "      <td>Z</td>\n",
       "      <td>2</td>\n",
       "      <td>radiotherapy</td>\n",
       "      <td>S</td>\n",
       "      <td>F</td>\n",
       "      <td>2.0</td>\n",
       "      <td>31397</td>\n",
       "      <td>Trauma</td>\n",
       "      <td>Extreme</td>\n",
       "      <td>2</td>\n",
       "      <td>5</td>\n",
       "      <td>5954</td>\n",
       "      <td>4</td>\n",
       "    </tr>\n",
       "    <tr>\n",
       "      <td>2</td>\n",
       "      <td>10</td>\n",
       "      <td>e</td>\n",
       "      <td>1</td>\n",
       "      <td>X</td>\n",
       "      <td>2</td>\n",
       "      <td>anesthesia</td>\n",
       "      <td>S</td>\n",
       "      <td>E</td>\n",
       "      <td>2.0</td>\n",
       "      <td>31397</td>\n",
       "      <td>Trauma</td>\n",
       "      <td>Extreme</td>\n",
       "      <td>2</td>\n",
       "      <td>5</td>\n",
       "      <td>4745</td>\n",
       "      <td>3</td>\n",
       "    </tr>\n",
       "    <tr>\n",
       "      <td>3</td>\n",
       "      <td>26</td>\n",
       "      <td>b</td>\n",
       "      <td>2</td>\n",
       "      <td>Y</td>\n",
       "      <td>2</td>\n",
       "      <td>radiotherapy</td>\n",
       "      <td>R</td>\n",
       "      <td>D</td>\n",
       "      <td>2.0</td>\n",
       "      <td>31397</td>\n",
       "      <td>Trauma</td>\n",
       "      <td>Extreme</td>\n",
       "      <td>2</td>\n",
       "      <td>5</td>\n",
       "      <td>7272</td>\n",
       "      <td>4</td>\n",
       "    </tr>\n",
       "    <tr>\n",
       "      <td>4</td>\n",
       "      <td>26</td>\n",
       "      <td>b</td>\n",
       "      <td>2</td>\n",
       "      <td>Y</td>\n",
       "      <td>2</td>\n",
       "      <td>radiotherapy</td>\n",
       "      <td>S</td>\n",
       "      <td>D</td>\n",
       "      <td>2.0</td>\n",
       "      <td>31397</td>\n",
       "      <td>Trauma</td>\n",
       "      <td>Extreme</td>\n",
       "      <td>2</td>\n",
       "      <td>5</td>\n",
       "      <td>5558</td>\n",
       "      <td>4</td>\n",
       "    </tr>\n",
       "  </tbody>\n",
       "</table>\n",
       "</div>"
      ],
      "text/plain": [
       "   hosp_code hosp_type  city_code hosp_region  rooms_available    department  \\\n",
       "0          8         c          3           Z                3  radiotherapy   \n",
       "1          2         c          5           Z                2  radiotherapy   \n",
       "2         10         e          1           X                2    anesthesia   \n",
       "3         26         b          2           Y                2  radiotherapy   \n",
       "4         26         b          2           Y                2  radiotherapy   \n",
       "\n",
       "  ward_type ward_code  bed_grade  patient_id admission_type severity  \\\n",
       "0         R         F        2.0       31397      Emergency  Extreme   \n",
       "1         S         F        2.0       31397         Trauma  Extreme   \n",
       "2         S         E        2.0       31397         Trauma  Extreme   \n",
       "3         R         D        2.0       31397         Trauma  Extreme   \n",
       "4         S         D        2.0       31397         Trauma  Extreme   \n",
       "\n",
       "   num_visitors  age  deposit  stay  \n",
       "0             2    5     4911     0  \n",
       "1             2    5     5954     4  \n",
       "2             2    5     4745     3  \n",
       "3             2    5     7272     4  \n",
       "4             2    5     5558     4  "
      ]
     },
     "execution_count": 40,
     "metadata": {},
     "output_type": "execute_result"
    }
   ],
   "source": [
    "health.head()"
   ]
  },
  {
   "cell_type": "code",
   "execution_count": null,
   "metadata": {},
   "outputs": [],
   "source": []
  },
  {
   "cell_type": "markdown",
   "metadata": {},
   "source": [
    "***Which age group has the highest average hospital stay***"
   ]
  },
  {
   "cell_type": "code",
   "execution_count": 41,
   "metadata": {},
   "outputs": [],
   "source": [
    "avgDaysStay1 = ((health.groupby('age').stay.mean().sort_values())) * 10"
   ]
  },
  {
   "cell_type": "code",
   "execution_count": 42,
   "metadata": {},
   "outputs": [],
   "source": [
    "avgDayStay = pd.DataFrame()\n",
    "\n",
    "avgDayStay['Age_range'] = ['11-20','0-10','21-30', \"31-40\", '41-50', \"51-60\",'61-70','71-80','81-90','91-100']\n",
    "avgDayStay['Average_stay'] = round(avgDaysStay1)"
   ]
  },
  {
   "cell_type": "code",
   "execution_count": 43,
   "metadata": {},
   "outputs": [
    {
     "data": {
      "text/html": [
       "<div>\n",
       "<style scoped>\n",
       "    .dataframe tbody tr th:only-of-type {\n",
       "        vertical-align: middle;\n",
       "    }\n",
       "\n",
       "    .dataframe tbody tr th {\n",
       "        vertical-align: top;\n",
       "    }\n",
       "\n",
       "    .dataframe thead th {\n",
       "        text-align: right;\n",
       "    }\n",
       "</style>\n",
       "<table border=\"1\" class=\"dataframe\">\n",
       "  <thead>\n",
       "    <tr style=\"text-align: right;\">\n",
       "      <th></th>\n",
       "      <th>Age_range</th>\n",
       "      <th>Average_stay</th>\n",
       "    </tr>\n",
       "  </thead>\n",
       "  <tbody>\n",
       "    <tr>\n",
       "      <td>0</td>\n",
       "      <td>11-20</td>\n",
       "      <td>24.0</td>\n",
       "    </tr>\n",
       "    <tr>\n",
       "      <td>1</td>\n",
       "      <td>0-10</td>\n",
       "      <td>23.0</td>\n",
       "    </tr>\n",
       "    <tr>\n",
       "      <td>2</td>\n",
       "      <td>21-30</td>\n",
       "      <td>24.0</td>\n",
       "    </tr>\n",
       "    <tr>\n",
       "      <td>3</td>\n",
       "      <td>31-40</td>\n",
       "      <td>26.0</td>\n",
       "    </tr>\n",
       "    <tr>\n",
       "      <td>4</td>\n",
       "      <td>41-50</td>\n",
       "      <td>27.0</td>\n",
       "    </tr>\n",
       "    <tr>\n",
       "      <td>5</td>\n",
       "      <td>51-60</td>\n",
       "      <td>28.0</td>\n",
       "    </tr>\n",
       "    <tr>\n",
       "      <td>6</td>\n",
       "      <td>61-70</td>\n",
       "      <td>29.0</td>\n",
       "    </tr>\n",
       "    <tr>\n",
       "      <td>7</td>\n",
       "      <td>71-80</td>\n",
       "      <td>29.0</td>\n",
       "    </tr>\n",
       "    <tr>\n",
       "      <td>8</td>\n",
       "      <td>81-90</td>\n",
       "      <td>33.0</td>\n",
       "    </tr>\n",
       "    <tr>\n",
       "      <td>9</td>\n",
       "      <td>91-100</td>\n",
       "      <td>33.0</td>\n",
       "    </tr>\n",
       "  </tbody>\n",
       "</table>\n",
       "</div>"
      ],
      "text/plain": [
       "  Age_range  Average_stay\n",
       "0     11-20          24.0\n",
       "1      0-10          23.0\n",
       "2     21-30          24.0\n",
       "3     31-40          26.0\n",
       "4     41-50          27.0\n",
       "5     51-60          28.0\n",
       "6     61-70          29.0\n",
       "7     71-80          29.0\n",
       "8     81-90          33.0\n",
       "9    91-100          33.0"
      ]
     },
     "execution_count": 43,
     "metadata": {},
     "output_type": "execute_result"
    }
   ],
   "source": [
    "### Display the average days stayed for each age group. \n",
    "avgDayStay"
   ]
  },
  {
   "cell_type": "markdown",
   "metadata": {},
   "source": [
    "- Age groups 8 and 9 has the highest average hospital stays. \n",
    "- Age groups 8 and 9 depicts patients in age groups 81-90 and 91-100. \n",
    "- **It is interesting to see how the length of stay increases as the age of the patient increase as well.** \n",
    "- **The only exception to this scenario is age group 0, which depicts patients in ages 0-10** \n",
    "- Both these observations do make sence.  "
   ]
  },
  {
   "cell_type": "code",
   "execution_count": null,
   "metadata": {},
   "outputs": [],
   "source": []
  },
  {
   "cell_type": "code",
   "execution_count": 44,
   "metadata": {},
   "outputs": [
    {
     "data": {
      "image/png": "[encoded data removed]",
      "text/plain": [
       "<Figure size 864x576 with 1 Axes>"
      ]
     },
     "metadata": {
      "needs_background": "light"
     },
     "output_type": "display_data"
    }
   ],
   "source": [
    "plt.figure(figsize=(12,8))\n",
    "\n",
    "sns.barplot('Age_range','Average_stay',data=avgDayStay)\n",
    "\n",
    "plt.xlabel('Age Range',fontsize=16)\n",
    "plt.ylabel('Average Stay (Days)',fontsize=14)\n",
    "plt.title('Patient Average Length of stay Based on Age',fontsize=18)\n",
    "plt.xticks(np.arange(10),('0-10','11-20','21-30', \"31-40\", '41-50', \"51-60\",\n",
    "                          '61-70','71-80','81-90','91-100'))\n",
    "    \n",
    "plt.show();"
   ]
  },
  {
   "cell_type": "code",
   "execution_count": null,
   "metadata": {},
   "outputs": [],
   "source": []
  },
  {
   "cell_type": "code",
   "execution_count": null,
   "metadata": {},
   "outputs": [],
   "source": []
  },
  {
   "cell_type": "markdown",
   "metadata": {},
   "source": [
    "### Department Variable"
   ]
  },
  {
   "cell_type": "code",
   "execution_count": 45,
   "metadata": {},
   "outputs": [
    {
     "data": {
      "text/plain": [
       "array(['radiotherapy', 'anesthesia', 'gynecology', 'TB & Chest disease',\n",
       "       'surgery'], dtype=object)"
      ]
     },
     "execution_count": 45,
     "metadata": {},
     "output_type": "execute_result"
    }
   ],
   "source": [
    "health.department.unique()"
   ]
  },
  {
   "cell_type": "code",
   "execution_count": 46,
   "metadata": {},
   "outputs": [
    {
     "data": {
      "image/png": "[encoded data removed]",
      "text/plain": [
       "<Figure size 576x432 with 1 Axes>"
      ]
     },
     "metadata": {
      "needs_background": "light"
     },
     "output_type": "display_data"
    }
   ],
   "source": [
    "## Visualize the different departments\n",
    "plt.figure(figsize=(8,6))\n",
    "\n",
    "plt.hist(health.department, ec='k', bins=5, color='grey')\n",
    "\n",
    "plt.xlabel('Departments',fontsize=18)\n",
    "plt.ylabel('Number of Patients',fontsize=18)\n",
    "plt.title('Distribution of Departments',fontsize=22);"
   ]
  },
  {
   "cell_type": "markdown",
   "metadata": {},
   "source": [
    "- Gynecology department seems to have exponentially large amount of patients compared to other departments. \n",
    "- There could be a large amounts of patients in for child birth. "
   ]
  },
  {
   "cell_type": "code",
   "execution_count": 47,
   "metadata": {},
   "outputs": [],
   "source": [
    "# Convert Deparments into five numerical categories.\n",
    "\n",
    "health['department'] = health['department'].astype('category')\n",
    "health['department'] = pd.factorize(health['department'])[0]"
   ]
  },
  {
   "cell_type": "code",
   "execution_count": 48,
   "metadata": {},
   "outputs": [
    {
     "data": {
      "text/plain": [
       "array([0, 1, 2, 3, 4])"
      ]
     },
     "execution_count": 48,
     "metadata": {},
     "output_type": "execute_result"
    }
   ],
   "source": [
    "health.department.unique()"
   ]
  },
  {
   "cell_type": "code",
   "execution_count": 49,
   "metadata": {},
   "outputs": [
    {
     "data": {
      "text/plain": [
       "0     28506\n",
       "1     29647\n",
       "2    249387\n",
       "3      9584\n",
       "4      1201\n",
       "Name: department, dtype: int64"
      ]
     },
     "execution_count": 49,
     "metadata": {},
     "output_type": "execute_result"
    }
   ],
   "source": [
    "health.department.value_counts(sort=False)"
   ]
  },
  {
   "cell_type": "code",
   "execution_count": null,
   "metadata": {},
   "outputs": [],
   "source": []
  },
  {
   "cell_type": "markdown",
   "metadata": {},
   "source": [
    "***What is the Average length of stay for patients in each departemnt?***"
   ]
  },
  {
   "cell_type": "code",
   "execution_count": 50,
   "metadata": {},
   "outputs": [],
   "source": [
    "# Get Average length of stay of patients in each department\n",
    "avgStayDept = (health.groupby('department').stay.mean()) * 10"
   ]
  },
  {
   "cell_type": "code",
   "execution_count": 51,
   "metadata": {},
   "outputs": [],
   "source": [
    "# Add calculated average values to a dataframe\n",
    "avgDeptDF = pd.DataFrame()\n",
    "\n",
    "avgDeptDF['Department'] = ['Radiology','Anesthesia','Gynecology', \"TB and Chest\", 'Surgery']\n",
    "avgDeptDF['Average_stay'] = round(avgStayDept)"
   ]
  },
  {
   "cell_type": "code",
   "execution_count": 52,
   "metadata": {},
   "outputs": [
    {
     "data": {
      "text/html": [
       "<div>\n",
       "<style scoped>\n",
       "    .dataframe tbody tr th:only-of-type {\n",
       "        vertical-align: middle;\n",
       "    }\n",
       "\n",
       "    .dataframe tbody tr th {\n",
       "        vertical-align: top;\n",
       "    }\n",
       "\n",
       "    .dataframe thead th {\n",
       "        text-align: right;\n",
       "    }\n",
       "</style>\n",
       "<table border=\"1\" class=\"dataframe\">\n",
       "  <thead>\n",
       "    <tr style=\"text-align: right;\">\n",
       "      <th></th>\n",
       "      <th>Department</th>\n",
       "      <th>Average_stay</th>\n",
       "    </tr>\n",
       "  </thead>\n",
       "  <tbody>\n",
       "    <tr>\n",
       "      <td>0</td>\n",
       "      <td>Radiology</td>\n",
       "      <td>28.0</td>\n",
       "    </tr>\n",
       "    <tr>\n",
       "      <td>1</td>\n",
       "      <td>Anesthesia</td>\n",
       "      <td>25.0</td>\n",
       "    </tr>\n",
       "    <tr>\n",
       "      <td>2</td>\n",
       "      <td>Gynecology</td>\n",
       "      <td>27.0</td>\n",
       "    </tr>\n",
       "    <tr>\n",
       "      <td>3</td>\n",
       "      <td>TB and Chest</td>\n",
       "      <td>26.0</td>\n",
       "    </tr>\n",
       "    <tr>\n",
       "      <td>4</td>\n",
       "      <td>Surgery</td>\n",
       "      <td>32.0</td>\n",
       "    </tr>\n",
       "  </tbody>\n",
       "</table>\n",
       "</div>"
      ],
      "text/plain": [
       "     Department  Average_stay\n",
       "0     Radiology          28.0\n",
       "1    Anesthesia          25.0\n",
       "2    Gynecology          27.0\n",
       "3  TB and Chest          26.0\n",
       "4       Surgery          32.0"
      ]
     },
     "execution_count": 52,
     "metadata": {},
     "output_type": "execute_result"
    }
   ],
   "source": [
    "avgDeptDF"
   ]
  },
  {
   "cell_type": "code",
   "execution_count": 53,
   "metadata": {},
   "outputs": [
    {
     "data": {
      "image/png": "[encoded data removed]",
      "text/plain": [
       "<Figure size 720x576 with 1 Axes>"
      ]
     },
     "metadata": {
      "needs_background": "light"
     },
     "output_type": "display_data"
    }
   ],
   "source": [
    "plt.figure(figsize=(10,8))\n",
    "\n",
    "sns.barplot('Department','Average_stay',data=avgDeptDF)\n",
    "\n",
    "plt.xlabel('Department',fontsize=14)\n",
    "plt.ylabel('Average Stay (Days)',fontsize=14)\n",
    "plt.title('Patient Length of stay in Each Department',fontsize=15)\n",
    "plt.xticks(np.arange(5),('Radiology','Anesthesia','Gynecology', \"TB and Chest\",'Surgery'));"
   ]
  },
  {
   "cell_type": "markdown",
   "metadata": {},
   "source": [
    "- Patients who are in the surgery department are staying longer on average. \n",
    "- Patients in other departments have very similar average stays. "
   ]
  },
  {
   "cell_type": "code",
   "execution_count": null,
   "metadata": {},
   "outputs": [],
   "source": []
  },
  {
   "cell_type": "code",
   "execution_count": null,
   "metadata": {},
   "outputs": [],
   "source": []
  },
  {
   "cell_type": "markdown",
   "metadata": {},
   "source": [
    "***What is the distribution of average age of patients in each department?***"
   ]
  },
  {
   "cell_type": "code",
   "execution_count": 54,
   "metadata": {},
   "outputs": [],
   "source": [
    "# Calculate the average age of patientes in each department\n",
    "avgAgeDept = (health.groupby('department').age.mean().round()) * 10"
   ]
  },
  {
   "cell_type": "code",
   "execution_count": 55,
   "metadata": {},
   "outputs": [
    {
     "data": {
      "text/html": [
       "<div>\n",
       "<style scoped>\n",
       "    .dataframe tbody tr th:only-of-type {\n",
       "        vertical-align: middle;\n",
       "    }\n",
       "\n",
       "    .dataframe tbody tr th {\n",
       "        vertical-align: top;\n",
       "    }\n",
       "\n",
       "    .dataframe thead th {\n",
       "        text-align: right;\n",
       "    }\n",
       "</style>\n",
       "<table border=\"1\" class=\"dataframe\">\n",
       "  <thead>\n",
       "    <tr style=\"text-align: right;\">\n",
       "      <th></th>\n",
       "      <th>Department</th>\n",
       "      <th>Average_stay</th>\n",
       "      <th>Average_age</th>\n",
       "    </tr>\n",
       "  </thead>\n",
       "  <tbody>\n",
       "    <tr>\n",
       "      <td>0</td>\n",
       "      <td>Radiology</td>\n",
       "      <td>28.0</td>\n",
       "      <td>50.0</td>\n",
       "    </tr>\n",
       "    <tr>\n",
       "      <td>1</td>\n",
       "      <td>Anesthesia</td>\n",
       "      <td>25.0</td>\n",
       "      <td>40.0</td>\n",
       "    </tr>\n",
       "    <tr>\n",
       "      <td>2</td>\n",
       "      <td>Gynecology</td>\n",
       "      <td>27.0</td>\n",
       "      <td>40.0</td>\n",
       "    </tr>\n",
       "    <tr>\n",
       "      <td>3</td>\n",
       "      <td>TB and Chest</td>\n",
       "      <td>26.0</td>\n",
       "      <td>40.0</td>\n",
       "    </tr>\n",
       "    <tr>\n",
       "      <td>4</td>\n",
       "      <td>Surgery</td>\n",
       "      <td>32.0</td>\n",
       "      <td>50.0</td>\n",
       "    </tr>\n",
       "  </tbody>\n",
       "</table>\n",
       "</div>"
      ],
      "text/plain": [
       "     Department  Average_stay  Average_age\n",
       "0     Radiology          28.0         50.0\n",
       "1    Anesthesia          25.0         40.0\n",
       "2    Gynecology          27.0         40.0\n",
       "3  TB and Chest          26.0         40.0\n",
       "4       Surgery          32.0         50.0"
      ]
     },
     "execution_count": 55,
     "metadata": {},
     "output_type": "execute_result"
    }
   ],
   "source": [
    "# Add the values to the dataframe\n",
    "avgDeptDF['Average_age'] = avgAgeDept\n",
    "\n",
    "avgDeptDF"
   ]
  },
  {
   "cell_type": "code",
   "execution_count": 56,
   "metadata": {},
   "outputs": [
    {
     "data": {
      "image/png": "[encoded data removed]",
      "text/plain": [
       "<Figure size 720x576 with 1 Axes>"
      ]
     },
     "metadata": {
      "needs_background": "light"
     },
     "output_type": "display_data"
    }
   ],
   "source": [
    "plt.figure(figsize=(10,8))\n",
    "\n",
    "sns.barplot('Department','Average_age',data=avgDeptDF)\n",
    "\n",
    "plt.xlabel('Department',fontsize=14)\n",
    "plt.ylabel('Average Age (years)',fontsize=14)\n",
    "plt.title('Average Patient Age in Each Department',fontsize=15)\n",
    "plt.xticks(np.arange(5),('Radiology','Anesthesia','Gynecology', \"TB and Chest\",'Surgery'));"
   ]
  },
  {
   "cell_type": "markdown",
   "metadata": {},
   "source": [
    "- Patients in both Radiology and Surgery departments are older on average than other departments (50 years)\n",
    "- Patients in all other departments average 40 years. "
   ]
  },
  {
   "cell_type": "code",
   "execution_count": null,
   "metadata": {},
   "outputs": [],
   "source": []
  },
  {
   "cell_type": "code",
   "execution_count": null,
   "metadata": {},
   "outputs": [],
   "source": []
  },
  {
   "cell_type": "markdown",
   "metadata": {},
   "source": [
    "### Admission Type"
   ]
  },
  {
   "cell_type": "code",
   "execution_count": 57,
   "metadata": {},
   "outputs": [
    {
     "data": {
      "text/plain": [
       "array(['Emergency', 'Trauma', 'Urgent'], dtype=object)"
      ]
     },
     "execution_count": 57,
     "metadata": {},
     "output_type": "execute_result"
    }
   ],
   "source": [
    "health.admission_type.unique()"
   ]
  },
  {
   "cell_type": "code",
   "execution_count": 58,
   "metadata": {},
   "outputs": [
    {
     "data": {
      "image/png": "[encoded data removed]",
      "text/plain": [
       "<Figure size 576x432 with 1 Axes>"
      ]
     },
     "metadata": {
      "needs_background": "light"
     },
     "output_type": "display_data"
    }
   ],
   "source": [
    "# Plot the three admission types\n",
    "\n",
    "plt.figure(figsize=(8,6))\n",
    "\n",
    "plt.hist(health.admission_type.sort_values(), ec='k', bins=3, color='maroon')\n",
    "\n",
    "plt.xlabel('Admission Type',fontsize=18)\n",
    "plt.ylabel('Number of Patients',fontsize=18)\n",
    "plt.title('Number of patients Admitted to Each Section',fontsize=22)\n",
    "plt.xticks(np.arange(3),('Emergency','Trauma','Urgent'));"
   ]
  },
  {
   "cell_type": "code",
   "execution_count": 59,
   "metadata": {},
   "outputs": [
    {
     "data": {
      "text/plain": [
       "Trauma       152200\n",
       "Emergency    117624\n",
       "Urgent        48501\n",
       "Name: admission_type, dtype: int64"
      ]
     },
     "execution_count": 59,
     "metadata": {},
     "output_type": "execute_result"
    }
   ],
   "source": [
    "health.admission_type.value_counts()"
   ]
  },
  {
   "cell_type": "code",
   "execution_count": 60,
   "metadata": {},
   "outputs": [],
   "source": [
    "# Convert Admission types into three numerical categories.\n",
    "\n",
    "health['admission_type'] = health['admission_type'].astype('category')\n",
    "health['admission_type'] = pd.factorize(health['admission_type'])[0]"
   ]
  },
  {
   "cell_type": "markdown",
   "metadata": {},
   "source": [
    "***How many patiensts are admitted in each admission type?***"
   ]
  },
  {
   "cell_type": "code",
   "execution_count": 61,
   "metadata": {},
   "outputs": [
    {
     "data": {
      "text/plain": [
       "array([0, 1, 2])"
      ]
     },
     "execution_count": 61,
     "metadata": {},
     "output_type": "execute_result"
    }
   ],
   "source": [
    "health.admission_type.unique()"
   ]
  },
  {
   "cell_type": "code",
   "execution_count": 62,
   "metadata": {},
   "outputs": [
    {
     "data": {
      "text/plain": [
       "1    152200\n",
       "0    117624\n",
       "2     48501\n",
       "Name: admission_type, dtype: int64"
      ]
     },
     "execution_count": 62,
     "metadata": {},
     "output_type": "execute_result"
    }
   ],
   "source": [
    "health.admission_type.value_counts()"
   ]
  },
  {
   "cell_type": "code",
   "execution_count": null,
   "metadata": {},
   "outputs": [],
   "source": []
  },
  {
   "cell_type": "markdown",
   "metadata": {},
   "source": [
    "***What is the average length of stay in each admission type?***"
   ]
  },
  {
   "cell_type": "code",
   "execution_count": 63,
   "metadata": {},
   "outputs": [],
   "source": [
    "# Calculate the average age of patientes in each department\n",
    "avgAdminType = (health.groupby('admission_type').stay.mean().round()) * 10"
   ]
  },
  {
   "cell_type": "code",
   "execution_count": 64,
   "metadata": {},
   "outputs": [
    {
     "data": {
      "text/html": [
       "<div>\n",
       "<style scoped>\n",
       "    .dataframe tbody tr th:only-of-type {\n",
       "        vertical-align: middle;\n",
       "    }\n",
       "\n",
       "    .dataframe tbody tr th {\n",
       "        vertical-align: top;\n",
       "    }\n",
       "\n",
       "    .dataframe thead th {\n",
       "        text-align: right;\n",
       "    }\n",
       "</style>\n",
       "<table border=\"1\" class=\"dataframe\">\n",
       "  <thead>\n",
       "    <tr style=\"text-align: right;\">\n",
       "      <th></th>\n",
       "      <th>Admission_type</th>\n",
       "      <th>Average_stay</th>\n",
       "    </tr>\n",
       "  </thead>\n",
       "  <tbody>\n",
       "    <tr>\n",
       "      <td>0</td>\n",
       "      <td>Emergency</td>\n",
       "      <td>30.0</td>\n",
       "    </tr>\n",
       "    <tr>\n",
       "      <td>1</td>\n",
       "      <td>Trauma</td>\n",
       "      <td>30.0</td>\n",
       "    </tr>\n",
       "    <tr>\n",
       "      <td>2</td>\n",
       "      <td>Urgent</td>\n",
       "      <td>20.0</td>\n",
       "    </tr>\n",
       "  </tbody>\n",
       "</table>\n",
       "</div>"
      ],
      "text/plain": [
       "  Admission_type  Average_stay\n",
       "0      Emergency          30.0\n",
       "1         Trauma          30.0\n",
       "2         Urgent          20.0"
      ]
     },
     "execution_count": 64,
     "metadata": {},
     "output_type": "execute_result"
    }
   ],
   "source": [
    "# Enter vaues to a new DF \n",
    "adminTypeDF = pd.DataFrame()\n",
    "\n",
    "adminTypeDF['Admission_type'] = ['Emergency','Trauma','Urgent']\n",
    "adminTypeDF['Average_stay'] = avgAdminType\n",
    "\n",
    "adminTypeDF"
   ]
  },
  {
   "cell_type": "code",
   "execution_count": 65,
   "metadata": {},
   "outputs": [
    {
     "data": {
      "image/png": "[encoded data removed]",
      "text/plain": [
       "<Figure size 720x576 with 1 Axes>"
      ]
     },
     "metadata": {
      "needs_background": "light"
     },
     "output_type": "display_data"
    }
   ],
   "source": [
    "plt.figure(figsize=(10,8))\n",
    "\n",
    "sns.barplot('Admission_type','Average_stay',data=adminTypeDF)\n",
    "\n",
    "plt.xlabel('Admission Type',fontsize=14)\n",
    "plt.ylabel('Average Stay (Days)',fontsize=14)\n",
    "plt.title('Average Length of stay Based on Admission Type',fontsize=15)\n",
    "plt.xticks(np.arange(3),('Emergency','Trauma','Urgent'));"
   ]
  },
  {
   "cell_type": "markdown",
   "metadata": {},
   "source": [
    "- Urgent care patients on average seem to have stayed 20 days while Emergency and Trauma patients stayed 30 days on average. "
   ]
  },
  {
   "cell_type": "code",
   "execution_count": null,
   "metadata": {},
   "outputs": [],
   "source": []
  },
  {
   "cell_type": "code",
   "execution_count": null,
   "metadata": {},
   "outputs": [],
   "source": []
  },
  {
   "cell_type": "markdown",
   "metadata": {},
   "source": [
    "### Severity"
   ]
  },
  {
   "cell_type": "code",
   "execution_count": 66,
   "metadata": {},
   "outputs": [
    {
     "data": {
      "text/plain": [
       "array(['Extreme', 'Moderate', 'Minor'], dtype=object)"
      ]
     },
     "execution_count": 66,
     "metadata": {},
     "output_type": "execute_result"
    }
   ],
   "source": [
    "health.severity.unique()"
   ]
  },
  {
   "cell_type": "markdown",
   "metadata": {},
   "source": [
    "- Severity variable also has three categories. "
   ]
  },
  {
   "cell_type": "code",
   "execution_count": 67,
   "metadata": {},
   "outputs": [
    {
     "data": {
      "text/plain": [
       "Moderate    175793\n",
       "Minor        85850\n",
       "Extreme      56682\n",
       "Name: severity, dtype: int64"
      ]
     },
     "execution_count": 67,
     "metadata": {},
     "output_type": "execute_result"
    }
   ],
   "source": [
    "health.severity.value_counts()"
   ]
  },
  {
   "cell_type": "code",
   "execution_count": 68,
   "metadata": {},
   "outputs": [
    {
     "data": {
      "image/png": "[encoded data removed]",
      "text/plain": [
       "<Figure size 576x432 with 1 Axes>"
      ]
     },
     "metadata": {
      "needs_background": "light"
     },
     "output_type": "display_data"
    }
   ],
   "source": [
    "# Plot the three Severity types\n",
    "\n",
    "plt.figure(figsize=(8,6))\n",
    "\n",
    "plt.hist(health.severity.sort_values(), ec='k', bins=3)\n",
    "\n",
    "plt.xlabel('Severity Type',fontsize=18)\n",
    "plt.ylabel('Number of Patients',fontsize=18)\n",
    "plt.title('Severity of Patients when Admitted',fontsize=20);"
   ]
  },
  {
   "cell_type": "markdown",
   "metadata": {},
   "source": [
    "- Less patients admitted in extreme severe condition, which makes sence.\n",
    "- More patients are admitted with moderate conditions. "
   ]
  },
  {
   "cell_type": "code",
   "execution_count": 69,
   "metadata": {},
   "outputs": [],
   "source": [
    "# Convert Severity types into three numerical categories.\n",
    "\n",
    "health['severity'] = health['severity'].astype('category')\n",
    "health['severity'] = pd.factorize(health['severity'])[0]"
   ]
  },
  {
   "cell_type": "code",
   "execution_count": 70,
   "metadata": {},
   "outputs": [
    {
     "data": {
      "text/plain": [
       "array([0, 1, 2])"
      ]
     },
     "execution_count": 70,
     "metadata": {},
     "output_type": "execute_result"
    }
   ],
   "source": [
    "health.severity.unique()"
   ]
  },
  {
   "cell_type": "code",
   "execution_count": 71,
   "metadata": {},
   "outputs": [
    {
     "data": {
      "text/plain": [
       "1    175793\n",
       "2     85850\n",
       "0     56682\n",
       "Name: severity, dtype: int64"
      ]
     },
     "execution_count": 71,
     "metadata": {},
     "output_type": "execute_result"
    }
   ],
   "source": [
    "health.severity.value_counts()"
   ]
  },
  {
   "cell_type": "code",
   "execution_count": null,
   "metadata": {},
   "outputs": [],
   "source": []
  },
  {
   "cell_type": "markdown",
   "metadata": {},
   "source": [
    "***What is the average length of stay beased on severity?***"
   ]
  },
  {
   "cell_type": "code",
   "execution_count": 72,
   "metadata": {},
   "outputs": [
    {
     "data": {
      "text/plain": [
       "severity\n",
       "0    31.311704\n",
       "1    27.447509\n",
       "2    23.178451\n",
       "Name: stay, dtype: float64"
      ]
     },
     "execution_count": 72,
     "metadata": {},
     "output_type": "execute_result"
    }
   ],
   "source": [
    "health.groupby('severity').stay.mean() * 10"
   ]
  },
  {
   "cell_type": "code",
   "execution_count": 73,
   "metadata": {},
   "outputs": [
    {
     "data": {
      "image/png": "[encoded data removed]",
      "text/plain": [
       "<Figure size 720x576 with 1 Axes>"
      ]
     },
     "metadata": {
      "needs_background": "light"
     },
     "output_type": "display_data"
    }
   ],
   "source": [
    "plt.figure(figsize=(10,8))\n",
    "\n",
    "sns.barplot('severity',health['stay'] *10,data=health)\n",
    "\n",
    "plt.xlabel('Severity',fontsize=14)\n",
    "plt.ylabel('Average Stay (Days)',fontsize=14)\n",
    "plt.title('Average Length of stay Based on Severity',fontsize=15)\n",
    "plt.xticks(np.arange(3),('Extreme','Moderate','Minor'));"
   ]
  },
  {
   "cell_type": "markdown",
   "metadata": {},
   "source": [
    "- This results are pretty obviouse. \n",
    "- **The length of stay highly vary based on the severity of the patient. Severity seems like one of the best variables to predict stay.**"
   ]
  },
  {
   "cell_type": "code",
   "execution_count": null,
   "metadata": {},
   "outputs": [],
   "source": []
  },
  {
   "cell_type": "markdown",
   "metadata": {},
   "source": [
    "### Other Categorical Variable Transformation"
   ]
  },
  {
   "cell_type": "code",
   "execution_count": 74,
   "metadata": {},
   "outputs": [
    {
     "data": {
      "text/html": [
       "<div>\n",
       "<style scoped>\n",
       "    .dataframe tbody tr th:only-of-type {\n",
       "        vertical-align: middle;\n",
       "    }\n",
       "\n",
       "    .dataframe tbody tr th {\n",
       "        vertical-align: top;\n",
       "    }\n",
       "\n",
       "    .dataframe thead th {\n",
       "        text-align: right;\n",
       "    }\n",
       "</style>\n",
       "<table border=\"1\" class=\"dataframe\">\n",
       "  <thead>\n",
       "    <tr style=\"text-align: right;\">\n",
       "      <th></th>\n",
       "      <th>hosp_code</th>\n",
       "      <th>hosp_type</th>\n",
       "      <th>city_code</th>\n",
       "      <th>hosp_region</th>\n",
       "      <th>rooms_available</th>\n",
       "      <th>department</th>\n",
       "      <th>ward_type</th>\n",
       "      <th>ward_code</th>\n",
       "      <th>bed_grade</th>\n",
       "      <th>patient_id</th>\n",
       "      <th>admission_type</th>\n",
       "      <th>severity</th>\n",
       "      <th>num_visitors</th>\n",
       "      <th>age</th>\n",
       "      <th>deposit</th>\n",
       "      <th>stay</th>\n",
       "    </tr>\n",
       "  </thead>\n",
       "  <tbody>\n",
       "    <tr>\n",
       "      <td>0</td>\n",
       "      <td>8</td>\n",
       "      <td>c</td>\n",
       "      <td>3</td>\n",
       "      <td>Z</td>\n",
       "      <td>3</td>\n",
       "      <td>0</td>\n",
       "      <td>R</td>\n",
       "      <td>F</td>\n",
       "      <td>2.0</td>\n",
       "      <td>31397</td>\n",
       "      <td>0</td>\n",
       "      <td>0</td>\n",
       "      <td>2</td>\n",
       "      <td>5</td>\n",
       "      <td>4911</td>\n",
       "      <td>0</td>\n",
       "    </tr>\n",
       "    <tr>\n",
       "      <td>1</td>\n",
       "      <td>2</td>\n",
       "      <td>c</td>\n",
       "      <td>5</td>\n",
       "      <td>Z</td>\n",
       "      <td>2</td>\n",
       "      <td>0</td>\n",
       "      <td>S</td>\n",
       "      <td>F</td>\n",
       "      <td>2.0</td>\n",
       "      <td>31397</td>\n",
       "      <td>1</td>\n",
       "      <td>0</td>\n",
       "      <td>2</td>\n",
       "      <td>5</td>\n",
       "      <td>5954</td>\n",
       "      <td>4</td>\n",
       "    </tr>\n",
       "    <tr>\n",
       "      <td>2</td>\n",
       "      <td>10</td>\n",
       "      <td>e</td>\n",
       "      <td>1</td>\n",
       "      <td>X</td>\n",
       "      <td>2</td>\n",
       "      <td>1</td>\n",
       "      <td>S</td>\n",
       "      <td>E</td>\n",
       "      <td>2.0</td>\n",
       "      <td>31397</td>\n",
       "      <td>1</td>\n",
       "      <td>0</td>\n",
       "      <td>2</td>\n",
       "      <td>5</td>\n",
       "      <td>4745</td>\n",
       "      <td>3</td>\n",
       "    </tr>\n",
       "    <tr>\n",
       "      <td>3</td>\n",
       "      <td>26</td>\n",
       "      <td>b</td>\n",
       "      <td>2</td>\n",
       "      <td>Y</td>\n",
       "      <td>2</td>\n",
       "      <td>0</td>\n",
       "      <td>R</td>\n",
       "      <td>D</td>\n",
       "      <td>2.0</td>\n",
       "      <td>31397</td>\n",
       "      <td>1</td>\n",
       "      <td>0</td>\n",
       "      <td>2</td>\n",
       "      <td>5</td>\n",
       "      <td>7272</td>\n",
       "      <td>4</td>\n",
       "    </tr>\n",
       "    <tr>\n",
       "      <td>4</td>\n",
       "      <td>26</td>\n",
       "      <td>b</td>\n",
       "      <td>2</td>\n",
       "      <td>Y</td>\n",
       "      <td>2</td>\n",
       "      <td>0</td>\n",
       "      <td>S</td>\n",
       "      <td>D</td>\n",
       "      <td>2.0</td>\n",
       "      <td>31397</td>\n",
       "      <td>1</td>\n",
       "      <td>0</td>\n",
       "      <td>2</td>\n",
       "      <td>5</td>\n",
       "      <td>5558</td>\n",
       "      <td>4</td>\n",
       "    </tr>\n",
       "  </tbody>\n",
       "</table>\n",
       "</div>"
      ],
      "text/plain": [
       "   hosp_code hosp_type  city_code hosp_region  rooms_available  department  \\\n",
       "0          8         c          3           Z                3           0   \n",
       "1          2         c          5           Z                2           0   \n",
       "2         10         e          1           X                2           1   \n",
       "3         26         b          2           Y                2           0   \n",
       "4         26         b          2           Y                2           0   \n",
       "\n",
       "  ward_type ward_code  bed_grade  patient_id  admission_type  severity  \\\n",
       "0         R         F        2.0       31397               0         0   \n",
       "1         S         F        2.0       31397               1         0   \n",
       "2         S         E        2.0       31397               1         0   \n",
       "3         R         D        2.0       31397               1         0   \n",
       "4         S         D        2.0       31397               1         0   \n",
       "\n",
       "   num_visitors  age  deposit  stay  \n",
       "0             2    5     4911     0  \n",
       "1             2    5     5954     4  \n",
       "2             2    5     4745     3  \n",
       "3             2    5     7272     4  \n",
       "4             2    5     5558     4  "
      ]
     },
     "execution_count": 74,
     "metadata": {},
     "output_type": "execute_result"
    }
   ],
   "source": [
    "health.head()"
   ]
  },
  {
   "cell_type": "code",
   "execution_count": 75,
   "metadata": {},
   "outputs": [
    {
     "data": {
      "text/plain": [
       "hosp_code            int64\n",
       "hosp_type           object\n",
       "city_code            int64\n",
       "hosp_region         object\n",
       "rooms_available      int64\n",
       "department           int64\n",
       "ward_type           object\n",
       "ward_code           object\n",
       "bed_grade          float64\n",
       "patient_id           int64\n",
       "admission_type       int64\n",
       "severity             int64\n",
       "num_visitors         int64\n",
       "age                  int64\n",
       "deposit              int64\n",
       "stay                 int64\n",
       "dtype: object"
      ]
     },
     "execution_count": 75,
     "metadata": {},
     "output_type": "execute_result"
    }
   ],
   "source": [
    "health.dtypes"
   ]
  },
  {
   "cell_type": "code",
   "execution_count": null,
   "metadata": {},
   "outputs": [],
   "source": []
  },
  {
   "cell_type": "markdown",
   "metadata": {},
   "source": [
    "### City Code variable"
   ]
  },
  {
   "cell_type": "code",
   "execution_count": 76,
   "metadata": {},
   "outputs": [
    {
     "data": {
      "image/png": "[encoded data removed]",
      "text/plain": [
       "<Figure size 576x432 with 1 Axes>"
      ]
     },
     "metadata": {
      "needs_background": "light"
     },
     "output_type": "display_data"
    }
   ],
   "source": [
    "# City code variable\n",
    "plt.figure(figsize=(8,6))\n",
    "plt.hist(health['city_code'], ec='k')\n",
    "plt.title('Distribution of City Code',fontsize=18)\n",
    "plt.xlabel('City Code',fontsize=18)\n",
    "plt.ylabel('Patient Count',fontsize=18)\n",
    "plt.grid(axis='y')\n",
    "    \n",
    "plt.show()"
   ]
  },
  {
   "cell_type": "markdown",
   "metadata": {},
   "source": [
    "- Code 1 seems to have the highest amount of patients. "
   ]
  },
  {
   "cell_type": "markdown",
   "metadata": {},
   "source": [
    "#### Plot the average stay in each city code "
   ]
  },
  {
   "cell_type": "code",
   "execution_count": 77,
   "metadata": {},
   "outputs": [
    {
     "data": {
      "image/png": "[encoded data removed]",
      "text/plain": [
       "<Figure size 576x432 with 1 Axes>"
      ]
     },
     "metadata": {
      "needs_background": "light"
     },
     "output_type": "display_data"
    }
   ],
   "source": [
    "plt.figure(figsize=(8,6))\n",
    "sns.barplot(health['city_code'].sort_values(),(health['stay']*10), ec='k')\n",
    "plt.xlabel('City Code',fontsize=18)\n",
    "plt.ylabel('Length of Stay',fontsize=18)\n",
    "plt.grid(axis='y')\n",
    "    \n",
    "plt.show()"
   ]
  },
  {
   "cell_type": "markdown",
   "metadata": {},
   "source": [
    "- Average length of stay significantly vary based on the city code. This could be a good sign of predictability of stay. "
   ]
  },
  {
   "cell_type": "code",
   "execution_count": null,
   "metadata": {},
   "outputs": [],
   "source": []
  },
  {
   "cell_type": "code",
   "execution_count": 78,
   "metadata": {},
   "outputs": [],
   "source": [
    "# Get all other categorical variables\n",
    "categorical_variables = ['hosp_type','hosp_region','ward_type','ward_code']"
   ]
  },
  {
   "cell_type": "code",
   "execution_count": 79,
   "metadata": {},
   "outputs": [
    {
     "name": "stdout",
     "output_type": "stream",
     "text": [
      "hosp_type categories: ['c' 'e' 'b' 'a' 'f' 'd' 'g']\n",
      "hosp_region categories: ['Z' 'X' 'Y']\n",
      "ward_type categories: ['R' 'S' 'Q' 'P' 'T' 'U']\n",
      "ward_code categories: ['F' 'E' 'D' 'B' 'A' 'C']\n"
     ]
    }
   ],
   "source": [
    "# Check unique values in every category \n",
    "for i in categorical_variables:\n",
    "    print(i,'categories:',health[i].unique())"
   ]
  },
  {
   "cell_type": "code",
   "execution_count": null,
   "metadata": {},
   "outputs": [],
   "source": []
  },
  {
   "cell_type": "code",
   "execution_count": 80,
   "metadata": {},
   "outputs": [
    {
     "data": {
      "image/png": "[encoded data removed]",
      "text/plain": [
       "<Figure size 576x432 with 1 Axes>"
      ]
     },
     "metadata": {
      "needs_background": "light"
     },
     "output_type": "display_data"
    },
    {
     "data": {
      "image/png": "[encoded data removed]",
      "text/plain": [
       "<Figure size 576x432 with 1 Axes>"
      ]
     },
     "metadata": {
      "needs_background": "light"
     },
     "output_type": "display_data"
    }
   ],
   "source": [
    "for i in categorical_variables[0:2]: \n",
    "    plt.figure(figsize=(8,6))\n",
    "    sns.barplot(health[i].sort_values(),(health['stay']*10), ec='k')\n",
    "    plt.xlabel(i,fontsize=18)\n",
    "    plt.ylabel('Length of Stay',fontsize=18);\n",
    "    #plt.title('Severity of Patients when Admitted',fontsize=20)\n",
    "    plt.grid(axis='y')\n",
    "    \n",
    "    plt.show()"
   ]
  },
  {
   "cell_type": "markdown",
   "metadata": {},
   "source": [
    "- Hospital type looks like another differentiating varaible, given different hospital types have varying stay lengths. \n",
    "- Length of stay based on hospital region seems to be pretty similar. This is probabely not a differentiating factor.  "
   ]
  },
  {
   "cell_type": "code",
   "execution_count": null,
   "metadata": {},
   "outputs": [],
   "source": []
  },
  {
   "cell_type": "code",
   "execution_count": 81,
   "metadata": {},
   "outputs": [
    {
     "data": {
      "image/png": "[encoded data removed]",
      "text/plain": [
       "<Figure size 576x432 with 1 Axes>"
      ]
     },
     "metadata": {
      "needs_background": "light"
     },
     "output_type": "display_data"
    },
    {
     "data": {
      "image/png": "[encoded data removed]",
      "text/plain": [
       "<Figure size 576x432 with 1 Axes>"
      ]
     },
     "metadata": {
      "needs_background": "light"
     },
     "output_type": "display_data"
    }
   ],
   "source": [
    "for i in categorical_variables[2:]: \n",
    "    plt.figure(figsize=(8,6))\n",
    "    sns.barplot(health[i].sort_values(),(health['stay']*10), ec='k')\n",
    "    plt.xlabel(i,fontsize=18)\n",
    "    plt.ylabel('Length of Stay',fontsize=18)\n",
    "    plt.grid(axis='y')\n",
    "    \n",
    "plt.show()"
   ]
  },
  {
   "cell_type": "markdown",
   "metadata": {},
   "source": [
    "- Ward type also have different average length of stay. It could be a good predictor. \n",
    "- The  variation in length of stay in Ward code is not high.\n",
    "- We can see a pretty good variation when comparing the mean stay in each city code category. "
   ]
  },
  {
   "cell_type": "code",
   "execution_count": null,
   "metadata": {},
   "outputs": [],
   "source": []
  },
  {
   "cell_type": "code",
   "execution_count": 82,
   "metadata": {},
   "outputs": [],
   "source": [
    "## Convert other categorical variabels into numerical cateories  \n",
    "\n",
    "for i in categorical_variables:\n",
    "    health[i] = health[i].astype('category')\n",
    "    health[i] = pd.factorize(health[i])[0]"
   ]
  },
  {
   "cell_type": "code",
   "execution_count": 83,
   "metadata": {},
   "outputs": [
    {
     "data": {
      "text/html": [
       "<div>\n",
       "<style scoped>\n",
       "    .dataframe tbody tr th:only-of-type {\n",
       "        vertical-align: middle;\n",
       "    }\n",
       "\n",
       "    .dataframe tbody tr th {\n",
       "        vertical-align: top;\n",
       "    }\n",
       "\n",
       "    .dataframe thead th {\n",
       "        text-align: right;\n",
       "    }\n",
       "</style>\n",
       "<table border=\"1\" class=\"dataframe\">\n",
       "  <thead>\n",
       "    <tr style=\"text-align: right;\">\n",
       "      <th></th>\n",
       "      <th>hosp_code</th>\n",
       "      <th>hosp_type</th>\n",
       "      <th>city_code</th>\n",
       "      <th>hosp_region</th>\n",
       "      <th>rooms_available</th>\n",
       "      <th>department</th>\n",
       "      <th>ward_type</th>\n",
       "      <th>ward_code</th>\n",
       "      <th>bed_grade</th>\n",
       "      <th>patient_id</th>\n",
       "      <th>admission_type</th>\n",
       "      <th>severity</th>\n",
       "      <th>num_visitors</th>\n",
       "      <th>age</th>\n",
       "      <th>deposit</th>\n",
       "      <th>stay</th>\n",
       "    </tr>\n",
       "  </thead>\n",
       "  <tbody>\n",
       "    <tr>\n",
       "      <td>0</td>\n",
       "      <td>8</td>\n",
       "      <td>0</td>\n",
       "      <td>3</td>\n",
       "      <td>0</td>\n",
       "      <td>3</td>\n",
       "      <td>0</td>\n",
       "      <td>0</td>\n",
       "      <td>0</td>\n",
       "      <td>2.0</td>\n",
       "      <td>31397</td>\n",
       "      <td>0</td>\n",
       "      <td>0</td>\n",
       "      <td>2</td>\n",
       "      <td>5</td>\n",
       "      <td>4911</td>\n",
       "      <td>0</td>\n",
       "    </tr>\n",
       "    <tr>\n",
       "      <td>1</td>\n",
       "      <td>2</td>\n",
       "      <td>0</td>\n",
       "      <td>5</td>\n",
       "      <td>0</td>\n",
       "      <td>2</td>\n",
       "      <td>0</td>\n",
       "      <td>1</td>\n",
       "      <td>0</td>\n",
       "      <td>2.0</td>\n",
       "      <td>31397</td>\n",
       "      <td>1</td>\n",
       "      <td>0</td>\n",
       "      <td>2</td>\n",
       "      <td>5</td>\n",
       "      <td>5954</td>\n",
       "      <td>4</td>\n",
       "    </tr>\n",
       "    <tr>\n",
       "      <td>2</td>\n",
       "      <td>10</td>\n",
       "      <td>1</td>\n",
       "      <td>1</td>\n",
       "      <td>1</td>\n",
       "      <td>2</td>\n",
       "      <td>1</td>\n",
       "      <td>1</td>\n",
       "      <td>1</td>\n",
       "      <td>2.0</td>\n",
       "      <td>31397</td>\n",
       "      <td>1</td>\n",
       "      <td>0</td>\n",
       "      <td>2</td>\n",
       "      <td>5</td>\n",
       "      <td>4745</td>\n",
       "      <td>3</td>\n",
       "    </tr>\n",
       "    <tr>\n",
       "      <td>3</td>\n",
       "      <td>26</td>\n",
       "      <td>2</td>\n",
       "      <td>2</td>\n",
       "      <td>2</td>\n",
       "      <td>2</td>\n",
       "      <td>0</td>\n",
       "      <td>0</td>\n",
       "      <td>2</td>\n",
       "      <td>2.0</td>\n",
       "      <td>31397</td>\n",
       "      <td>1</td>\n",
       "      <td>0</td>\n",
       "      <td>2</td>\n",
       "      <td>5</td>\n",
       "      <td>7272</td>\n",
       "      <td>4</td>\n",
       "    </tr>\n",
       "    <tr>\n",
       "      <td>4</td>\n",
       "      <td>26</td>\n",
       "      <td>2</td>\n",
       "      <td>2</td>\n",
       "      <td>2</td>\n",
       "      <td>2</td>\n",
       "      <td>0</td>\n",
       "      <td>1</td>\n",
       "      <td>2</td>\n",
       "      <td>2.0</td>\n",
       "      <td>31397</td>\n",
       "      <td>1</td>\n",
       "      <td>0</td>\n",
       "      <td>2</td>\n",
       "      <td>5</td>\n",
       "      <td>5558</td>\n",
       "      <td>4</td>\n",
       "    </tr>\n",
       "  </tbody>\n",
       "</table>\n",
       "</div>"
      ],
      "text/plain": [
       "   hosp_code  hosp_type  city_code  hosp_region  rooms_available  department  \\\n",
       "0          8          0          3            0                3           0   \n",
       "1          2          0          5            0                2           0   \n",
       "2         10          1          1            1                2           1   \n",
       "3         26          2          2            2                2           0   \n",
       "4         26          2          2            2                2           0   \n",
       "\n",
       "   ward_type  ward_code  bed_grade  patient_id  admission_type  severity  \\\n",
       "0          0          0        2.0       31397               0         0   \n",
       "1          1          0        2.0       31397               1         0   \n",
       "2          1          1        2.0       31397               1         0   \n",
       "3          0          2        2.0       31397               1         0   \n",
       "4          1          2        2.0       31397               1         0   \n",
       "\n",
       "   num_visitors  age  deposit  stay  \n",
       "0             2    5     4911     0  \n",
       "1             2    5     5954     4  \n",
       "2             2    5     4745     3  \n",
       "3             2    5     7272     4  \n",
       "4             2    5     5558     4  "
      ]
     },
     "execution_count": 83,
     "metadata": {},
     "output_type": "execute_result"
    }
   ],
   "source": [
    "health.head()"
   ]
  },
  {
   "cell_type": "code",
   "execution_count": null,
   "metadata": {},
   "outputs": [],
   "source": []
  },
  {
   "cell_type": "code",
   "execution_count": 84,
   "metadata": {},
   "outputs": [
    {
     "name": "stdout",
     "output_type": "stream",
     "text": [
      "hosp_type categories: [0 1 2 3 4 5 6]\n",
      "hosp_region categories: [0 1 2]\n",
      "ward_type categories: [0 1 2 3 4 5]\n",
      "ward_code categories: [0 1 2 3 4 5]\n"
     ]
    }
   ],
   "source": [
    "## Check the new categories \n",
    "for i in categorical_variables:\n",
    "    print(i,'categories:',health[i].unique())"
   ]
  },
  {
   "cell_type": "code",
   "execution_count": null,
   "metadata": {},
   "outputs": [],
   "source": []
  },
  {
   "cell_type": "code",
   "execution_count": 85,
   "metadata": {},
   "outputs": [],
   "source": [
    "#### Save the edited (cleaned) dataset\n",
    "health.to_csv('healthcareClanedTrain3.csv')"
   ]
  },
  {
   "cell_type": "code",
   "execution_count": null,
   "metadata": {},
   "outputs": [],
   "source": []
  },
  {
   "cell_type": "markdown",
   "metadata": {},
   "source": [
    "### Patient_id variable"
   ]
  },
  {
   "cell_type": "code",
   "execution_count": 86,
   "metadata": {},
   "outputs": [
    {
     "data": {
      "text/plain": [
       "66714     50\n",
       "91292     43\n",
       "38525     39\n",
       "101359    36\n",
       "33491     34\n",
       "          ..\n",
       "97969      1\n",
       "98821      1\n",
       "104966     1\n",
       "129546     1\n",
       "58524      1\n",
       "Name: patient_id, Length: 92009, dtype: int64"
      ]
     },
     "execution_count": 86,
     "metadata": {},
     "output_type": "execute_result"
    }
   ],
   "source": [
    "health.patient_id.value_counts()"
   ]
  },
  {
   "cell_type": "code",
   "execution_count": 87,
   "metadata": {},
   "outputs": [
    {
     "data": {
      "text/plain": [
       "92009"
      ]
     },
     "execution_count": 87,
     "metadata": {},
     "output_type": "execute_result"
    }
   ],
   "source": [
    "# How many unique values are there in patient_id variable? \n",
    "health.patient_id.nunique()"
   ]
  },
  {
   "cell_type": "markdown",
   "metadata": {},
   "source": [
    "- **It is probabely acceptable to drop the Patient id variable.**\n",
    "- The variable seems to be just a place holder identifying different patients."
   ]
  },
  {
   "cell_type": "code",
   "execution_count": 88,
   "metadata": {},
   "outputs": [],
   "source": [
    "## Drop patient id column \n",
    "#health.drop('patient_id', axis=1, inplace=True)"
   ]
  },
  {
   "cell_type": "code",
   "execution_count": 89,
   "metadata": {},
   "outputs": [
    {
     "data": {
      "text/html": [
       "<div>\n",
       "<style scoped>\n",
       "    .dataframe tbody tr th:only-of-type {\n",
       "        vertical-align: middle;\n",
       "    }\n",
       "\n",
       "    .dataframe tbody tr th {\n",
       "        vertical-align: top;\n",
       "    }\n",
       "\n",
       "    .dataframe thead th {\n",
       "        text-align: right;\n",
       "    }\n",
       "</style>\n",
       "<table border=\"1\" class=\"dataframe\">\n",
       "  <thead>\n",
       "    <tr style=\"text-align: right;\">\n",
       "      <th></th>\n",
       "      <th>hosp_code</th>\n",
       "      <th>hosp_type</th>\n",
       "      <th>city_code</th>\n",
       "      <th>hosp_region</th>\n",
       "      <th>rooms_available</th>\n",
       "      <th>department</th>\n",
       "      <th>ward_type</th>\n",
       "      <th>ward_code</th>\n",
       "      <th>bed_grade</th>\n",
       "      <th>patient_id</th>\n",
       "      <th>admission_type</th>\n",
       "      <th>severity</th>\n",
       "      <th>num_visitors</th>\n",
       "      <th>age</th>\n",
       "      <th>deposit</th>\n",
       "      <th>stay</th>\n",
       "    </tr>\n",
       "  </thead>\n",
       "  <tbody>\n",
       "    <tr>\n",
       "      <td>0</td>\n",
       "      <td>8</td>\n",
       "      <td>0</td>\n",
       "      <td>3</td>\n",
       "      <td>0</td>\n",
       "      <td>3</td>\n",
       "      <td>0</td>\n",
       "      <td>0</td>\n",
       "      <td>0</td>\n",
       "      <td>2.0</td>\n",
       "      <td>31397</td>\n",
       "      <td>0</td>\n",
       "      <td>0</td>\n",
       "      <td>2</td>\n",
       "      <td>5</td>\n",
       "      <td>4911</td>\n",
       "      <td>0</td>\n",
       "    </tr>\n",
       "    <tr>\n",
       "      <td>1</td>\n",
       "      <td>2</td>\n",
       "      <td>0</td>\n",
       "      <td>5</td>\n",
       "      <td>0</td>\n",
       "      <td>2</td>\n",
       "      <td>0</td>\n",
       "      <td>1</td>\n",
       "      <td>0</td>\n",
       "      <td>2.0</td>\n",
       "      <td>31397</td>\n",
       "      <td>1</td>\n",
       "      <td>0</td>\n",
       "      <td>2</td>\n",
       "      <td>5</td>\n",
       "      <td>5954</td>\n",
       "      <td>4</td>\n",
       "    </tr>\n",
       "    <tr>\n",
       "      <td>2</td>\n",
       "      <td>10</td>\n",
       "      <td>1</td>\n",
       "      <td>1</td>\n",
       "      <td>1</td>\n",
       "      <td>2</td>\n",
       "      <td>1</td>\n",
       "      <td>1</td>\n",
       "      <td>1</td>\n",
       "      <td>2.0</td>\n",
       "      <td>31397</td>\n",
       "      <td>1</td>\n",
       "      <td>0</td>\n",
       "      <td>2</td>\n",
       "      <td>5</td>\n",
       "      <td>4745</td>\n",
       "      <td>3</td>\n",
       "    </tr>\n",
       "    <tr>\n",
       "      <td>3</td>\n",
       "      <td>26</td>\n",
       "      <td>2</td>\n",
       "      <td>2</td>\n",
       "      <td>2</td>\n",
       "      <td>2</td>\n",
       "      <td>0</td>\n",
       "      <td>0</td>\n",
       "      <td>2</td>\n",
       "      <td>2.0</td>\n",
       "      <td>31397</td>\n",
       "      <td>1</td>\n",
       "      <td>0</td>\n",
       "      <td>2</td>\n",
       "      <td>5</td>\n",
       "      <td>7272</td>\n",
       "      <td>4</td>\n",
       "    </tr>\n",
       "    <tr>\n",
       "      <td>4</td>\n",
       "      <td>26</td>\n",
       "      <td>2</td>\n",
       "      <td>2</td>\n",
       "      <td>2</td>\n",
       "      <td>2</td>\n",
       "      <td>0</td>\n",
       "      <td>1</td>\n",
       "      <td>2</td>\n",
       "      <td>2.0</td>\n",
       "      <td>31397</td>\n",
       "      <td>1</td>\n",
       "      <td>0</td>\n",
       "      <td>2</td>\n",
       "      <td>5</td>\n",
       "      <td>5558</td>\n",
       "      <td>4</td>\n",
       "    </tr>\n",
       "  </tbody>\n",
       "</table>\n",
       "</div>"
      ],
      "text/plain": [
       "   hosp_code  hosp_type  city_code  hosp_region  rooms_available  department  \\\n",
       "0          8          0          3            0                3           0   \n",
       "1          2          0          5            0                2           0   \n",
       "2         10          1          1            1                2           1   \n",
       "3         26          2          2            2                2           0   \n",
       "4         26          2          2            2                2           0   \n",
       "\n",
       "   ward_type  ward_code  bed_grade  patient_id  admission_type  severity  \\\n",
       "0          0          0        2.0       31397               0         0   \n",
       "1          1          0        2.0       31397               1         0   \n",
       "2          1          1        2.0       31397               1         0   \n",
       "3          0          2        2.0       31397               1         0   \n",
       "4          1          2        2.0       31397               1         0   \n",
       "\n",
       "   num_visitors  age  deposit  stay  \n",
       "0             2    5     4911     0  \n",
       "1             2    5     5954     4  \n",
       "2             2    5     4745     3  \n",
       "3             2    5     7272     4  \n",
       "4             2    5     5558     4  "
      ]
     },
     "execution_count": 89,
     "metadata": {},
     "output_type": "execute_result"
    }
   ],
   "source": [
    "health.head()"
   ]
  },
  {
   "cell_type": "code",
   "execution_count": null,
   "metadata": {},
   "outputs": [],
   "source": []
  },
  {
   "cell_type": "code",
   "execution_count": 90,
   "metadata": {},
   "outputs": [],
   "source": [
    "#### Save the newest dataset\n",
    "#health.to_csv('healthcareClanedTrain2.csv')"
   ]
  },
  {
   "cell_type": "code",
   "execution_count": null,
   "metadata": {},
   "outputs": [],
   "source": []
  },
  {
   "cell_type": "code",
   "execution_count": null,
   "metadata": {},
   "outputs": [],
   "source": []
  },
  {
   "cell_type": "markdown",
   "metadata": {},
   "source": [
    "### hosp_code variable"
   ]
  },
  {
   "cell_type": "code",
   "execution_count": 91,
   "metadata": {},
   "outputs": [
    {
     "data": {
      "text/plain": [
       "array([ 8,  2, 10, 26, 23, 32,  1, 22, 16,  9,  6, 29, 12,  3, 21, 28, 27,\n",
       "       19,  5, 14, 13, 31, 24, 17, 25, 15, 11, 30, 18,  4,  7, 20])"
      ]
     },
     "execution_count": 91,
     "metadata": {},
     "output_type": "execute_result"
    }
   ],
   "source": [
    "# Check unique values for hospital code variable. \n",
    "\n",
    "health.hosp_code.unique()"
   ]
  },
  {
   "cell_type": "code",
   "execution_count": 92,
   "metadata": {},
   "outputs": [
    {
     "data": {
      "image/png": "[encoded data removed]",
      "text/plain": [
       "<Figure size 576x432 with 1 Axes>"
      ]
     },
     "metadata": {
      "needs_background": "light"
     },
     "output_type": "display_data"
    }
   ],
   "source": [
    "plt.figure(figsize=(8,6))\n",
    "plt.hist(health['hosp_code'].sort_values(), ec='k', bins=30)\n",
    "plt.xlabel('Hospital Code',fontsize=18)\n",
    "plt.ylabel('Number of Patients',fontsize=18);\n",
    "plt.title('Number of Patients based on Hospital Code',fontsize=20)\n",
    "plt.grid();"
   ]
  },
  {
   "cell_type": "markdown",
   "metadata": {},
   "source": [
    "- There are 32 different nominal categories in this variable. \n",
    "- The distribution of amount of patients in different hospitals is significantly varied. "
   ]
  },
  {
   "cell_type": "markdown",
   "metadata": {},
   "source": [
    "***Plot length of stay based on hospital code***"
   ]
  },
  {
   "cell_type": "code",
   "execution_count": 93,
   "metadata": {},
   "outputs": [
    {
     "data": {
      "image/png": "[encoded data removed]",
      "text/plain": [
       "<Figure size 864x720 with 1 Axes>"
      ]
     },
     "metadata": {
      "needs_background": "light"
     },
     "output_type": "display_data"
    }
   ],
   "source": [
    "plt.figure(figsize=(12,10))\n",
    "\n",
    "sns.barplot('hosp_code', (health['stay'] * 10), data=health)\n",
    "plt.xlabel('Hospital Code',fontsize=15)\n",
    "plt.ylabel('Stay Category', fontsize=15)\n",
    "plt.title('Length of Stay based on Hospital Code', fontsize=15)\n",
    "plt.grid();"
   ]
  },
  {
   "cell_type": "markdown",
   "metadata": {},
   "source": [
    "- From the data it seems like most people stayed between 20 to 40 days at each hospital\n",
    "- Hospital code could be a differentiating variable, given the variation in the distribution. "
   ]
  },
  {
   "cell_type": "code",
   "execution_count": null,
   "metadata": {},
   "outputs": [],
   "source": []
  },
  {
   "cell_type": "markdown",
   "metadata": {},
   "source": [
    "### Categorical Variables Summary"
   ]
  },
  {
   "cell_type": "markdown",
   "metadata": {},
   "source": [
    "- **Bed Grade and City patient code** are the only variables with missing values. \n",
    "- **City patient code** variable has over 4500 missing values and it doesn’t seem to be very significant other than just a placeholder. **We have decided to drop this variable.** \n",
    "- Bed Grade has about 113 missing values and we can easily **drop the rows with missing values** and retain the rest of the data. \n",
    "- In comparison the means of each bed grade category seems to be identical (boxplot). However, the distributions slightly vary. Further, when considering the average stay length of each bed grade category, we can see a slight variation within categories.\n",
    "- As the **age** group increase the average hospital stay varies. This is an indication of variation hence using age variable in modeling could be beneficial. \n",
    "- **Department** variable also shows variation when considering average length of stay. \n",
    "- **Admission type** variable consists of three categories. Patients who were admitted to urgent care seems to have the lowest average  stays, while patients who were admitted to emergency and trauma have much higher average stays. \n",
    "- With **severity** variable, more severe patients seem to stay longer than less severe patients. There is significant separation between severity of a patient and the length of stay. This feature could be a pretty good predictor. \n",
    "- From all other categorical variables **hospital type, ward type, city code and ward code** seems to have different mean length of stay among categories, thus making good predictors of stay. **Hospital region** on the other hand does not seem to have much variance among categories when considering mean length of stay. \n",
    "- **Patient Id** variable can be dropped. It seems to be just a place holder. \n",
    "- **Hospital code** variable contains 32 unique nominal categories. Length of stay based on each category seems significantly different indicating variation within categories. Hence this could be a good predictor for stay. \n",
    "- **Hospital code, age, department, admission type, severity, hospital type, ward type, ward code, city code , bed grade, admission type, and severity** variables  seem to be the best variables for modeling. We can compare these variables even further by fitting a decision tree and checking for feature importance. \n",
    "- Variables such as patient id, case id, and city patient code are dropped due to various reasons.  \n"
   ]
  },
  {
   "cell_type": "code",
   "execution_count": null,
   "metadata": {},
   "outputs": [],
   "source": []
  },
  {
   "cell_type": "code",
   "execution_count": null,
   "metadata": {},
   "outputs": [],
   "source": []
  },
  {
   "cell_type": "markdown",
   "metadata": {},
   "source": [
    "### Numeric Features"
   ]
  },
  {
   "cell_type": "code",
   "execution_count": 94,
   "metadata": {},
   "outputs": [
    {
     "data": {
      "text/html": [
       "<div>\n",
       "<style scoped>\n",
       "    .dataframe tbody tr th:only-of-type {\n",
       "        vertical-align: middle;\n",
       "    }\n",
       "\n",
       "    .dataframe tbody tr th {\n",
       "        vertical-align: top;\n",
       "    }\n",
       "\n",
       "    .dataframe thead th {\n",
       "        text-align: right;\n",
       "    }\n",
       "</style>\n",
       "<table border=\"1\" class=\"dataframe\">\n",
       "  <thead>\n",
       "    <tr style=\"text-align: right;\">\n",
       "      <th></th>\n",
       "      <th>hosp_code</th>\n",
       "      <th>hosp_type</th>\n",
       "      <th>city_code</th>\n",
       "      <th>hosp_region</th>\n",
       "      <th>rooms_available</th>\n",
       "      <th>department</th>\n",
       "      <th>ward_type</th>\n",
       "      <th>ward_code</th>\n",
       "      <th>bed_grade</th>\n",
       "      <th>patient_id</th>\n",
       "      <th>admission_type</th>\n",
       "      <th>severity</th>\n",
       "      <th>num_visitors</th>\n",
       "      <th>age</th>\n",
       "      <th>deposit</th>\n",
       "      <th>stay</th>\n",
       "    </tr>\n",
       "  </thead>\n",
       "  <tbody>\n",
       "    <tr>\n",
       "      <td>0</td>\n",
       "      <td>8</td>\n",
       "      <td>0</td>\n",
       "      <td>3</td>\n",
       "      <td>0</td>\n",
       "      <td>3</td>\n",
       "      <td>0</td>\n",
       "      <td>0</td>\n",
       "      <td>0</td>\n",
       "      <td>2.0</td>\n",
       "      <td>31397</td>\n",
       "      <td>0</td>\n",
       "      <td>0</td>\n",
       "      <td>2</td>\n",
       "      <td>5</td>\n",
       "      <td>4911</td>\n",
       "      <td>0</td>\n",
       "    </tr>\n",
       "    <tr>\n",
       "      <td>1</td>\n",
       "      <td>2</td>\n",
       "      <td>0</td>\n",
       "      <td>5</td>\n",
       "      <td>0</td>\n",
       "      <td>2</td>\n",
       "      <td>0</td>\n",
       "      <td>1</td>\n",
       "      <td>0</td>\n",
       "      <td>2.0</td>\n",
       "      <td>31397</td>\n",
       "      <td>1</td>\n",
       "      <td>0</td>\n",
       "      <td>2</td>\n",
       "      <td>5</td>\n",
       "      <td>5954</td>\n",
       "      <td>4</td>\n",
       "    </tr>\n",
       "    <tr>\n",
       "      <td>2</td>\n",
       "      <td>10</td>\n",
       "      <td>1</td>\n",
       "      <td>1</td>\n",
       "      <td>1</td>\n",
       "      <td>2</td>\n",
       "      <td>1</td>\n",
       "      <td>1</td>\n",
       "      <td>1</td>\n",
       "      <td>2.0</td>\n",
       "      <td>31397</td>\n",
       "      <td>1</td>\n",
       "      <td>0</td>\n",
       "      <td>2</td>\n",
       "      <td>5</td>\n",
       "      <td>4745</td>\n",
       "      <td>3</td>\n",
       "    </tr>\n",
       "    <tr>\n",
       "      <td>3</td>\n",
       "      <td>26</td>\n",
       "      <td>2</td>\n",
       "      <td>2</td>\n",
       "      <td>2</td>\n",
       "      <td>2</td>\n",
       "      <td>0</td>\n",
       "      <td>0</td>\n",
       "      <td>2</td>\n",
       "      <td>2.0</td>\n",
       "      <td>31397</td>\n",
       "      <td>1</td>\n",
       "      <td>0</td>\n",
       "      <td>2</td>\n",
       "      <td>5</td>\n",
       "      <td>7272</td>\n",
       "      <td>4</td>\n",
       "    </tr>\n",
       "    <tr>\n",
       "      <td>4</td>\n",
       "      <td>26</td>\n",
       "      <td>2</td>\n",
       "      <td>2</td>\n",
       "      <td>2</td>\n",
       "      <td>2</td>\n",
       "      <td>0</td>\n",
       "      <td>1</td>\n",
       "      <td>2</td>\n",
       "      <td>2.0</td>\n",
       "      <td>31397</td>\n",
       "      <td>1</td>\n",
       "      <td>0</td>\n",
       "      <td>2</td>\n",
       "      <td>5</td>\n",
       "      <td>5558</td>\n",
       "      <td>4</td>\n",
       "    </tr>\n",
       "  </tbody>\n",
       "</table>\n",
       "</div>"
      ],
      "text/plain": [
       "   hosp_code  hosp_type  city_code  hosp_region  rooms_available  department  \\\n",
       "0          8          0          3            0                3           0   \n",
       "1          2          0          5            0                2           0   \n",
       "2         10          1          1            1                2           1   \n",
       "3         26          2          2            2                2           0   \n",
       "4         26          2          2            2                2           0   \n",
       "\n",
       "   ward_type  ward_code  bed_grade  patient_id  admission_type  severity  \\\n",
       "0          0          0        2.0       31397               0         0   \n",
       "1          1          0        2.0       31397               1         0   \n",
       "2          1          1        2.0       31397               1         0   \n",
       "3          0          2        2.0       31397               1         0   \n",
       "4          1          2        2.0       31397               1         0   \n",
       "\n",
       "   num_visitors  age  deposit  stay  \n",
       "0             2    5     4911     0  \n",
       "1             2    5     5954     4  \n",
       "2             2    5     4745     3  \n",
       "3             2    5     7272     4  \n",
       "4             2    5     5558     4  "
      ]
     },
     "execution_count": 94,
     "metadata": {},
     "output_type": "execute_result"
    }
   ],
   "source": [
    "health.head()"
   ]
  },
  {
   "cell_type": "code",
   "execution_count": null,
   "metadata": {},
   "outputs": [],
   "source": []
  },
  {
   "cell_type": "code",
   "execution_count": 95,
   "metadata": {},
   "outputs": [],
   "source": [
    "numerical_features = ['rooms_available','num_visitors','deposit']"
   ]
  },
  {
   "cell_type": "code",
   "execution_count": 96,
   "metadata": {},
   "outputs": [
    {
     "data": {
      "text/html": [
       "<div>\n",
       "<style scoped>\n",
       "    .dataframe tbody tr th:only-of-type {\n",
       "        vertical-align: middle;\n",
       "    }\n",
       "\n",
       "    .dataframe tbody tr th {\n",
       "        vertical-align: top;\n",
       "    }\n",
       "\n",
       "    .dataframe thead th {\n",
       "        text-align: right;\n",
       "    }\n",
       "</style>\n",
       "<table border=\"1\" class=\"dataframe\">\n",
       "  <thead>\n",
       "    <tr style=\"text-align: right;\">\n",
       "      <th></th>\n",
       "      <th>rooms_available</th>\n",
       "      <th>num_visitors</th>\n",
       "      <th>deposit</th>\n",
       "    </tr>\n",
       "  </thead>\n",
       "  <tbody>\n",
       "    <tr>\n",
       "      <td>count</td>\n",
       "      <td>318325.000000</td>\n",
       "      <td>318325.000000</td>\n",
       "      <td>318325.000000</td>\n",
       "    </tr>\n",
       "    <tr>\n",
       "      <td>mean</td>\n",
       "      <td>3.197509</td>\n",
       "      <td>3.284153</td>\n",
       "      <td>4880.857705</td>\n",
       "    </tr>\n",
       "    <tr>\n",
       "      <td>std</td>\n",
       "      <td>1.168208</td>\n",
       "      <td>1.764190</td>\n",
       "      <td>1086.848051</td>\n",
       "    </tr>\n",
       "    <tr>\n",
       "      <td>min</td>\n",
       "      <td>0.000000</td>\n",
       "      <td>0.000000</td>\n",
       "      <td>1800.000000</td>\n",
       "    </tr>\n",
       "    <tr>\n",
       "      <td>25%</td>\n",
       "      <td>2.000000</td>\n",
       "      <td>2.000000</td>\n",
       "      <td>4186.000000</td>\n",
       "    </tr>\n",
       "    <tr>\n",
       "      <td>50%</td>\n",
       "      <td>3.000000</td>\n",
       "      <td>3.000000</td>\n",
       "      <td>4741.000000</td>\n",
       "    </tr>\n",
       "    <tr>\n",
       "      <td>75%</td>\n",
       "      <td>4.000000</td>\n",
       "      <td>4.000000</td>\n",
       "      <td>5409.000000</td>\n",
       "    </tr>\n",
       "    <tr>\n",
       "      <td>max</td>\n",
       "      <td>24.000000</td>\n",
       "      <td>32.000000</td>\n",
       "      <td>11008.000000</td>\n",
       "    </tr>\n",
       "  </tbody>\n",
       "</table>\n",
       "</div>"
      ],
      "text/plain": [
       "       rooms_available   num_visitors        deposit\n",
       "count    318325.000000  318325.000000  318325.000000\n",
       "mean          3.197509       3.284153    4880.857705\n",
       "std           1.168208       1.764190    1086.848051\n",
       "min           0.000000       0.000000    1800.000000\n",
       "25%           2.000000       2.000000    4186.000000\n",
       "50%           3.000000       3.000000    4741.000000\n",
       "75%           4.000000       4.000000    5409.000000\n",
       "max          24.000000      32.000000   11008.000000"
      ]
     },
     "execution_count": 96,
     "metadata": {},
     "output_type": "execute_result"
    }
   ],
   "source": [
    "# Check descritive stats of Numerical features \n",
    "health[numerical_features].describe()"
   ]
  },
  {
   "cell_type": "markdown",
   "metadata": {},
   "source": [
    "- rooms_available and num_visitors seem to have outlires. \n",
    "    - rooms_available -> mean=3.1, max=24 \n",
    "    - num_visitros -> mean=3.2, max=32\n",
    "    - Max for num_visitiors is unusually high. This could be an error. "
   ]
  },
  {
   "cell_type": "code",
   "execution_count": null,
   "metadata": {},
   "outputs": [],
   "source": []
  },
  {
   "cell_type": "markdown",
   "metadata": {},
   "source": [
    "### Multicollinearity\n",
    "**Correlation between numerical features**"
   ]
  },
  {
   "cell_type": "code",
   "execution_count": 97,
   "metadata": {},
   "outputs": [
    {
     "data": {
      "text/html": [
       "<div>\n",
       "<style scoped>\n",
       "    .dataframe tbody tr th:only-of-type {\n",
       "        vertical-align: middle;\n",
       "    }\n",
       "\n",
       "    .dataframe tbody tr th {\n",
       "        vertical-align: top;\n",
       "    }\n",
       "\n",
       "    .dataframe thead th {\n",
       "        text-align: right;\n",
       "    }\n",
       "</style>\n",
       "<table border=\"1\" class=\"dataframe\">\n",
       "  <thead>\n",
       "    <tr style=\"text-align: right;\">\n",
       "      <th></th>\n",
       "      <th>rooms_available</th>\n",
       "      <th>num_visitors</th>\n",
       "      <th>deposit</th>\n",
       "    </tr>\n",
       "  </thead>\n",
       "  <tbody>\n",
       "    <tr>\n",
       "      <td>rooms_available</td>\n",
       "      <td>1.000000</td>\n",
       "      <td>0.096755</td>\n",
       "      <td>-0.143722</td>\n",
       "    </tr>\n",
       "    <tr>\n",
       "      <td>num_visitors</td>\n",
       "      <td>0.096755</td>\n",
       "      <td>1.000000</td>\n",
       "      <td>-0.150363</td>\n",
       "    </tr>\n",
       "    <tr>\n",
       "      <td>deposit</td>\n",
       "      <td>-0.143722</td>\n",
       "      <td>-0.150363</td>\n",
       "      <td>1.000000</td>\n",
       "    </tr>\n",
       "  </tbody>\n",
       "</table>\n",
       "</div>"
      ],
      "text/plain": [
       "                 rooms_available  num_visitors   deposit\n",
       "rooms_available         1.000000      0.096755 -0.143722\n",
       "num_visitors            0.096755      1.000000 -0.150363\n",
       "deposit                -0.143722     -0.150363  1.000000"
      ]
     },
     "execution_count": 97,
     "metadata": {},
     "output_type": "execute_result"
    }
   ],
   "source": [
    "corr_num = health[['rooms_available','num_visitors','deposit']].corr()\n",
    "corr_num"
   ]
  },
  {
   "cell_type": "markdown",
   "metadata": {},
   "source": [
    "- None of the three numerical features seems to be highly correlated to each other."
   ]
  },
  {
   "cell_type": "code",
   "execution_count": 98,
   "metadata": {},
   "outputs": [
    {
     "data": {
      "image/png": "[encoded data removed]",
      "text/plain": [
       "<Figure size 540x540 with 12 Axes>"
      ]
     },
     "metadata": {
      "needs_background": "light"
     },
     "output_type": "display_data"
    }
   ],
   "source": [
    "sns.pairplot(corr_num,kind='reg', diag_kind='kde', plot_kws={'line_kws':{'color':'red'}})\n",
    "plt.show()"
   ]
  },
  {
   "cell_type": "markdown",
   "metadata": {},
   "source": [
    "- The plot confirms the lack of correlation among the numerical variables."
   ]
  },
  {
   "cell_type": "code",
   "execution_count": null,
   "metadata": {},
   "outputs": [],
   "source": []
  },
  {
   "cell_type": "markdown",
   "metadata": {},
   "source": [
    "### rooms_available feature "
   ]
  },
  {
   "cell_type": "code",
   "execution_count": 99,
   "metadata": {},
   "outputs": [
    {
     "data": {
      "image/png": "[encoded data removed]",
      "text/plain": [
       "<Figure size 576x432 with 1 Axes>"
      ]
     },
     "metadata": {
      "needs_background": "light"
     },
     "output_type": "display_data"
    }
   ],
   "source": [
    "plt.figure(figsize=(8,6))\n",
    "plt.hist(health['rooms_available'])\n",
    "plt.xlabel('Number of Rooms Available', fontsize=16)\n",
    "plt.ylabel('Number of Patients', fontsize=16)\n",
    "plt.grid();"
   ]
  },
  {
   "cell_type": "markdown",
   "metadata": {},
   "source": [
    "- As we can see from the histogram, the distribution is right skewed indicating ourliers.\n",
    "- Majority of the values are 0 and 5. "
   ]
  },
  {
   "cell_type": "code",
   "execution_count": 107,
   "metadata": {},
   "outputs": [
    {
     "data": {
      "image/png": "[encoded data removed]",
      "text/plain": [
       "<Figure size 576x432 with 1 Axes>"
      ]
     },
     "metadata": {
      "needs_background": "light"
     },
     "output_type": "display_data"
    }
   ],
   "source": [
    "plt.figure(figsize=(8,6))\n",
    "\n",
    "sns.boxplot(health['rooms_available'], orient='h')\n",
    "plt.xlabel('Rooms Available', fontsize=16);"
   ]
  },
  {
   "cell_type": "markdown",
   "metadata": {},
   "source": [
    " - The boxplot confirms the presence of outliers. "
   ]
  },
  {
   "cell_type": "markdown",
   "metadata": {},
   "source": [
    "- We can get rid of the outliers, but this might affect the predictability in cases where over 10 rooms are avaialble. "
   ]
  },
  {
   "cell_type": "code",
   "execution_count": null,
   "metadata": {},
   "outputs": [],
   "source": []
  },
  {
   "cell_type": "markdown",
   "metadata": {},
   "source": [
    "### num_visitors Feature "
   ]
  },
  {
   "cell_type": "code",
   "execution_count": 101,
   "metadata": {},
   "outputs": [
    {
     "data": {
      "image/png": "[encoded data removed]",
      "text/plain": [
       "<Figure size 576x432 with 1 Axes>"
      ]
     },
     "metadata": {
      "needs_background": "light"
     },
     "output_type": "display_data"
    }
   ],
   "source": [
    "plt.figure(figsize=(8,6))\n",
    "plt.hist(health['num_visitors'])\n",
    "plt.xlabel('Number of Visitors', fontsize=16)\n",
    "plt.ylabel('Number of Patients', fontsize=16)\n",
    "plt.grid();"
   ]
  },
  {
   "cell_type": "code",
   "execution_count": 106,
   "metadata": {},
   "outputs": [
    {
     "data": {
      "image/png": "[encoded data removed]",
      "text/plain": [
       "<Figure size 576x432 with 1 Axes>"
      ]
     },
     "metadata": {
      "needs_background": "light"
     },
     "output_type": "display_data"
    }
   ],
   "source": [
    "plt.figure(figsize=(8,6))\n",
    "\n",
    "sns.boxplot(health['num_visitors'], orient='h')\n",
    "plt.xlabel('Number of Visitors', fontsize=16);"
   ]
  },
  {
   "cell_type": "markdown",
   "metadata": {},
   "source": [
    "- num_visitors feature also shows a right skewed histogram and the box plot confirms the outliers. "
   ]
  },
  {
   "cell_type": "code",
   "execution_count": null,
   "metadata": {},
   "outputs": [],
   "source": []
  },
  {
   "cell_type": "markdown",
   "metadata": {},
   "source": [
    "### Deposit"
   ]
  },
  {
   "cell_type": "code",
   "execution_count": 103,
   "metadata": {},
   "outputs": [
    {
     "data": {
      "image/png": "[encoded data removed]",
      "text/plain": [
       "<Figure size 576x432 with 1 Axes>"
      ]
     },
     "metadata": {
      "needs_background": "light"
     },
     "output_type": "display_data"
    }
   ],
   "source": [
    "plt.figure(figsize=(8,6))\n",
    "plt.hist(health['deposit'])\n",
    "plt.xlabel('Deposit Amount', fontsize=16)\n",
    "plt.ylabel('Number of Patients', fontsize=16)\n",
    "plt.grid();"
   ]
  },
  {
   "cell_type": "markdown",
   "metadata": {},
   "source": [
    "- This variable seems to be distributed symmetrically. "
   ]
  },
  {
   "cell_type": "code",
   "execution_count": 105,
   "metadata": {},
   "outputs": [
    {
     "data": {
      "image/png": "[encoded data removed]",
      "text/plain": [
       "<Figure size 576x432 with 1 Axes>"
      ]
     },
     "metadata": {
      "needs_background": "light"
     },
     "output_type": "display_data"
    }
   ],
   "source": [
    "plt.figure(figsize=(8,6))\n",
    "\n",
    "sns.boxplot(health['deposit'], orient='h')\n",
    "plt.xlabel('Deposit Amount', fontsize=16);"
   ]
  },
  {
   "cell_type": "markdown",
   "metadata": {},
   "source": [
    "- The boxplot shows large number of outliers. "
   ]
  },
  {
   "cell_type": "code",
   "execution_count": null,
   "metadata": {},
   "outputs": [],
   "source": []
  }
 ],
 "metadata": {
  "kernelspec": {
   "display_name": "Python 3",
   "language": "python",
   "name": "python3"
  },
  "language_info": {
   "codemirror_mode": {
    "name": "ipython",
    "version": 3
   },
   "file_extension": ".py",
   "mimetype": "text/x-python",
   "name": "python",
   "nbconvert_exporter": "python",
   "pygments_lexer": "ipython3",
   "version": "3.7.4"
  }
 },
 "nbformat": 4,
 "nbformat_minor": 2
}
