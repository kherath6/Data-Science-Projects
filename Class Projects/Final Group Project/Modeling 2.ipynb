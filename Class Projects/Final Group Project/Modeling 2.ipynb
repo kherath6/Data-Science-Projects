{
 "cells": [
  {
   "cell_type": "code",
   "execution_count": 1,
   "metadata": {},
   "outputs": [],
   "source": [
    "import pandas as pd\n",
    "import numpy as np\n",
    "import matplotlib.pyplot as plt\n",
    "import seaborn as sns\n",
    "import os\n",
    "\n",
    "import warnings\n",
    "warnings.filterwarnings('ignore')\n",
    "\n",
    "\n",
    "%matplotlib inline "
   ]
  },
  {
   "cell_type": "code",
   "execution_count": 2,
   "metadata": {},
   "outputs": [
    {
     "data": {
      "text/plain": [
       "['healthDataNew4.csv',\n",
       " '.DS_Store',\n",
       " 'structured_data_classifier',\n",
       " 'Categorical Summary.docx',\n",
       " 'Project Draft 1.ipynb',\n",
       " 'Data Sets',\n",
       " 'Modeling 2.ipynb',\n",
       " 'healthcareClanedTrain3.csv',\n",
       " 'healthcareClanedTrain2.csv',\n",
       " 'Modeling .ipynb',\n",
       " 'Decision and Naives - healthcareClanedTrain3.ipynb',\n",
       " '.ipynb_checkpoints',\n",
       " 'MIS 776 Group Project.pdf',\n",
       " '11.16.2020 Dannica Update.ipynb',\n",
       " 'Clustering with classification.ipynb',\n",
       " 'healthcareClanedTrain.csv',\n",
       " 'Ryan Script.ipynb']"
      ]
     },
     "execution_count": 2,
     "metadata": {},
     "output_type": "execute_result"
    }
   ],
   "source": [
    "os.listdir()"
   ]
  },
  {
   "cell_type": "code",
   "execution_count": 3,
   "metadata": {},
   "outputs": [
    {
     "data": {
      "text/html": [
       "<div>\n",
       "<style scoped>\n",
       "    .dataframe tbody tr th:only-of-type {\n",
       "        vertical-align: middle;\n",
       "    }\n",
       "\n",
       "    .dataframe tbody tr th {\n",
       "        vertical-align: top;\n",
       "    }\n",
       "\n",
       "    .dataframe thead th {\n",
       "        text-align: right;\n",
       "    }\n",
       "</style>\n",
       "<table border=\"1\" class=\"dataframe\">\n",
       "  <thead>\n",
       "    <tr style=\"text-align: right;\">\n",
       "      <th></th>\n",
       "      <th>hosp_code</th>\n",
       "      <th>hosp_type</th>\n",
       "      <th>city_code</th>\n",
       "      <th>hosp_region</th>\n",
       "      <th>rooms_available</th>\n",
       "      <th>department</th>\n",
       "      <th>ward_type</th>\n",
       "      <th>ward_code</th>\n",
       "      <th>bed_grade</th>\n",
       "      <th>patient_id</th>\n",
       "      <th>admission_type</th>\n",
       "      <th>severity</th>\n",
       "      <th>num_visitors</th>\n",
       "      <th>age</th>\n",
       "      <th>deposit</th>\n",
       "      <th>stay</th>\n",
       "    </tr>\n",
       "  </thead>\n",
       "  <tbody>\n",
       "    <tr>\n",
       "      <td>0</td>\n",
       "      <td>8</td>\n",
       "      <td>0</td>\n",
       "      <td>3</td>\n",
       "      <td>0</td>\n",
       "      <td>3</td>\n",
       "      <td>0</td>\n",
       "      <td>0</td>\n",
       "      <td>0</td>\n",
       "      <td>2</td>\n",
       "      <td>31397</td>\n",
       "      <td>0</td>\n",
       "      <td>0</td>\n",
       "      <td>2</td>\n",
       "      <td>5</td>\n",
       "      <td>4911</td>\n",
       "      <td>0</td>\n",
       "    </tr>\n",
       "    <tr>\n",
       "      <td>1</td>\n",
       "      <td>2</td>\n",
       "      <td>0</td>\n",
       "      <td>5</td>\n",
       "      <td>0</td>\n",
       "      <td>2</td>\n",
       "      <td>0</td>\n",
       "      <td>1</td>\n",
       "      <td>0</td>\n",
       "      <td>2</td>\n",
       "      <td>31397</td>\n",
       "      <td>1</td>\n",
       "      <td>0</td>\n",
       "      <td>2</td>\n",
       "      <td>5</td>\n",
       "      <td>5954</td>\n",
       "      <td>4</td>\n",
       "    </tr>\n",
       "    <tr>\n",
       "      <td>2</td>\n",
       "      <td>10</td>\n",
       "      <td>1</td>\n",
       "      <td>1</td>\n",
       "      <td>1</td>\n",
       "      <td>2</td>\n",
       "      <td>1</td>\n",
       "      <td>1</td>\n",
       "      <td>1</td>\n",
       "      <td>2</td>\n",
       "      <td>31397</td>\n",
       "      <td>1</td>\n",
       "      <td>0</td>\n",
       "      <td>2</td>\n",
       "      <td>5</td>\n",
       "      <td>4745</td>\n",
       "      <td>3</td>\n",
       "    </tr>\n",
       "    <tr>\n",
       "      <td>3</td>\n",
       "      <td>26</td>\n",
       "      <td>2</td>\n",
       "      <td>2</td>\n",
       "      <td>2</td>\n",
       "      <td>2</td>\n",
       "      <td>0</td>\n",
       "      <td>0</td>\n",
       "      <td>2</td>\n",
       "      <td>2</td>\n",
       "      <td>31397</td>\n",
       "      <td>1</td>\n",
       "      <td>0</td>\n",
       "      <td>2</td>\n",
       "      <td>5</td>\n",
       "      <td>7272</td>\n",
       "      <td>4</td>\n",
       "    </tr>\n",
       "    <tr>\n",
       "      <td>4</td>\n",
       "      <td>26</td>\n",
       "      <td>2</td>\n",
       "      <td>2</td>\n",
       "      <td>2</td>\n",
       "      <td>2</td>\n",
       "      <td>0</td>\n",
       "      <td>1</td>\n",
       "      <td>2</td>\n",
       "      <td>2</td>\n",
       "      <td>31397</td>\n",
       "      <td>1</td>\n",
       "      <td>0</td>\n",
       "      <td>2</td>\n",
       "      <td>5</td>\n",
       "      <td>5558</td>\n",
       "      <td>4</td>\n",
       "    </tr>\n",
       "  </tbody>\n",
       "</table>\n",
       "</div>"
      ],
      "text/plain": [
       "   hosp_code  hosp_type  city_code  hosp_region  rooms_available  department  \\\n",
       "0          8          0          3            0                3           0   \n",
       "1          2          0          5            0                2           0   \n",
       "2         10          1          1            1                2           1   \n",
       "3         26          2          2            2                2           0   \n",
       "4         26          2          2            2                2           0   \n",
       "\n",
       "   ward_type  ward_code  bed_grade  patient_id  admission_type  severity  \\\n",
       "0          0          0          2       31397               0         0   \n",
       "1          1          0          2       31397               1         0   \n",
       "2          1          1          2       31397               1         0   \n",
       "3          0          2          2       31397               1         0   \n",
       "4          1          2          2       31397               1         0   \n",
       "\n",
       "   num_visitors  age  deposit  stay  \n",
       "0             2    5     4911     0  \n",
       "1             2    5     5954     4  \n",
       "2             2    5     4745     3  \n",
       "3             2    5     7272     4  \n",
       "4             2    5     5558     4  "
      ]
     },
     "execution_count": 3,
     "metadata": {},
     "output_type": "execute_result"
    }
   ],
   "source": [
    "## Load the cleaned dataset \n",
    "health = pd.read_csv('healthcareClanedTrain3.csv')\n",
    "health.head()"
   ]
  },
  {
   "cell_type": "code",
   "execution_count": 4,
   "metadata": {},
   "outputs": [
    {
     "name": "stdout",
     "output_type": "stream",
     "text": [
      "Variable hosp_code has 32 unique values. \n",
      "\n",
      "Variable hosp_type has 7 unique values. \n",
      "\n",
      "Variable city_code has 11 unique values. \n",
      "\n",
      "Variable hosp_region has 3 unique values. \n",
      "\n",
      "Variable rooms_available has 18 unique values. \n",
      "\n",
      "Variable department has 5 unique values. \n",
      "\n",
      "Variable ward_type has 6 unique values. \n",
      "\n",
      "Variable ward_code has 6 unique values. \n",
      "\n",
      "Variable bed_grade has 4 unique values. \n",
      "\n",
      "Variable patient_id has 92009 unique values. \n",
      "\n",
      "Variable admission_type has 3 unique values. \n",
      "\n",
      "Variable severity has 3 unique values. \n",
      "\n",
      "Variable num_visitors has 28 unique values. \n",
      "\n",
      "Variable age has 10 unique values. \n",
      "\n",
      "Variable deposit has 7300 unique values. \n",
      "\n",
      "Variable stay has 11 unique values. \n",
      "\n"
     ]
    }
   ],
   "source": [
    "### Check the unique values in each column\n",
    "\n",
    "for i in health.columns:\n",
    "    print(\"Variable {} has {} unique values.\".format(i,health[i].nunique()), '\\n')"
   ]
  },
  {
   "cell_type": "code",
   "execution_count": 5,
   "metadata": {},
   "outputs": [
    {
     "data": {
      "text/html": [
       "<div>\n",
       "<style scoped>\n",
       "    .dataframe tbody tr th:only-of-type {\n",
       "        vertical-align: middle;\n",
       "    }\n",
       "\n",
       "    .dataframe tbody tr th {\n",
       "        vertical-align: top;\n",
       "    }\n",
       "\n",
       "    .dataframe thead th {\n",
       "        text-align: right;\n",
       "    }\n",
       "</style>\n",
       "<table border=\"1\" class=\"dataframe\">\n",
       "  <thead>\n",
       "    <tr style=\"text-align: right;\">\n",
       "      <th></th>\n",
       "      <th>case_id</th>\n",
       "      <th>Hospital_code</th>\n",
       "      <th>Hospital_type_code</th>\n",
       "      <th>City_Code_Hospital</th>\n",
       "      <th>Hospital_region_code</th>\n",
       "      <th>Available Extra Rooms in Hospital</th>\n",
       "      <th>Department</th>\n",
       "      <th>Ward_Type</th>\n",
       "      <th>Ward_Facility_Code</th>\n",
       "      <th>Bed Grade</th>\n",
       "      <th>patientid</th>\n",
       "      <th>City_Code_Patient</th>\n",
       "      <th>Type of Admission</th>\n",
       "      <th>Severity of Illness</th>\n",
       "      <th>Visitors with Patient</th>\n",
       "      <th>Age</th>\n",
       "      <th>Admission_Deposit</th>\n",
       "      <th>Stay</th>\n",
       "    </tr>\n",
       "  </thead>\n",
       "  <tbody>\n",
       "    <tr>\n",
       "      <td>0</td>\n",
       "      <td>1</td>\n",
       "      <td>8</td>\n",
       "      <td>c</td>\n",
       "      <td>3</td>\n",
       "      <td>Z</td>\n",
       "      <td>3</td>\n",
       "      <td>radiotherapy</td>\n",
       "      <td>R</td>\n",
       "      <td>F</td>\n",
       "      <td>2.0</td>\n",
       "      <td>31397</td>\n",
       "      <td>7.0</td>\n",
       "      <td>Emergency</td>\n",
       "      <td>Extreme</td>\n",
       "      <td>2</td>\n",
       "      <td>51-60</td>\n",
       "      <td>4911</td>\n",
       "      <td>0-10</td>\n",
       "    </tr>\n",
       "    <tr>\n",
       "      <td>1</td>\n",
       "      <td>2</td>\n",
       "      <td>2</td>\n",
       "      <td>c</td>\n",
       "      <td>5</td>\n",
       "      <td>Z</td>\n",
       "      <td>2</td>\n",
       "      <td>radiotherapy</td>\n",
       "      <td>S</td>\n",
       "      <td>F</td>\n",
       "      <td>2.0</td>\n",
       "      <td>31397</td>\n",
       "      <td>7.0</td>\n",
       "      <td>Trauma</td>\n",
       "      <td>Extreme</td>\n",
       "      <td>2</td>\n",
       "      <td>51-60</td>\n",
       "      <td>5954</td>\n",
       "      <td>41-50</td>\n",
       "    </tr>\n",
       "    <tr>\n",
       "      <td>2</td>\n",
       "      <td>3</td>\n",
       "      <td>10</td>\n",
       "      <td>e</td>\n",
       "      <td>1</td>\n",
       "      <td>X</td>\n",
       "      <td>2</td>\n",
       "      <td>anesthesia</td>\n",
       "      <td>S</td>\n",
       "      <td>E</td>\n",
       "      <td>2.0</td>\n",
       "      <td>31397</td>\n",
       "      <td>7.0</td>\n",
       "      <td>Trauma</td>\n",
       "      <td>Extreme</td>\n",
       "      <td>2</td>\n",
       "      <td>51-60</td>\n",
       "      <td>4745</td>\n",
       "      <td>31-40</td>\n",
       "    </tr>\n",
       "    <tr>\n",
       "      <td>3</td>\n",
       "      <td>4</td>\n",
       "      <td>26</td>\n",
       "      <td>b</td>\n",
       "      <td>2</td>\n",
       "      <td>Y</td>\n",
       "      <td>2</td>\n",
       "      <td>radiotherapy</td>\n",
       "      <td>R</td>\n",
       "      <td>D</td>\n",
       "      <td>2.0</td>\n",
       "      <td>31397</td>\n",
       "      <td>7.0</td>\n",
       "      <td>Trauma</td>\n",
       "      <td>Extreme</td>\n",
       "      <td>2</td>\n",
       "      <td>51-60</td>\n",
       "      <td>7272</td>\n",
       "      <td>41-50</td>\n",
       "    </tr>\n",
       "    <tr>\n",
       "      <td>4</td>\n",
       "      <td>5</td>\n",
       "      <td>26</td>\n",
       "      <td>b</td>\n",
       "      <td>2</td>\n",
       "      <td>Y</td>\n",
       "      <td>2</td>\n",
       "      <td>radiotherapy</td>\n",
       "      <td>S</td>\n",
       "      <td>D</td>\n",
       "      <td>2.0</td>\n",
       "      <td>31397</td>\n",
       "      <td>7.0</td>\n",
       "      <td>Trauma</td>\n",
       "      <td>Extreme</td>\n",
       "      <td>2</td>\n",
       "      <td>51-60</td>\n",
       "      <td>5558</td>\n",
       "      <td>41-50</td>\n",
       "    </tr>\n",
       "  </tbody>\n",
       "</table>\n",
       "</div>"
      ],
      "text/plain": [
       "   case_id  Hospital_code Hospital_type_code  City_Code_Hospital  \\\n",
       "0        1              8                  c                   3   \n",
       "1        2              2                  c                   5   \n",
       "2        3             10                  e                   1   \n",
       "3        4             26                  b                   2   \n",
       "4        5             26                  b                   2   \n",
       "\n",
       "  Hospital_region_code  Available Extra Rooms in Hospital    Department  \\\n",
       "0                    Z                                  3  radiotherapy   \n",
       "1                    Z                                  2  radiotherapy   \n",
       "2                    X                                  2    anesthesia   \n",
       "3                    Y                                  2  radiotherapy   \n",
       "4                    Y                                  2  radiotherapy   \n",
       "\n",
       "  Ward_Type Ward_Facility_Code  Bed Grade  patientid  City_Code_Patient  \\\n",
       "0         R                  F        2.0      31397                7.0   \n",
       "1         S                  F        2.0      31397                7.0   \n",
       "2         S                  E        2.0      31397                7.0   \n",
       "3         R                  D        2.0      31397                7.0   \n",
       "4         S                  D        2.0      31397                7.0   \n",
       "\n",
       "  Type of Admission Severity of Illness  Visitors with Patient    Age  \\\n",
       "0         Emergency             Extreme                      2  51-60   \n",
       "1            Trauma             Extreme                      2  51-60   \n",
       "2            Trauma             Extreme                      2  51-60   \n",
       "3            Trauma             Extreme                      2  51-60   \n",
       "4            Trauma             Extreme                      2  51-60   \n",
       "\n",
       "   Admission_Deposit   Stay  \n",
       "0               4911   0-10  \n",
       "1               5954  41-50  \n",
       "2               4745  31-40  \n",
       "3               7272  41-50  \n",
       "4               5558  41-50  "
      ]
     },
     "execution_count": 5,
     "metadata": {},
     "output_type": "execute_result"
    }
   ],
   "source": [
    "health1 = pd.read_csv('Data Sets/healthcare/train_data.csv')\n",
    "health1.head()"
   ]
  },
  {
   "cell_type": "markdown",
   "metadata": {},
   "source": [
    "### Change coumns names of health1"
   ]
  },
  {
   "cell_type": "code",
   "execution_count": 6,
   "metadata": {},
   "outputs": [
    {
     "data": {
      "text/html": [
       "<div>\n",
       "<style scoped>\n",
       "    .dataframe tbody tr th:only-of-type {\n",
       "        vertical-align: middle;\n",
       "    }\n",
       "\n",
       "    .dataframe tbody tr th {\n",
       "        vertical-align: top;\n",
       "    }\n",
       "\n",
       "    .dataframe thead th {\n",
       "        text-align: right;\n",
       "    }\n",
       "</style>\n",
       "<table border=\"1\" class=\"dataframe\">\n",
       "  <thead>\n",
       "    <tr style=\"text-align: right;\">\n",
       "      <th></th>\n",
       "      <th>case_id</th>\n",
       "      <th>hosp_code</th>\n",
       "      <th>hosp_type</th>\n",
       "      <th>city_code</th>\n",
       "      <th>hosp_region</th>\n",
       "      <th>rooms_available</th>\n",
       "      <th>department</th>\n",
       "      <th>ward_type</th>\n",
       "      <th>ward_code</th>\n",
       "      <th>bed_grade</th>\n",
       "      <th>patient_id</th>\n",
       "      <th>city_patientCode</th>\n",
       "      <th>admission_type</th>\n",
       "      <th>severity</th>\n",
       "      <th>num_visitors</th>\n",
       "      <th>age</th>\n",
       "      <th>deposit</th>\n",
       "      <th>stay</th>\n",
       "    </tr>\n",
       "  </thead>\n",
       "  <tbody>\n",
       "    <tr>\n",
       "      <td>0</td>\n",
       "      <td>1</td>\n",
       "      <td>8</td>\n",
       "      <td>c</td>\n",
       "      <td>3</td>\n",
       "      <td>Z</td>\n",
       "      <td>3</td>\n",
       "      <td>radiotherapy</td>\n",
       "      <td>R</td>\n",
       "      <td>F</td>\n",
       "      <td>2.0</td>\n",
       "      <td>31397</td>\n",
       "      <td>7.0</td>\n",
       "      <td>Emergency</td>\n",
       "      <td>Extreme</td>\n",
       "      <td>2</td>\n",
       "      <td>51-60</td>\n",
       "      <td>4911</td>\n",
       "      <td>0-10</td>\n",
       "    </tr>\n",
       "    <tr>\n",
       "      <td>1</td>\n",
       "      <td>2</td>\n",
       "      <td>2</td>\n",
       "      <td>c</td>\n",
       "      <td>5</td>\n",
       "      <td>Z</td>\n",
       "      <td>2</td>\n",
       "      <td>radiotherapy</td>\n",
       "      <td>S</td>\n",
       "      <td>F</td>\n",
       "      <td>2.0</td>\n",
       "      <td>31397</td>\n",
       "      <td>7.0</td>\n",
       "      <td>Trauma</td>\n",
       "      <td>Extreme</td>\n",
       "      <td>2</td>\n",
       "      <td>51-60</td>\n",
       "      <td>5954</td>\n",
       "      <td>41-50</td>\n",
       "    </tr>\n",
       "    <tr>\n",
       "      <td>2</td>\n",
       "      <td>3</td>\n",
       "      <td>10</td>\n",
       "      <td>e</td>\n",
       "      <td>1</td>\n",
       "      <td>X</td>\n",
       "      <td>2</td>\n",
       "      <td>anesthesia</td>\n",
       "      <td>S</td>\n",
       "      <td>E</td>\n",
       "      <td>2.0</td>\n",
       "      <td>31397</td>\n",
       "      <td>7.0</td>\n",
       "      <td>Trauma</td>\n",
       "      <td>Extreme</td>\n",
       "      <td>2</td>\n",
       "      <td>51-60</td>\n",
       "      <td>4745</td>\n",
       "      <td>31-40</td>\n",
       "    </tr>\n",
       "    <tr>\n",
       "      <td>3</td>\n",
       "      <td>4</td>\n",
       "      <td>26</td>\n",
       "      <td>b</td>\n",
       "      <td>2</td>\n",
       "      <td>Y</td>\n",
       "      <td>2</td>\n",
       "      <td>radiotherapy</td>\n",
       "      <td>R</td>\n",
       "      <td>D</td>\n",
       "      <td>2.0</td>\n",
       "      <td>31397</td>\n",
       "      <td>7.0</td>\n",
       "      <td>Trauma</td>\n",
       "      <td>Extreme</td>\n",
       "      <td>2</td>\n",
       "      <td>51-60</td>\n",
       "      <td>7272</td>\n",
       "      <td>41-50</td>\n",
       "    </tr>\n",
       "    <tr>\n",
       "      <td>4</td>\n",
       "      <td>5</td>\n",
       "      <td>26</td>\n",
       "      <td>b</td>\n",
       "      <td>2</td>\n",
       "      <td>Y</td>\n",
       "      <td>2</td>\n",
       "      <td>radiotherapy</td>\n",
       "      <td>S</td>\n",
       "      <td>D</td>\n",
       "      <td>2.0</td>\n",
       "      <td>31397</td>\n",
       "      <td>7.0</td>\n",
       "      <td>Trauma</td>\n",
       "      <td>Extreme</td>\n",
       "      <td>2</td>\n",
       "      <td>51-60</td>\n",
       "      <td>5558</td>\n",
       "      <td>41-50</td>\n",
       "    </tr>\n",
       "  </tbody>\n",
       "</table>\n",
       "</div>"
      ],
      "text/plain": [
       "   case_id  hosp_code hosp_type  city_code hosp_region  rooms_available  \\\n",
       "0        1          8         c          3           Z                3   \n",
       "1        2          2         c          5           Z                2   \n",
       "2        3         10         e          1           X                2   \n",
       "3        4         26         b          2           Y                2   \n",
       "4        5         26         b          2           Y                2   \n",
       "\n",
       "     department ward_type ward_code  bed_grade  patient_id  city_patientCode  \\\n",
       "0  radiotherapy         R         F        2.0       31397               7.0   \n",
       "1  radiotherapy         S         F        2.0       31397               7.0   \n",
       "2    anesthesia         S         E        2.0       31397               7.0   \n",
       "3  radiotherapy         R         D        2.0       31397               7.0   \n",
       "4  radiotherapy         S         D        2.0       31397               7.0   \n",
       "\n",
       "  admission_type severity  num_visitors    age  deposit   stay  \n",
       "0      Emergency  Extreme             2  51-60     4911   0-10  \n",
       "1         Trauma  Extreme             2  51-60     5954  41-50  \n",
       "2         Trauma  Extreme             2  51-60     4745  31-40  \n",
       "3         Trauma  Extreme             2  51-60     7272  41-50  \n",
       "4         Trauma  Extreme             2  51-60     5558  41-50  "
      ]
     },
     "execution_count": 6,
     "metadata": {},
     "output_type": "execute_result"
    }
   ],
   "source": [
    "health1.columns = ['case_id', 'hosp_code','hosp_type','city_code','hosp_region','rooms_available','department',\n",
    "                  'ward_type','ward_code','bed_grade','patient_id','city_patientCode','admission_type',\n",
    "                  'severity','num_visitors','age','deposit','stay']\n",
    "\n",
    "health1.head()"
   ]
  },
  {
   "cell_type": "markdown",
   "metadata": {},
   "source": [
    "### Check for null values"
   ]
  },
  {
   "cell_type": "code",
   "execution_count": 7,
   "metadata": {},
   "outputs": [
    {
     "data": {
      "text/plain": [
       "case_id                0\n",
       "hosp_code              0\n",
       "hosp_type              0\n",
       "city_code              0\n",
       "hosp_region            0\n",
       "rooms_available        0\n",
       "department             0\n",
       "ward_type              0\n",
       "ward_code              0\n",
       "bed_grade            113\n",
       "patient_id             0\n",
       "city_patientCode    4532\n",
       "admission_type         0\n",
       "severity               0\n",
       "num_visitors           0\n",
       "age                    0\n",
       "deposit                0\n",
       "stay                   0\n",
       "dtype: int64"
      ]
     },
     "execution_count": 7,
     "metadata": {},
     "output_type": "execute_result"
    }
   ],
   "source": [
    "health1.isna().sum()"
   ]
  },
  {
   "cell_type": "markdown",
   "metadata": {},
   "source": [
    "***Drop city_patientCode feature***"
   ]
  },
  {
   "cell_type": "code",
   "execution_count": 8,
   "metadata": {},
   "outputs": [],
   "source": [
    "health1.drop('city_patientCode', axis =1, inplace =True)"
   ]
  },
  {
   "cell_type": "markdown",
   "metadata": {},
   "source": [
    "***Drop rows with missing values in bed_grade feature***"
   ]
  },
  {
   "cell_type": "code",
   "execution_count": 9,
   "metadata": {},
   "outputs": [],
   "source": [
    "health1.dropna(subset=['bed_grade'],how='any',inplace=True)"
   ]
  },
  {
   "cell_type": "code",
   "execution_count": 10,
   "metadata": {},
   "outputs": [
    {
     "data": {
      "text/plain": [
       "case_id            0\n",
       "hosp_code          0\n",
       "hosp_type          0\n",
       "city_code          0\n",
       "hosp_region        0\n",
       "rooms_available    0\n",
       "department         0\n",
       "ward_type          0\n",
       "ward_code          0\n",
       "bed_grade          0\n",
       "patient_id         0\n",
       "admission_type     0\n",
       "severity           0\n",
       "num_visitors       0\n",
       "age                0\n",
       "deposit            0\n",
       "stay               0\n",
       "dtype: int64"
      ]
     },
     "execution_count": 10,
     "metadata": {},
     "output_type": "execute_result"
    }
   ],
   "source": [
    "#### Check again for null values \n",
    "health1.isna().sum()"
   ]
  },
  {
   "cell_type": "code",
   "execution_count": null,
   "metadata": {},
   "outputs": [],
   "source": []
  },
  {
   "cell_type": "markdown",
   "metadata": {},
   "source": [
    "### Transform the stay (target) feature "
   ]
  },
  {
   "cell_type": "code",
   "execution_count": 11,
   "metadata": {},
   "outputs": [],
   "source": [
    "health1['stay'] = health1['stay'].replace(['0-10','20-Nov','21-30','31-40','41-50','51-60'],[0,1,2,3,4,5])\n",
    "health1['stay'] = health1['stay'].replace(['61-70','71-80','81-90','91-100'],[6,7,8,9])\n",
    "health1['stay'] = health1['stay'].replace(['More than 100 Days'],10)"
   ]
  },
  {
   "cell_type": "code",
   "execution_count": 12,
   "metadata": {},
   "outputs": [
    {
     "data": {
      "text/plain": [
       "2     87454\n",
       "1     78120\n",
       "3     55137\n",
       "5     35005\n",
       "0     23602\n",
       "4     11735\n",
       "7     10250\n",
       "10     6681\n",
       "8      4837\n",
       "9      2764\n",
       "6      2740\n",
       "Name: stay, dtype: int64"
      ]
     },
     "execution_count": 12,
     "metadata": {},
     "output_type": "execute_result"
    }
   ],
   "source": [
    "health1.stay.value_counts()"
   ]
  },
  {
   "cell_type": "code",
   "execution_count": 13,
   "metadata": {},
   "outputs": [
    {
     "data": {
      "text/plain": [
       "0.8033173643289091"
      ]
     },
     "execution_count": 13,
     "metadata": {},
     "output_type": "execute_result"
    }
   ],
   "source": [
    "health1.stay.value_counts()[0:4].sum()/ health1.stay.value_counts().sum()"
   ]
  },
  {
   "cell_type": "code",
   "execution_count": 14,
   "metadata": {},
   "outputs": [
    {
     "data": {
      "text/plain": [
       "0.19668263567109087"
      ]
     },
     "execution_count": 14,
     "metadata": {},
     "output_type": "execute_result"
    }
   ],
   "source": [
    "health1.stay.value_counts()[4:].sum()/ health1.stay.value_counts().sum()"
   ]
  },
  {
   "cell_type": "markdown",
   "metadata": {},
   "source": [
    "- We can see that over 80% of the data is in the the first 4 categories. \n",
    "- **We can combine the final 6 categories and create one category and reduce the number of categories from 11 to 5 (0 through 4).** "
   ]
  },
  {
   "cell_type": "code",
   "execution_count": null,
   "metadata": {},
   "outputs": [],
   "source": []
  },
  {
   "cell_type": "markdown",
   "metadata": {},
   "source": [
    "### Transform the age feature to categories "
   ]
  },
  {
   "cell_type": "code",
   "execution_count": 15,
   "metadata": {},
   "outputs": [],
   "source": [
    "health1['age'] = health1['age'].replace(['0-10','20-Nov','21-30','31-40','41-50','51-60'],[0,1,2,3,4,5])\n",
    "health1['age'] = health1['age'].replace(['61-70','71-80','81-90','91-100'],[6,7,8,9])"
   ]
  },
  {
   "cell_type": "code",
   "execution_count": 16,
   "metadata": {},
   "outputs": [
    {
     "data": {
      "text/plain": [
       "4    63716\n",
       "3    63613\n",
       "5    48497\n",
       "2    40828\n",
       "7    35784\n",
       "6    33681\n",
       "1    16763\n",
       "8     7887\n",
       "0     6254\n",
       "9     1302\n",
       "Name: age, dtype: int64"
      ]
     },
     "execution_count": 16,
     "metadata": {},
     "output_type": "execute_result"
    }
   ],
   "source": [
    "health1.age.value_counts()"
   ]
  },
  {
   "cell_type": "code",
   "execution_count": 17,
   "metadata": {},
   "outputs": [
    {
     "data": {
      "text/plain": [
       "0.8033173643289091"
      ]
     },
     "execution_count": 17,
     "metadata": {},
     "output_type": "execute_result"
    }
   ],
   "source": [
    "health1.stay.value_counts()[0:4].sum()/ health1.stay.value_counts().sum()"
   ]
  },
  {
   "cell_type": "code",
   "execution_count": 18,
   "metadata": {},
   "outputs": [
    {
     "data": {
      "text/plain": [
       "0.19668263567109087"
      ]
     },
     "execution_count": 18,
     "metadata": {},
     "output_type": "execute_result"
    }
   ],
   "source": [
    "health1.stay.value_counts()[4:].sum()/ health1.stay.value_counts().sum()"
   ]
  },
  {
   "cell_type": "markdown",
   "metadata": {},
   "source": [
    "- We can see a similar pattern with the age variable too. The first 4 categories account for 80% of the data, while only 20% of the data accounts for final 6 categories. \n",
    "- **We can reduce the number of categories from 10 to 5 (0 through 4).**"
   ]
  },
  {
   "cell_type": "markdown",
   "metadata": {},
   "source": [
    "### Check the unique values in other categorcal columns."
   ]
  },
  {
   "cell_type": "code",
   "execution_count": 19,
   "metadata": {},
   "outputs": [
    {
     "data": {
      "text/plain": [
       "Index(['case_id', 'hosp_code', 'hosp_type', 'city_code', 'hosp_region',\n",
       "       'rooms_available', 'department', 'ward_type', 'ward_code', 'bed_grade',\n",
       "       'patient_id', 'admission_type', 'severity', 'num_visitors', 'age',\n",
       "       'deposit', 'stay'],\n",
       "      dtype='object')"
      ]
     },
     "execution_count": 19,
     "metadata": {},
     "output_type": "execute_result"
    }
   ],
   "source": [
    "health1.columns"
   ]
  },
  {
   "cell_type": "code",
   "execution_count": 20,
   "metadata": {},
   "outputs": [],
   "source": [
    "other_columns = ['hosp_code', 'hosp_type', 'city_code', 'hosp_region','department', 'ward_type', \n",
    "                 'ward_code', 'bed_grade','patient_id', 'admission_type', 'severity']"
   ]
  },
  {
   "cell_type": "code",
   "execution_count": 21,
   "metadata": {},
   "outputs": [
    {
     "name": "stdout",
     "output_type": "stream",
     "text": [
      "hosp_code column has 32 unique values. \n",
      "\n",
      "hosp_type column has 7 unique values. \n",
      "\n",
      "city_code column has 11 unique values. \n",
      "\n",
      "hosp_region column has 3 unique values. \n",
      "\n",
      "department column has 5 unique values. \n",
      "\n",
      "ward_type column has 6 unique values. \n",
      "\n",
      "ward_code column has 6 unique values. \n",
      "\n",
      "bed_grade column has 4 unique values. \n",
      "\n",
      "patient_id column has 92009 unique values. \n",
      "\n",
      "admission_type column has 3 unique values. \n",
      "\n",
      "severity column has 3 unique values. \n",
      "\n"
     ]
    }
   ],
   "source": [
    "for i in other_columns:\n",
    "    print(\"{} column has {} unique values.\".format(i,health1[i].nunique()), '\\n')"
   ]
  },
  {
   "cell_type": "markdown",
   "metadata": {},
   "source": [
    "### Plot the distribution of columns with less than 5 unique values"
   ]
  },
  {
   "cell_type": "code",
   "execution_count": 22,
   "metadata": {},
   "outputs": [
    {
     "data": {
      "image/png": "[encoded data removed]",
      "text/plain": [
       "<Figure size 576x432 with 1 Axes>"
      ]
     },
     "metadata": {
      "needs_background": "light"
     },
     "output_type": "display_data"
    },
    {
     "data": {
      "image/png": "[encoded data removed]",
      "text/plain": [
       "<Figure size 576x432 with 1 Axes>"
      ]
     },
     "metadata": {
      "needs_background": "light"
     },
     "output_type": "display_data"
    },
    {
     "data": {
      "image/png": "[encoded data removed]",
      "text/plain": [
       "<Figure size 576x432 with 1 Axes>"
      ]
     },
     "metadata": {
      "needs_background": "light"
     },
     "output_type": "display_data"
    },
    {
     "data": {
      "image/png": "[encoded data removed]",
      "text/plain": [
       "<Figure size 576x432 with 1 Axes>"
      ]
     },
     "metadata": {
      "needs_background": "light"
     },
     "output_type": "display_data"
    }
   ],
   "source": [
    "for i in other_columns:\n",
    "    if health1[i].nunique() < 5:\n",
    "        plt.figure(figsize=(8,6))\n",
    "        plt.hist(health1[i].sort_values(), ec='k', bins=health1[i].nunique())\n",
    "        plt.xlabel(i,fontsize=18)\n",
    "        plt.grid(axis='y');"
   ]
  },
  {
   "cell_type": "markdown",
   "metadata": {},
   "source": [
    "### Plot the distribution of columns with between 5 to 12 unique values"
   ]
  },
  {
   "cell_type": "code",
   "execution_count": 23,
   "metadata": {},
   "outputs": [
    {
     "data": {
      "image/png": "[encoded data removed]",
      "text/plain": [
       "<Figure size 576x432 with 1 Axes>"
      ]
     },
     "metadata": {
      "needs_background": "light"
     },
     "output_type": "display_data"
    },
    {
     "data": {
      "image/png": "[encoded data removed]",
      "text/plain": [
       "<Figure size 576x432 with 1 Axes>"
      ]
     },
     "metadata": {
      "needs_background": "light"
     },
     "output_type": "display_data"
    },
    {
     "data": {
      "image/png": "[encoded data removed]",
      "text/plain": [
       "<Figure size 576x432 with 1 Axes>"
      ]
     },
     "metadata": {
      "needs_background": "light"
     },
     "output_type": "display_data"
    },
    {
     "data": {
      "image/png": "[encoded data removed]",
      "text/plain": [
       "<Figure size 576x432 with 1 Axes>"
      ]
     },
     "metadata": {
      "needs_background": "light"
     },
     "output_type": "display_data"
    }
   ],
   "source": [
    "for i in other_columns:\n",
    "    if ((health1[i].nunique() >= 5) & (health1[i].nunique() < 10)) :\n",
    "        plt.figure(figsize=(8,6))\n",
    "        plt.hist(health1[i].sort_values(), ec='k', bins=health1[i].nunique())\n",
    "        plt.xlabel(i,fontsize=18)\n",
    "        plt.grid(axis='y');"
   ]
  },
  {
   "cell_type": "markdown",
   "metadata": {},
   "source": [
    "### Plot varaibles with between 10 and 12 categories "
   ]
  },
  {
   "cell_type": "code",
   "execution_count": 24,
   "metadata": {},
   "outputs": [
    {
     "data": {
      "image/png": "[encoded data removed]",
      "text/plain": [
       "<Figure size 576x432 with 1 Axes>"
      ]
     },
     "metadata": {
      "needs_background": "light"
     },
     "output_type": "display_data"
    }
   ],
   "source": [
    "for i in other_columns:\n",
    "    if ((health1[i].nunique() >= 10) & (health1[i].nunique() <= 12)):\n",
    "        plt.figure(figsize=(8,6))\n",
    "        plt.hist(health1[i].sort_values(), ec='k', bins=health1[i].nunique())\n",
    "        plt.xlabel(i,fontsize=18)\n",
    "        plt.grid(axis='y');"
   ]
  },
  {
   "cell_type": "code",
   "execution_count": null,
   "metadata": {},
   "outputs": [],
   "source": []
  },
  {
   "cell_type": "code",
   "execution_count": null,
   "metadata": {},
   "outputs": [],
   "source": []
  },
  {
   "cell_type": "markdown",
   "metadata": {},
   "source": [
    "- **From the plots we can see that the distributions are definetely uneven and in all variables some categories have a lot more data.**"
   ]
  },
  {
   "cell_type": "code",
   "execution_count": 25,
   "metadata": {},
   "outputs": [
    {
     "name": "stdout",
     "output_type": "stream",
     "text": [
      "Moderate    175793\n",
      "Minor        85850\n",
      "Extreme      56682\n",
      "Name: severity, dtype: int64 \n",
      "\n",
      "Trauma       152200\n",
      "Emergency    117624\n",
      "Urgent        48501\n",
      "Name: admission_type, dtype: int64 \n",
      "\n",
      "1     55351\n",
      "2     51809\n",
      "6     46882\n",
      "7     35462\n",
      "3     31569\n",
      "5     31105\n",
      "9     26277\n",
      "11    17137\n",
      "4     13854\n",
      "10     5249\n",
      "13     3630\n",
      "Name: city_code, dtype: int64 \n",
      "\n",
      "2.0    123671\n",
      "3.0    110583\n",
      "4.0     57566\n",
      "1.0     26505\n",
      "Name: bed_grade, dtype: int64 \n",
      "\n",
      "X    133224\n",
      "Y    122427\n",
      "Z     62674\n",
      "Name: hosp_region, dtype: int64 \n",
      "\n",
      "F    112641\n",
      "E     55351\n",
      "D     51809\n",
      "C     35462\n",
      "B     35156\n",
      "A     27906\n",
      "Name: ward_code, dtype: int64 \n",
      "\n",
      "R    127875\n",
      "Q    106125\n",
      "S     77793\n",
      "P      5046\n",
      "T      1477\n",
      "U         9\n",
      "Name: ward_type, dtype: int64 \n",
      "\n",
      "a    143312\n",
      "b     68946\n",
      "c     45928\n",
      "e     24770\n",
      "d     20389\n",
      "f     10703\n",
      "g      4277\n",
      "Name: hosp_type, dtype: int64 \n",
      "\n",
      "gynecology            249387\n",
      "anesthesia             29647\n",
      "radiotherapy           28506\n",
      "TB & Chest disease      9584\n",
      "surgery                 1201\n",
      "Name: department, dtype: int64 \n",
      "\n"
     ]
    }
   ],
   "source": [
    "for i in ['severity','admission_type','city_code','bed_grade','hosp_region', 'ward_code', 'ward_type','hosp_type','department']:\n",
    "    print(health1[i].value_counts(),'\\n')"
   ]
  },
  {
   "cell_type": "markdown",
   "metadata": {},
   "source": [
    "- **We can certainly reduce the number of categories in hosp_type, ward_type, department and ward_code features, as they are unevenly distributed.**"
   ]
  },
  {
   "cell_type": "markdown",
   "metadata": {},
   "source": [
    "### Ordinal vs Nominal Categories\n",
    "- select Variables with less than 10 categories and devide them to ordinal and nominal category varaibles "
   ]
  },
  {
   "cell_type": "code",
   "execution_count": 26,
   "metadata": {},
   "outputs": [
    {
     "data": {
      "text/html": [
       "<div>\n",
       "<style scoped>\n",
       "    .dataframe tbody tr th:only-of-type {\n",
       "        vertical-align: middle;\n",
       "    }\n",
       "\n",
       "    .dataframe tbody tr th {\n",
       "        vertical-align: top;\n",
       "    }\n",
       "\n",
       "    .dataframe thead th {\n",
       "        text-align: right;\n",
       "    }\n",
       "</style>\n",
       "<table border=\"1\" class=\"dataframe\">\n",
       "  <thead>\n",
       "    <tr style=\"text-align: right;\">\n",
       "      <th></th>\n",
       "      <th>case_id</th>\n",
       "      <th>hosp_code</th>\n",
       "      <th>hosp_type</th>\n",
       "      <th>city_code</th>\n",
       "      <th>hosp_region</th>\n",
       "      <th>rooms_available</th>\n",
       "      <th>department</th>\n",
       "      <th>ward_type</th>\n",
       "      <th>ward_code</th>\n",
       "      <th>bed_grade</th>\n",
       "      <th>patient_id</th>\n",
       "      <th>admission_type</th>\n",
       "      <th>severity</th>\n",
       "      <th>num_visitors</th>\n",
       "      <th>age</th>\n",
       "      <th>deposit</th>\n",
       "      <th>stay</th>\n",
       "    </tr>\n",
       "  </thead>\n",
       "  <tbody>\n",
       "    <tr>\n",
       "      <td>0</td>\n",
       "      <td>1</td>\n",
       "      <td>8</td>\n",
       "      <td>c</td>\n",
       "      <td>3</td>\n",
       "      <td>Z</td>\n",
       "      <td>3</td>\n",
       "      <td>radiotherapy</td>\n",
       "      <td>R</td>\n",
       "      <td>F</td>\n",
       "      <td>2.0</td>\n",
       "      <td>31397</td>\n",
       "      <td>Emergency</td>\n",
       "      <td>Extreme</td>\n",
       "      <td>2</td>\n",
       "      <td>5</td>\n",
       "      <td>4911</td>\n",
       "      <td>0</td>\n",
       "    </tr>\n",
       "    <tr>\n",
       "      <td>1</td>\n",
       "      <td>2</td>\n",
       "      <td>2</td>\n",
       "      <td>c</td>\n",
       "      <td>5</td>\n",
       "      <td>Z</td>\n",
       "      <td>2</td>\n",
       "      <td>radiotherapy</td>\n",
       "      <td>S</td>\n",
       "      <td>F</td>\n",
       "      <td>2.0</td>\n",
       "      <td>31397</td>\n",
       "      <td>Trauma</td>\n",
       "      <td>Extreme</td>\n",
       "      <td>2</td>\n",
       "      <td>5</td>\n",
       "      <td>5954</td>\n",
       "      <td>4</td>\n",
       "    </tr>\n",
       "    <tr>\n",
       "      <td>2</td>\n",
       "      <td>3</td>\n",
       "      <td>10</td>\n",
       "      <td>e</td>\n",
       "      <td>1</td>\n",
       "      <td>X</td>\n",
       "      <td>2</td>\n",
       "      <td>anesthesia</td>\n",
       "      <td>S</td>\n",
       "      <td>E</td>\n",
       "      <td>2.0</td>\n",
       "      <td>31397</td>\n",
       "      <td>Trauma</td>\n",
       "      <td>Extreme</td>\n",
       "      <td>2</td>\n",
       "      <td>5</td>\n",
       "      <td>4745</td>\n",
       "      <td>3</td>\n",
       "    </tr>\n",
       "    <tr>\n",
       "      <td>3</td>\n",
       "      <td>4</td>\n",
       "      <td>26</td>\n",
       "      <td>b</td>\n",
       "      <td>2</td>\n",
       "      <td>Y</td>\n",
       "      <td>2</td>\n",
       "      <td>radiotherapy</td>\n",
       "      <td>R</td>\n",
       "      <td>D</td>\n",
       "      <td>2.0</td>\n",
       "      <td>31397</td>\n",
       "      <td>Trauma</td>\n",
       "      <td>Extreme</td>\n",
       "      <td>2</td>\n",
       "      <td>5</td>\n",
       "      <td>7272</td>\n",
       "      <td>4</td>\n",
       "    </tr>\n",
       "    <tr>\n",
       "      <td>4</td>\n",
       "      <td>5</td>\n",
       "      <td>26</td>\n",
       "      <td>b</td>\n",
       "      <td>2</td>\n",
       "      <td>Y</td>\n",
       "      <td>2</td>\n",
       "      <td>radiotherapy</td>\n",
       "      <td>S</td>\n",
       "      <td>D</td>\n",
       "      <td>2.0</td>\n",
       "      <td>31397</td>\n",
       "      <td>Trauma</td>\n",
       "      <td>Extreme</td>\n",
       "      <td>2</td>\n",
       "      <td>5</td>\n",
       "      <td>5558</td>\n",
       "      <td>4</td>\n",
       "    </tr>\n",
       "  </tbody>\n",
       "</table>\n",
       "</div>"
      ],
      "text/plain": [
       "   case_id  hosp_code hosp_type  city_code hosp_region  rooms_available  \\\n",
       "0        1          8         c          3           Z                3   \n",
       "1        2          2         c          5           Z                2   \n",
       "2        3         10         e          1           X                2   \n",
       "3        4         26         b          2           Y                2   \n",
       "4        5         26         b          2           Y                2   \n",
       "\n",
       "     department ward_type ward_code  bed_grade  patient_id admission_type  \\\n",
       "0  radiotherapy         R         F        2.0       31397      Emergency   \n",
       "1  radiotherapy         S         F        2.0       31397         Trauma   \n",
       "2    anesthesia         S         E        2.0       31397         Trauma   \n",
       "3  radiotherapy         R         D        2.0       31397         Trauma   \n",
       "4  radiotherapy         S         D        2.0       31397         Trauma   \n",
       "\n",
       "  severity  num_visitors  age  deposit  stay  \n",
       "0  Extreme             2    5     4911     0  \n",
       "1  Extreme             2    5     5954     4  \n",
       "2  Extreme             2    5     4745     3  \n",
       "3  Extreme             2    5     7272     4  \n",
       "4  Extreme             2    5     5558     4  "
      ]
     },
     "execution_count": 26,
     "metadata": {},
     "output_type": "execute_result"
    }
   ],
   "source": [
    "health1.head()"
   ]
  },
  {
   "cell_type": "markdown",
   "metadata": {},
   "source": [
    "**Ordinal Categories**"
   ]
  },
  {
   "cell_type": "code",
   "execution_count": 27,
   "metadata": {},
   "outputs": [],
   "source": [
    "ordinal_cat = ['bed_grade','severity','age']"
   ]
  },
  {
   "cell_type": "markdown",
   "metadata": {},
   "source": [
    "**Nominal Categories**"
   ]
  },
  {
   "cell_type": "code",
   "execution_count": 28,
   "metadata": {},
   "outputs": [],
   "source": [
    "nominal_cat = ['hosp_type', 'hosp_region', 'department', 'ward_type', 'ward_code', 'admission_type']"
   ]
  },
  {
   "cell_type": "code",
   "execution_count": null,
   "metadata": {},
   "outputs": [],
   "source": []
  },
  {
   "cell_type": "markdown",
   "metadata": {},
   "source": [
    "### Transform ordinal and nominal categories"
   ]
  },
  {
   "cell_type": "code",
   "execution_count": 29,
   "metadata": {},
   "outputs": [],
   "source": [
    "from sklearn.compose import make_column_transformer\n",
    "from sklearn.preprocessing import OneHotEncoder\n",
    "from sklearn.preprocessing import OrdinalEncoder\n",
    "from sklearn.pipeline import make_pipeline\n",
    "from sklearn.model_selection import cross_val_score\n",
    "\n",
    "# Models \n",
    "from sklearn.ensemble import RandomForestClassifier\n",
    "from sklearn.neighbors import KNeighborsClassifier"
   ]
  },
  {
   "cell_type": "markdown",
   "metadata": {},
   "source": [
    "***One hot encode nominal variables***"
   ]
  },
  {
   "cell_type": "code",
   "execution_count": 30,
   "metadata": {},
   "outputs": [],
   "source": [
    "health1 = pd.concat([health1,pd.get_dummies(health1[nominal_cat],drop_first=True)], axis=1)"
   ]
  },
  {
   "cell_type": "code",
   "execution_count": 31,
   "metadata": {},
   "outputs": [
    {
     "data": {
      "text/html": [
       "<div>\n",
       "<style scoped>\n",
       "    .dataframe tbody tr th:only-of-type {\n",
       "        vertical-align: middle;\n",
       "    }\n",
       "\n",
       "    .dataframe tbody tr th {\n",
       "        vertical-align: top;\n",
       "    }\n",
       "\n",
       "    .dataframe thead th {\n",
       "        text-align: right;\n",
       "    }\n",
       "</style>\n",
       "<table border=\"1\" class=\"dataframe\">\n",
       "  <thead>\n",
       "    <tr style=\"text-align: right;\">\n",
       "      <th></th>\n",
       "      <th>case_id</th>\n",
       "      <th>hosp_code</th>\n",
       "      <th>hosp_type</th>\n",
       "      <th>city_code</th>\n",
       "      <th>hosp_region</th>\n",
       "      <th>rooms_available</th>\n",
       "      <th>department</th>\n",
       "      <th>ward_type</th>\n",
       "      <th>ward_code</th>\n",
       "      <th>bed_grade</th>\n",
       "      <th>...</th>\n",
       "      <th>ward_type_S</th>\n",
       "      <th>ward_type_T</th>\n",
       "      <th>ward_type_U</th>\n",
       "      <th>ward_code_B</th>\n",
       "      <th>ward_code_C</th>\n",
       "      <th>ward_code_D</th>\n",
       "      <th>ward_code_E</th>\n",
       "      <th>ward_code_F</th>\n",
       "      <th>admission_type_Trauma</th>\n",
       "      <th>admission_type_Urgent</th>\n",
       "    </tr>\n",
       "  </thead>\n",
       "  <tbody>\n",
       "    <tr>\n",
       "      <td>0</td>\n",
       "      <td>1</td>\n",
       "      <td>8</td>\n",
       "      <td>c</td>\n",
       "      <td>3</td>\n",
       "      <td>Z</td>\n",
       "      <td>3</td>\n",
       "      <td>radiotherapy</td>\n",
       "      <td>R</td>\n",
       "      <td>F</td>\n",
       "      <td>2.0</td>\n",
       "      <td>...</td>\n",
       "      <td>0</td>\n",
       "      <td>0</td>\n",
       "      <td>0</td>\n",
       "      <td>0</td>\n",
       "      <td>0</td>\n",
       "      <td>0</td>\n",
       "      <td>0</td>\n",
       "      <td>1</td>\n",
       "      <td>0</td>\n",
       "      <td>0</td>\n",
       "    </tr>\n",
       "    <tr>\n",
       "      <td>1</td>\n",
       "      <td>2</td>\n",
       "      <td>2</td>\n",
       "      <td>c</td>\n",
       "      <td>5</td>\n",
       "      <td>Z</td>\n",
       "      <td>2</td>\n",
       "      <td>radiotherapy</td>\n",
       "      <td>S</td>\n",
       "      <td>F</td>\n",
       "      <td>2.0</td>\n",
       "      <td>...</td>\n",
       "      <td>1</td>\n",
       "      <td>0</td>\n",
       "      <td>0</td>\n",
       "      <td>0</td>\n",
       "      <td>0</td>\n",
       "      <td>0</td>\n",
       "      <td>0</td>\n",
       "      <td>1</td>\n",
       "      <td>1</td>\n",
       "      <td>0</td>\n",
       "    </tr>\n",
       "    <tr>\n",
       "      <td>2</td>\n",
       "      <td>3</td>\n",
       "      <td>10</td>\n",
       "      <td>e</td>\n",
       "      <td>1</td>\n",
       "      <td>X</td>\n",
       "      <td>2</td>\n",
       "      <td>anesthesia</td>\n",
       "      <td>S</td>\n",
       "      <td>E</td>\n",
       "      <td>2.0</td>\n",
       "      <td>...</td>\n",
       "      <td>1</td>\n",
       "      <td>0</td>\n",
       "      <td>0</td>\n",
       "      <td>0</td>\n",
       "      <td>0</td>\n",
       "      <td>0</td>\n",
       "      <td>1</td>\n",
       "      <td>0</td>\n",
       "      <td>1</td>\n",
       "      <td>0</td>\n",
       "    </tr>\n",
       "    <tr>\n",
       "      <td>3</td>\n",
       "      <td>4</td>\n",
       "      <td>26</td>\n",
       "      <td>b</td>\n",
       "      <td>2</td>\n",
       "      <td>Y</td>\n",
       "      <td>2</td>\n",
       "      <td>radiotherapy</td>\n",
       "      <td>R</td>\n",
       "      <td>D</td>\n",
       "      <td>2.0</td>\n",
       "      <td>...</td>\n",
       "      <td>0</td>\n",
       "      <td>0</td>\n",
       "      <td>0</td>\n",
       "      <td>0</td>\n",
       "      <td>0</td>\n",
       "      <td>1</td>\n",
       "      <td>0</td>\n",
       "      <td>0</td>\n",
       "      <td>1</td>\n",
       "      <td>0</td>\n",
       "    </tr>\n",
       "    <tr>\n",
       "      <td>4</td>\n",
       "      <td>5</td>\n",
       "      <td>26</td>\n",
       "      <td>b</td>\n",
       "      <td>2</td>\n",
       "      <td>Y</td>\n",
       "      <td>2</td>\n",
       "      <td>radiotherapy</td>\n",
       "      <td>S</td>\n",
       "      <td>D</td>\n",
       "      <td>2.0</td>\n",
       "      <td>...</td>\n",
       "      <td>1</td>\n",
       "      <td>0</td>\n",
       "      <td>0</td>\n",
       "      <td>0</td>\n",
       "      <td>0</td>\n",
       "      <td>1</td>\n",
       "      <td>0</td>\n",
       "      <td>0</td>\n",
       "      <td>1</td>\n",
       "      <td>0</td>\n",
       "    </tr>\n",
       "  </tbody>\n",
       "</table>\n",
       "<p>5 rows × 41 columns</p>\n",
       "</div>"
      ],
      "text/plain": [
       "   case_id  hosp_code hosp_type  city_code hosp_region  rooms_available  \\\n",
       "0        1          8         c          3           Z                3   \n",
       "1        2          2         c          5           Z                2   \n",
       "2        3         10         e          1           X                2   \n",
       "3        4         26         b          2           Y                2   \n",
       "4        5         26         b          2           Y                2   \n",
       "\n",
       "     department ward_type ward_code  bed_grade  ...  ward_type_S ward_type_T  \\\n",
       "0  radiotherapy         R         F        2.0  ...            0           0   \n",
       "1  radiotherapy         S         F        2.0  ...            1           0   \n",
       "2    anesthesia         S         E        2.0  ...            1           0   \n",
       "3  radiotherapy         R         D        2.0  ...            0           0   \n",
       "4  radiotherapy         S         D        2.0  ...            1           0   \n",
       "\n",
       "  ward_type_U  ward_code_B  ward_code_C  ward_code_D  ward_code_E  \\\n",
       "0           0            0            0            0            0   \n",
       "1           0            0            0            0            0   \n",
       "2           0            0            0            0            1   \n",
       "3           0            0            0            1            0   \n",
       "4           0            0            0            1            0   \n",
       "\n",
       "   ward_code_F  admission_type_Trauma  admission_type_Urgent  \n",
       "0            1                      0                      0  \n",
       "1            1                      1                      0  \n",
       "2            0                      1                      0  \n",
       "3            0                      1                      0  \n",
       "4            0                      1                      0  \n",
       "\n",
       "[5 rows x 41 columns]"
      ]
     },
     "execution_count": 31,
     "metadata": {},
     "output_type": "execute_result"
    }
   ],
   "source": [
    "health1.head()"
   ]
  },
  {
   "cell_type": "code",
   "execution_count": 32,
   "metadata": {},
   "outputs": [
    {
     "data": {
      "text/plain": [
       "Index(['case_id', 'hosp_code', 'hosp_type', 'city_code', 'hosp_region',\n",
       "       'rooms_available', 'department', 'ward_type', 'ward_code', 'bed_grade',\n",
       "       'patient_id', 'admission_type', 'severity', 'num_visitors', 'age',\n",
       "       'deposit', 'stay', 'hosp_type_b', 'hosp_type_c', 'hosp_type_d',\n",
       "       'hosp_type_e', 'hosp_type_f', 'hosp_type_g', 'hosp_region_Y',\n",
       "       'hosp_region_Z', 'department_anesthesia', 'department_gynecology',\n",
       "       'department_radiotherapy', 'department_surgery', 'ward_type_Q',\n",
       "       'ward_type_R', 'ward_type_S', 'ward_type_T', 'ward_type_U',\n",
       "       'ward_code_B', 'ward_code_C', 'ward_code_D', 'ward_code_E',\n",
       "       'ward_code_F', 'admission_type_Trauma', 'admission_type_Urgent'],\n",
       "      dtype='object')"
      ]
     },
     "execution_count": 32,
     "metadata": {},
     "output_type": "execute_result"
    }
   ],
   "source": [
    "health1.columns"
   ]
  },
  {
   "cell_type": "code",
   "execution_count": 33,
   "metadata": {},
   "outputs": [],
   "source": [
    "## Drop the nominal columns\n",
    "health1.drop(nominal_cat,inplace=True,axis=1)"
   ]
  },
  {
   "cell_type": "code",
   "execution_count": 34,
   "metadata": {},
   "outputs": [
    {
     "data": {
      "text/html": [
       "<div>\n",
       "<style scoped>\n",
       "    .dataframe tbody tr th:only-of-type {\n",
       "        vertical-align: middle;\n",
       "    }\n",
       "\n",
       "    .dataframe tbody tr th {\n",
       "        vertical-align: top;\n",
       "    }\n",
       "\n",
       "    .dataframe thead th {\n",
       "        text-align: right;\n",
       "    }\n",
       "</style>\n",
       "<table border=\"1\" class=\"dataframe\">\n",
       "  <thead>\n",
       "    <tr style=\"text-align: right;\">\n",
       "      <th></th>\n",
       "      <th>case_id</th>\n",
       "      <th>hosp_code</th>\n",
       "      <th>city_code</th>\n",
       "      <th>rooms_available</th>\n",
       "      <th>bed_grade</th>\n",
       "      <th>patient_id</th>\n",
       "      <th>severity</th>\n",
       "      <th>num_visitors</th>\n",
       "      <th>age</th>\n",
       "      <th>deposit</th>\n",
       "      <th>...</th>\n",
       "      <th>ward_type_S</th>\n",
       "      <th>ward_type_T</th>\n",
       "      <th>ward_type_U</th>\n",
       "      <th>ward_code_B</th>\n",
       "      <th>ward_code_C</th>\n",
       "      <th>ward_code_D</th>\n",
       "      <th>ward_code_E</th>\n",
       "      <th>ward_code_F</th>\n",
       "      <th>admission_type_Trauma</th>\n",
       "      <th>admission_type_Urgent</th>\n",
       "    </tr>\n",
       "  </thead>\n",
       "  <tbody>\n",
       "    <tr>\n",
       "      <td>0</td>\n",
       "      <td>1</td>\n",
       "      <td>8</td>\n",
       "      <td>3</td>\n",
       "      <td>3</td>\n",
       "      <td>2.0</td>\n",
       "      <td>31397</td>\n",
       "      <td>Extreme</td>\n",
       "      <td>2</td>\n",
       "      <td>5</td>\n",
       "      <td>4911</td>\n",
       "      <td>...</td>\n",
       "      <td>0</td>\n",
       "      <td>0</td>\n",
       "      <td>0</td>\n",
       "      <td>0</td>\n",
       "      <td>0</td>\n",
       "      <td>0</td>\n",
       "      <td>0</td>\n",
       "      <td>1</td>\n",
       "      <td>0</td>\n",
       "      <td>0</td>\n",
       "    </tr>\n",
       "    <tr>\n",
       "      <td>1</td>\n",
       "      <td>2</td>\n",
       "      <td>2</td>\n",
       "      <td>5</td>\n",
       "      <td>2</td>\n",
       "      <td>2.0</td>\n",
       "      <td>31397</td>\n",
       "      <td>Extreme</td>\n",
       "      <td>2</td>\n",
       "      <td>5</td>\n",
       "      <td>5954</td>\n",
       "      <td>...</td>\n",
       "      <td>1</td>\n",
       "      <td>0</td>\n",
       "      <td>0</td>\n",
       "      <td>0</td>\n",
       "      <td>0</td>\n",
       "      <td>0</td>\n",
       "      <td>0</td>\n",
       "      <td>1</td>\n",
       "      <td>1</td>\n",
       "      <td>0</td>\n",
       "    </tr>\n",
       "    <tr>\n",
       "      <td>2</td>\n",
       "      <td>3</td>\n",
       "      <td>10</td>\n",
       "      <td>1</td>\n",
       "      <td>2</td>\n",
       "      <td>2.0</td>\n",
       "      <td>31397</td>\n",
       "      <td>Extreme</td>\n",
       "      <td>2</td>\n",
       "      <td>5</td>\n",
       "      <td>4745</td>\n",
       "      <td>...</td>\n",
       "      <td>1</td>\n",
       "      <td>0</td>\n",
       "      <td>0</td>\n",
       "      <td>0</td>\n",
       "      <td>0</td>\n",
       "      <td>0</td>\n",
       "      <td>1</td>\n",
       "      <td>0</td>\n",
       "      <td>1</td>\n",
       "      <td>0</td>\n",
       "    </tr>\n",
       "    <tr>\n",
       "      <td>3</td>\n",
       "      <td>4</td>\n",
       "      <td>26</td>\n",
       "      <td>2</td>\n",
       "      <td>2</td>\n",
       "      <td>2.0</td>\n",
       "      <td>31397</td>\n",
       "      <td>Extreme</td>\n",
       "      <td>2</td>\n",
       "      <td>5</td>\n",
       "      <td>7272</td>\n",
       "      <td>...</td>\n",
       "      <td>0</td>\n",
       "      <td>0</td>\n",
       "      <td>0</td>\n",
       "      <td>0</td>\n",
       "      <td>0</td>\n",
       "      <td>1</td>\n",
       "      <td>0</td>\n",
       "      <td>0</td>\n",
       "      <td>1</td>\n",
       "      <td>0</td>\n",
       "    </tr>\n",
       "    <tr>\n",
       "      <td>4</td>\n",
       "      <td>5</td>\n",
       "      <td>26</td>\n",
       "      <td>2</td>\n",
       "      <td>2</td>\n",
       "      <td>2.0</td>\n",
       "      <td>31397</td>\n",
       "      <td>Extreme</td>\n",
       "      <td>2</td>\n",
       "      <td>5</td>\n",
       "      <td>5558</td>\n",
       "      <td>...</td>\n",
       "      <td>1</td>\n",
       "      <td>0</td>\n",
       "      <td>0</td>\n",
       "      <td>0</td>\n",
       "      <td>0</td>\n",
       "      <td>1</td>\n",
       "      <td>0</td>\n",
       "      <td>0</td>\n",
       "      <td>1</td>\n",
       "      <td>0</td>\n",
       "    </tr>\n",
       "  </tbody>\n",
       "</table>\n",
       "<p>5 rows × 35 columns</p>\n",
       "</div>"
      ],
      "text/plain": [
       "   case_id  hosp_code  city_code  rooms_available  bed_grade  patient_id  \\\n",
       "0        1          8          3                3        2.0       31397   \n",
       "1        2          2          5                2        2.0       31397   \n",
       "2        3         10          1                2        2.0       31397   \n",
       "3        4         26          2                2        2.0       31397   \n",
       "4        5         26          2                2        2.0       31397   \n",
       "\n",
       "  severity  num_visitors  age  deposit  ...  ward_type_S  ward_type_T  \\\n",
       "0  Extreme             2    5     4911  ...            0            0   \n",
       "1  Extreme             2    5     5954  ...            1            0   \n",
       "2  Extreme             2    5     4745  ...            1            0   \n",
       "3  Extreme             2    5     7272  ...            0            0   \n",
       "4  Extreme             2    5     5558  ...            1            0   \n",
       "\n",
       "   ward_type_U  ward_code_B  ward_code_C  ward_code_D  ward_code_E  \\\n",
       "0            0            0            0            0            0   \n",
       "1            0            0            0            0            0   \n",
       "2            0            0            0            0            1   \n",
       "3            0            0            0            1            0   \n",
       "4            0            0            0            1            0   \n",
       "\n",
       "   ward_code_F  admission_type_Trauma  admission_type_Urgent  \n",
       "0            1                      0                      0  \n",
       "1            1                      1                      0  \n",
       "2            0                      1                      0  \n",
       "3            0                      1                      0  \n",
       "4            0                      1                      0  \n",
       "\n",
       "[5 rows x 35 columns]"
      ]
     },
     "execution_count": 34,
     "metadata": {},
     "output_type": "execute_result"
    }
   ],
   "source": [
    "health1.head()"
   ]
  },
  {
   "cell_type": "code",
   "execution_count": 35,
   "metadata": {},
   "outputs": [
    {
     "data": {
      "text/plain": [
       "Index(['case_id', 'hosp_code', 'city_code', 'rooms_available', 'bed_grade',\n",
       "       'patient_id', 'severity', 'num_visitors', 'age', 'deposit', 'stay',\n",
       "       'hosp_type_b', 'hosp_type_c', 'hosp_type_d', 'hosp_type_e',\n",
       "       'hosp_type_f', 'hosp_type_g', 'hosp_region_Y', 'hosp_region_Z',\n",
       "       'department_anesthesia', 'department_gynecology',\n",
       "       'department_radiotherapy', 'department_surgery', 'ward_type_Q',\n",
       "       'ward_type_R', 'ward_type_S', 'ward_type_T', 'ward_type_U',\n",
       "       'ward_code_B', 'ward_code_C', 'ward_code_D', 'ward_code_E',\n",
       "       'ward_code_F', 'admission_type_Trauma', 'admission_type_Urgent'],\n",
       "      dtype='object')"
      ]
     },
     "execution_count": 35,
     "metadata": {},
     "output_type": "execute_result"
    }
   ],
   "source": [
    "health1.columns"
   ]
  },
  {
   "cell_type": "code",
   "execution_count": null,
   "metadata": {},
   "outputs": [],
   "source": []
  },
  {
   "cell_type": "markdown",
   "metadata": {},
   "source": [
    "***Transform Ordinal Categories***"
   ]
  },
  {
   "cell_type": "code",
   "execution_count": 36,
   "metadata": {},
   "outputs": [
    {
     "data": {
      "text/plain": [
       "['bed_grade', 'severity', 'age']"
      ]
     },
     "execution_count": 36,
     "metadata": {},
     "output_type": "execute_result"
    }
   ],
   "source": [
    "ordinal_cat"
   ]
  },
  {
   "cell_type": "code",
   "execution_count": 37,
   "metadata": {},
   "outputs": [
    {
     "name": "stdout",
     "output_type": "stream",
     "text": [
      "bed_grade [2. 3. 4. 1.]\n",
      "severity ['Extreme' 'Moderate' 'Minor']\n",
      "age [5 7 3 4 8 6 2 1 0 9]\n"
     ]
    }
   ],
   "source": [
    "for i in ordinal_cat:\n",
    "    print(i,health1[i].unique())"
   ]
  },
  {
   "cell_type": "markdown",
   "metadata": {},
   "source": [
    "***We only need to transformt he severity column since the other column categories are already in numeric values*** "
   ]
  },
  {
   "cell_type": "code",
   "execution_count": 38,
   "metadata": {},
   "outputs": [],
   "source": [
    "# Instantiate Ordinal Encoder and define categories\n",
    "oe = OrdinalEncoder(categories=[['Minor','Moderate','Extreme']])\n",
    "\n",
    "#Fit and transform the encoder\n",
    "# Apply ordinal categorical columns to dataframe\n",
    "health1['severity'] = oe.fit_transform(health1[['severity']])"
   ]
  },
  {
   "cell_type": "code",
   "execution_count": 39,
   "metadata": {},
   "outputs": [
    {
     "data": {
      "text/html": [
       "<div>\n",
       "<style scoped>\n",
       "    .dataframe tbody tr th:only-of-type {\n",
       "        vertical-align: middle;\n",
       "    }\n",
       "\n",
       "    .dataframe tbody tr th {\n",
       "        vertical-align: top;\n",
       "    }\n",
       "\n",
       "    .dataframe thead th {\n",
       "        text-align: right;\n",
       "    }\n",
       "</style>\n",
       "<table border=\"1\" class=\"dataframe\">\n",
       "  <thead>\n",
       "    <tr style=\"text-align: right;\">\n",
       "      <th></th>\n",
       "      <th>case_id</th>\n",
       "      <th>hosp_code</th>\n",
       "      <th>city_code</th>\n",
       "      <th>rooms_available</th>\n",
       "      <th>bed_grade</th>\n",
       "      <th>patient_id</th>\n",
       "      <th>severity</th>\n",
       "      <th>num_visitors</th>\n",
       "      <th>age</th>\n",
       "      <th>deposit</th>\n",
       "      <th>...</th>\n",
       "      <th>ward_type_S</th>\n",
       "      <th>ward_type_T</th>\n",
       "      <th>ward_type_U</th>\n",
       "      <th>ward_code_B</th>\n",
       "      <th>ward_code_C</th>\n",
       "      <th>ward_code_D</th>\n",
       "      <th>ward_code_E</th>\n",
       "      <th>ward_code_F</th>\n",
       "      <th>admission_type_Trauma</th>\n",
       "      <th>admission_type_Urgent</th>\n",
       "    </tr>\n",
       "  </thead>\n",
       "  <tbody>\n",
       "    <tr>\n",
       "      <td>0</td>\n",
       "      <td>1</td>\n",
       "      <td>8</td>\n",
       "      <td>3</td>\n",
       "      <td>3</td>\n",
       "      <td>2.0</td>\n",
       "      <td>31397</td>\n",
       "      <td>2.0</td>\n",
       "      <td>2</td>\n",
       "      <td>5</td>\n",
       "      <td>4911</td>\n",
       "      <td>...</td>\n",
       "      <td>0</td>\n",
       "      <td>0</td>\n",
       "      <td>0</td>\n",
       "      <td>0</td>\n",
       "      <td>0</td>\n",
       "      <td>0</td>\n",
       "      <td>0</td>\n",
       "      <td>1</td>\n",
       "      <td>0</td>\n",
       "      <td>0</td>\n",
       "    </tr>\n",
       "    <tr>\n",
       "      <td>1</td>\n",
       "      <td>2</td>\n",
       "      <td>2</td>\n",
       "      <td>5</td>\n",
       "      <td>2</td>\n",
       "      <td>2.0</td>\n",
       "      <td>31397</td>\n",
       "      <td>2.0</td>\n",
       "      <td>2</td>\n",
       "      <td>5</td>\n",
       "      <td>5954</td>\n",
       "      <td>...</td>\n",
       "      <td>1</td>\n",
       "      <td>0</td>\n",
       "      <td>0</td>\n",
       "      <td>0</td>\n",
       "      <td>0</td>\n",
       "      <td>0</td>\n",
       "      <td>0</td>\n",
       "      <td>1</td>\n",
       "      <td>1</td>\n",
       "      <td>0</td>\n",
       "    </tr>\n",
       "    <tr>\n",
       "      <td>2</td>\n",
       "      <td>3</td>\n",
       "      <td>10</td>\n",
       "      <td>1</td>\n",
       "      <td>2</td>\n",
       "      <td>2.0</td>\n",
       "      <td>31397</td>\n",
       "      <td>2.0</td>\n",
       "      <td>2</td>\n",
       "      <td>5</td>\n",
       "      <td>4745</td>\n",
       "      <td>...</td>\n",
       "      <td>1</td>\n",
       "      <td>0</td>\n",
       "      <td>0</td>\n",
       "      <td>0</td>\n",
       "      <td>0</td>\n",
       "      <td>0</td>\n",
       "      <td>1</td>\n",
       "      <td>0</td>\n",
       "      <td>1</td>\n",
       "      <td>0</td>\n",
       "    </tr>\n",
       "    <tr>\n",
       "      <td>3</td>\n",
       "      <td>4</td>\n",
       "      <td>26</td>\n",
       "      <td>2</td>\n",
       "      <td>2</td>\n",
       "      <td>2.0</td>\n",
       "      <td>31397</td>\n",
       "      <td>2.0</td>\n",
       "      <td>2</td>\n",
       "      <td>5</td>\n",
       "      <td>7272</td>\n",
       "      <td>...</td>\n",
       "      <td>0</td>\n",
       "      <td>0</td>\n",
       "      <td>0</td>\n",
       "      <td>0</td>\n",
       "      <td>0</td>\n",
       "      <td>1</td>\n",
       "      <td>0</td>\n",
       "      <td>0</td>\n",
       "      <td>1</td>\n",
       "      <td>0</td>\n",
       "    </tr>\n",
       "    <tr>\n",
       "      <td>4</td>\n",
       "      <td>5</td>\n",
       "      <td>26</td>\n",
       "      <td>2</td>\n",
       "      <td>2</td>\n",
       "      <td>2.0</td>\n",
       "      <td>31397</td>\n",
       "      <td>2.0</td>\n",
       "      <td>2</td>\n",
       "      <td>5</td>\n",
       "      <td>5558</td>\n",
       "      <td>...</td>\n",
       "      <td>1</td>\n",
       "      <td>0</td>\n",
       "      <td>0</td>\n",
       "      <td>0</td>\n",
       "      <td>0</td>\n",
       "      <td>1</td>\n",
       "      <td>0</td>\n",
       "      <td>0</td>\n",
       "      <td>1</td>\n",
       "      <td>0</td>\n",
       "    </tr>\n",
       "  </tbody>\n",
       "</table>\n",
       "<p>5 rows × 35 columns</p>\n",
       "</div>"
      ],
      "text/plain": [
       "   case_id  hosp_code  city_code  rooms_available  bed_grade  patient_id  \\\n",
       "0        1          8          3                3        2.0       31397   \n",
       "1        2          2          5                2        2.0       31397   \n",
       "2        3         10          1                2        2.0       31397   \n",
       "3        4         26          2                2        2.0       31397   \n",
       "4        5         26          2                2        2.0       31397   \n",
       "\n",
       "   severity  num_visitors  age  deposit  ...  ward_type_S  ward_type_T  \\\n",
       "0       2.0             2    5     4911  ...            0            0   \n",
       "1       2.0             2    5     5954  ...            1            0   \n",
       "2       2.0             2    5     4745  ...            1            0   \n",
       "3       2.0             2    5     7272  ...            0            0   \n",
       "4       2.0             2    5     5558  ...            1            0   \n",
       "\n",
       "   ward_type_U  ward_code_B  ward_code_C  ward_code_D  ward_code_E  \\\n",
       "0            0            0            0            0            0   \n",
       "1            0            0            0            0            0   \n",
       "2            0            0            0            0            1   \n",
       "3            0            0            0            1            0   \n",
       "4            0            0            0            1            0   \n",
       "\n",
       "   ward_code_F  admission_type_Trauma  admission_type_Urgent  \n",
       "0            1                      0                      0  \n",
       "1            1                      1                      0  \n",
       "2            0                      1                      0  \n",
       "3            0                      1                      0  \n",
       "4            0                      1                      0  \n",
       "\n",
       "[5 rows x 35 columns]"
      ]
     },
     "execution_count": 39,
     "metadata": {},
     "output_type": "execute_result"
    }
   ],
   "source": [
    "health1.head()"
   ]
  },
  {
   "cell_type": "code",
   "execution_count": 40,
   "metadata": {},
   "outputs": [
    {
     "data": {
      "text/plain": [
       "Index(['case_id', 'hosp_code', 'city_code', 'rooms_available', 'bed_grade',\n",
       "       'patient_id', 'severity', 'num_visitors', 'age', 'deposit', 'stay',\n",
       "       'hosp_type_b', 'hosp_type_c', 'hosp_type_d', 'hosp_type_e',\n",
       "       'hosp_type_f', 'hosp_type_g', 'hosp_region_Y', 'hosp_region_Z',\n",
       "       'department_anesthesia', 'department_gynecology',\n",
       "       'department_radiotherapy', 'department_surgery', 'ward_type_Q',\n",
       "       'ward_type_R', 'ward_type_S', 'ward_type_T', 'ward_type_U',\n",
       "       'ward_code_B', 'ward_code_C', 'ward_code_D', 'ward_code_E',\n",
       "       'ward_code_F', 'admission_type_Trauma', 'admission_type_Urgent'],\n",
       "      dtype='object')"
      ]
     },
     "execution_count": 40,
     "metadata": {},
     "output_type": "execute_result"
    }
   ],
   "source": [
    "health1.columns"
   ]
  },
  {
   "cell_type": "code",
   "execution_count": 41,
   "metadata": {},
   "outputs": [
    {
     "name": "stdout",
     "output_type": "stream",
     "text": [
      "bed_grade [2. 3. 4. 1.] \n",
      "\n",
      "severity [2. 1. 0.] \n",
      "\n",
      "age [5 7 3 4 8 6 2 1 0 9] \n",
      "\n"
     ]
    }
   ],
   "source": [
    "for i in ordinal_cat:\n",
    "    print(i, health1[i].unique(),'\\n')"
   ]
  },
  {
   "cell_type": "markdown",
   "metadata": {},
   "source": [
    "***Save the transformed data into a new file***"
   ]
  },
  {
   "cell_type": "code",
   "execution_count": 42,
   "metadata": {},
   "outputs": [],
   "source": [
    "#health1.to_csv('healthDataNew4.csv', index=False)"
   ]
  },
  {
   "cell_type": "code",
   "execution_count": null,
   "metadata": {},
   "outputs": [],
   "source": []
  },
  {
   "cell_type": "markdown",
   "metadata": {},
   "source": [
    "### Define X and y varaibles for modeling "
   ]
  },
  {
   "cell_type": "code",
   "execution_count": 43,
   "metadata": {},
   "outputs": [],
   "source": [
    "X = health1.drop(['stay','case_id'],axis=1)\n",
    "y = health1.stay"
   ]
  },
  {
   "cell_type": "code",
   "execution_count": 44,
   "metadata": {},
   "outputs": [
    {
     "data": {
      "text/html": [
       "<div>\n",
       "<style scoped>\n",
       "    .dataframe tbody tr th:only-of-type {\n",
       "        vertical-align: middle;\n",
       "    }\n",
       "\n",
       "    .dataframe tbody tr th {\n",
       "        vertical-align: top;\n",
       "    }\n",
       "\n",
       "    .dataframe thead th {\n",
       "        text-align: right;\n",
       "    }\n",
       "</style>\n",
       "<table border=\"1\" class=\"dataframe\">\n",
       "  <thead>\n",
       "    <tr style=\"text-align: right;\">\n",
       "      <th></th>\n",
       "      <th>hosp_code</th>\n",
       "      <th>city_code</th>\n",
       "      <th>rooms_available</th>\n",
       "      <th>bed_grade</th>\n",
       "      <th>patient_id</th>\n",
       "      <th>severity</th>\n",
       "      <th>num_visitors</th>\n",
       "      <th>age</th>\n",
       "      <th>deposit</th>\n",
       "      <th>hosp_type_b</th>\n",
       "      <th>...</th>\n",
       "      <th>ward_type_S</th>\n",
       "      <th>ward_type_T</th>\n",
       "      <th>ward_type_U</th>\n",
       "      <th>ward_code_B</th>\n",
       "      <th>ward_code_C</th>\n",
       "      <th>ward_code_D</th>\n",
       "      <th>ward_code_E</th>\n",
       "      <th>ward_code_F</th>\n",
       "      <th>admission_type_Trauma</th>\n",
       "      <th>admission_type_Urgent</th>\n",
       "    </tr>\n",
       "  </thead>\n",
       "  <tbody>\n",
       "    <tr>\n",
       "      <td>0</td>\n",
       "      <td>8</td>\n",
       "      <td>3</td>\n",
       "      <td>3</td>\n",
       "      <td>2.0</td>\n",
       "      <td>31397</td>\n",
       "      <td>2.0</td>\n",
       "      <td>2</td>\n",
       "      <td>5</td>\n",
       "      <td>4911</td>\n",
       "      <td>0</td>\n",
       "      <td>...</td>\n",
       "      <td>0</td>\n",
       "      <td>0</td>\n",
       "      <td>0</td>\n",
       "      <td>0</td>\n",
       "      <td>0</td>\n",
       "      <td>0</td>\n",
       "      <td>0</td>\n",
       "      <td>1</td>\n",
       "      <td>0</td>\n",
       "      <td>0</td>\n",
       "    </tr>\n",
       "    <tr>\n",
       "      <td>1</td>\n",
       "      <td>2</td>\n",
       "      <td>5</td>\n",
       "      <td>2</td>\n",
       "      <td>2.0</td>\n",
       "      <td>31397</td>\n",
       "      <td>2.0</td>\n",
       "      <td>2</td>\n",
       "      <td>5</td>\n",
       "      <td>5954</td>\n",
       "      <td>0</td>\n",
       "      <td>...</td>\n",
       "      <td>1</td>\n",
       "      <td>0</td>\n",
       "      <td>0</td>\n",
       "      <td>0</td>\n",
       "      <td>0</td>\n",
       "      <td>0</td>\n",
       "      <td>0</td>\n",
       "      <td>1</td>\n",
       "      <td>1</td>\n",
       "      <td>0</td>\n",
       "    </tr>\n",
       "    <tr>\n",
       "      <td>2</td>\n",
       "      <td>10</td>\n",
       "      <td>1</td>\n",
       "      <td>2</td>\n",
       "      <td>2.0</td>\n",
       "      <td>31397</td>\n",
       "      <td>2.0</td>\n",
       "      <td>2</td>\n",
       "      <td>5</td>\n",
       "      <td>4745</td>\n",
       "      <td>0</td>\n",
       "      <td>...</td>\n",
       "      <td>1</td>\n",
       "      <td>0</td>\n",
       "      <td>0</td>\n",
       "      <td>0</td>\n",
       "      <td>0</td>\n",
       "      <td>0</td>\n",
       "      <td>1</td>\n",
       "      <td>0</td>\n",
       "      <td>1</td>\n",
       "      <td>0</td>\n",
       "    </tr>\n",
       "    <tr>\n",
       "      <td>3</td>\n",
       "      <td>26</td>\n",
       "      <td>2</td>\n",
       "      <td>2</td>\n",
       "      <td>2.0</td>\n",
       "      <td>31397</td>\n",
       "      <td>2.0</td>\n",
       "      <td>2</td>\n",
       "      <td>5</td>\n",
       "      <td>7272</td>\n",
       "      <td>1</td>\n",
       "      <td>...</td>\n",
       "      <td>0</td>\n",
       "      <td>0</td>\n",
       "      <td>0</td>\n",
       "      <td>0</td>\n",
       "      <td>0</td>\n",
       "      <td>1</td>\n",
       "      <td>0</td>\n",
       "      <td>0</td>\n",
       "      <td>1</td>\n",
       "      <td>0</td>\n",
       "    </tr>\n",
       "    <tr>\n",
       "      <td>4</td>\n",
       "      <td>26</td>\n",
       "      <td>2</td>\n",
       "      <td>2</td>\n",
       "      <td>2.0</td>\n",
       "      <td>31397</td>\n",
       "      <td>2.0</td>\n",
       "      <td>2</td>\n",
       "      <td>5</td>\n",
       "      <td>5558</td>\n",
       "      <td>1</td>\n",
       "      <td>...</td>\n",
       "      <td>1</td>\n",
       "      <td>0</td>\n",
       "      <td>0</td>\n",
       "      <td>0</td>\n",
       "      <td>0</td>\n",
       "      <td>1</td>\n",
       "      <td>0</td>\n",
       "      <td>0</td>\n",
       "      <td>1</td>\n",
       "      <td>0</td>\n",
       "    </tr>\n",
       "  </tbody>\n",
       "</table>\n",
       "<p>5 rows × 33 columns</p>\n",
       "</div>"
      ],
      "text/plain": [
       "   hosp_code  city_code  rooms_available  bed_grade  patient_id  severity  \\\n",
       "0          8          3                3        2.0       31397       2.0   \n",
       "1          2          5                2        2.0       31397       2.0   \n",
       "2         10          1                2        2.0       31397       2.0   \n",
       "3         26          2                2        2.0       31397       2.0   \n",
       "4         26          2                2        2.0       31397       2.0   \n",
       "\n",
       "   num_visitors  age  deposit  hosp_type_b  ...  ward_type_S  ward_type_T  \\\n",
       "0             2    5     4911            0  ...            0            0   \n",
       "1             2    5     5954            0  ...            1            0   \n",
       "2             2    5     4745            0  ...            1            0   \n",
       "3             2    5     7272            1  ...            0            0   \n",
       "4             2    5     5558            1  ...            1            0   \n",
       "\n",
       "   ward_type_U  ward_code_B  ward_code_C  ward_code_D  ward_code_E  \\\n",
       "0            0            0            0            0            0   \n",
       "1            0            0            0            0            0   \n",
       "2            0            0            0            0            1   \n",
       "3            0            0            0            1            0   \n",
       "4            0            0            0            1            0   \n",
       "\n",
       "   ward_code_F  admission_type_Trauma  admission_type_Urgent  \n",
       "0            1                      0                      0  \n",
       "1            1                      1                      0  \n",
       "2            0                      1                      0  \n",
       "3            0                      1                      0  \n",
       "4            0                      1                      0  \n",
       "\n",
       "[5 rows x 33 columns]"
      ]
     },
     "execution_count": 44,
     "metadata": {},
     "output_type": "execute_result"
    }
   ],
   "source": [
    "X.head()"
   ]
  },
  {
   "cell_type": "code",
   "execution_count": null,
   "metadata": {},
   "outputs": [],
   "source": []
  },
  {
   "cell_type": "markdown",
   "metadata": {},
   "source": [
    "### Split train and test sets "
   ]
  },
  {
   "cell_type": "code",
   "execution_count": 45,
   "metadata": {},
   "outputs": [],
   "source": [
    "from sklearn.model_selection import train_test_split\n",
    "\n",
    "X_train, X_test, y_train,y_test = train_test_split(X,y,test_size = 0.2,random_state = 40)"
   ]
  },
  {
   "cell_type": "code",
   "execution_count": null,
   "metadata": {},
   "outputs": [],
   "source": []
  },
  {
   "cell_type": "markdown",
   "metadata": {},
   "source": [
    "## Modeling"
   ]
  },
  {
   "cell_type": "markdown",
   "metadata": {},
   "source": [
    "### 1. Random Forest"
   ]
  },
  {
   "cell_type": "code",
   "execution_count": 46,
   "metadata": {},
   "outputs": [],
   "source": [
    "from sklearn.ensemble import RandomForestClassifier"
   ]
  },
  {
   "cell_type": "markdown",
   "metadata": {},
   "source": [
    "#### Create a random forest model using all variables and wihout feature scaling "
   ]
  },
  {
   "cell_type": "code",
   "execution_count": 47,
   "metadata": {},
   "outputs": [
    {
     "data": {
      "text/plain": [
       "RandomForestClassifier(bootstrap=True, class_weight=None, criterion='gini',\n",
       "                       max_depth=50, max_features=10, max_leaf_nodes=None,\n",
       "                       min_impurity_decrease=0.0, min_impurity_split=None,\n",
       "                       min_samples_leaf=1, min_samples_split=10,\n",
       "                       min_weight_fraction_leaf=0.0, n_estimators=30,\n",
       "                       n_jobs=None, oob_score=False, random_state=50, verbose=0,\n",
       "                       warm_start=False)"
      ]
     },
     "execution_count": 47,
     "metadata": {},
     "output_type": "execute_result"
    }
   ],
   "source": [
    "# Instantiate the model \n",
    "rfAll = RandomForestClassifier(n_estimators=30, max_features= 10,\n",
    "                               max_depth=50, min_samples_split=10, random_state= 50)\n",
    "\n",
    "# Fit the model \n",
    "rfAll.fit(X_train, y_train)"
   ]
  },
  {
   "cell_type": "code",
   "execution_count": 48,
   "metadata": {},
   "outputs": [],
   "source": [
    "# Make predictions\n",
    "y_pred_rfAll = rfAll.predict(X_train)"
   ]
  },
  {
   "cell_type": "code",
   "execution_count": 49,
   "metadata": {},
   "outputs": [
    {
     "data": {
      "text/plain": [
       "0.77303"
      ]
     },
     "execution_count": 49,
     "metadata": {},
     "output_type": "execute_result"
    }
   ],
   "source": [
    "from sklearn.metrics import accuracy_score\n",
    "\n",
    "## Check the Accuracy score \n",
    "rfAll_accuracy = round(accuracy_score(y_train, y_pred_rfAll),5)\n",
    "rfAll_accuracy"
   ]
  },
  {
   "cell_type": "markdown",
   "metadata": {},
   "source": [
    "- This is not a bad score. "
   ]
  },
  {
   "cell_type": "markdown",
   "metadata": {},
   "source": [
    "#### Check the testing accuracy too"
   ]
  },
  {
   "cell_type": "code",
   "execution_count": 50,
   "metadata": {},
   "outputs": [
    {
     "data": {
      "text/plain": [
       "0.40036"
      ]
     },
     "execution_count": 50,
     "metadata": {},
     "output_type": "execute_result"
    }
   ],
   "source": [
    "# Make predictions\n",
    "y_pred_rfAll_test = rfAll.predict(X_test)\n",
    "\n",
    "## Check the Accuracy score \n",
    "rfAll_accuracy_test = round(accuracy_score(y_test, y_pred_rfAll_test),5)\n",
    "rfAll_accuracy_test"
   ]
  },
  {
   "cell_type": "code",
   "execution_count": null,
   "metadata": {},
   "outputs": [],
   "source": []
  },
  {
   "cell_type": "code",
   "execution_count": null,
   "metadata": {},
   "outputs": [],
   "source": []
  },
  {
   "cell_type": "markdown",
   "metadata": {},
   "source": [
    "***Check for feature importance.***"
   ]
  },
  {
   "cell_type": "code",
   "execution_count": 51,
   "metadata": {},
   "outputs": [
    {
     "data": {
      "text/plain": [
       "deposit                    0.203445\n",
       "patient_id                 0.187682\n",
       "num_visitors               0.151520\n",
       "age                        0.088378\n",
       "rooms_available            0.061082\n",
       "hosp_code                  0.047216\n",
       "bed_grade                  0.042641\n",
       "severity                   0.031771\n",
       "city_code                  0.021531\n",
       "ward_type_Q                0.018078\n",
       "department_gynecology      0.016548\n",
       "ward_type_S                0.013838\n",
       "admission_type_Trauma      0.013443\n",
       "department_radiotherapy    0.012122\n",
       "ward_type_R                0.011862\n",
       "admission_type_Urgent      0.011065\n",
       "department_anesthesia      0.009615\n",
       "ward_code_C                0.006895\n",
       "ward_code_F                0.006701\n",
       "hosp_region_Z              0.005596\n",
       "hosp_type_c                0.005528\n",
       "hosp_type_e                0.004892\n",
       "hosp_type_d                0.004692\n",
       "hosp_region_Y              0.004260\n",
       "ward_code_E                0.004074\n",
       "hosp_type_b                0.003725\n",
       "ward_code_D                0.003606\n",
       "ward_code_B                0.003063\n",
       "hosp_type_g                0.001793\n",
       "department_surgery         0.001485\n",
       "hosp_type_f                0.000968\n",
       "ward_type_T                0.000876\n",
       "ward_type_U                0.000008\n",
       "dtype: float64"
      ]
     },
     "execution_count": 51,
     "metadata": {},
     "output_type": "execute_result"
    }
   ],
   "source": [
    "pd.Series(data=rfAll.feature_importances_,\n",
    "index= X_train.columns).sort_values(ascending=False)"
   ]
  },
  {
   "cell_type": "code",
   "execution_count": 52,
   "metadata": {},
   "outputs": [
    {
     "data": {
      "image/png": "[encoded data removed]",
      "text/plain": [
       "<Figure size 1152x1008 with 1 Axes>"
      ]
     },
     "metadata": {
      "needs_background": "light"
     },
     "output_type": "display_data"
    }
   ],
   "source": [
    "## Plot feature importance. \n",
    "plt.figure(figsize=(16,14))\n",
    "\n",
    "pd.Series(data=rfAll.feature_importances_,\n",
    "          index=X_train.columns).sort_values(ascending=False).round(3).plot(kind='bar');"
   ]
  },
  {
   "cell_type": "code",
   "execution_count": null,
   "metadata": {},
   "outputs": [],
   "source": []
  },
  {
   "cell_type": "code",
   "execution_count": 53,
   "metadata": {},
   "outputs": [],
   "source": [
    "top10Features = ['deposit', 'patient_id', 'num_visitors', 'age', 'rooms_available', 'hosp_code', 'bed_grade', \n",
    "                 'severity', 'city_code', 'ward_type_Q']"
   ]
  },
  {
   "cell_type": "markdown",
   "metadata": {},
   "source": [
    "#### Re-create the random forest model using the top 10 features. "
   ]
  },
  {
   "cell_type": "code",
   "execution_count": 54,
   "metadata": {},
   "outputs": [
    {
     "data": {
      "text/plain": [
       "RandomForestClassifier(bootstrap=True, class_weight=None, criterion='gini',\n",
       "                       max_depth=50, max_features=8, max_leaf_nodes=None,\n",
       "                       min_impurity_decrease=0.0, min_impurity_split=None,\n",
       "                       min_samples_leaf=1, min_samples_split=10,\n",
       "                       min_weight_fraction_leaf=0.0, n_estimators=30,\n",
       "                       n_jobs=None, oob_score=False, random_state=30, verbose=0,\n",
       "                       warm_start=False)"
      ]
     },
     "execution_count": 54,
     "metadata": {},
     "output_type": "execute_result"
    }
   ],
   "source": [
    "rf_top10 = RandomForestClassifier(n_estimators=30, max_features=8, max_depth=50, min_samples_split=10,\n",
    "                                 random_state=30)\n",
    "\n",
    "rf_top10.fit(X_train[top10Features], y_train)"
   ]
  },
  {
   "cell_type": "code",
   "execution_count": 55,
   "metadata": {},
   "outputs": [
    {
     "data": {
      "text/plain": [
       "0.81129"
      ]
     },
     "execution_count": 55,
     "metadata": {},
     "output_type": "execute_result"
    }
   ],
   "source": [
    "# Make predictions with training data\n",
    "y_pred_rfTop10 = rf_top10.predict(X_train[top10Features])\n",
    "\n",
    "## Check the Accuracy score \n",
    "rftop10_accuracy_train = round(accuracy_score(y_train, y_pred_rfTop10),5)\n",
    "rftop10_accuracy_train"
   ]
  },
  {
   "cell_type": "code",
   "execution_count": null,
   "metadata": {},
   "outputs": [],
   "source": []
  },
  {
   "cell_type": "code",
   "execution_count": 56,
   "metadata": {},
   "outputs": [
    {
     "data": {
      "text/plain": [
       "0.38022"
      ]
     },
     "execution_count": 56,
     "metadata": {},
     "output_type": "execute_result"
    }
   ],
   "source": [
    "# Make predictions with testing data \n",
    "y_pred_rfTop10_test = rf_top10.predict(X_test[top10Features])\n",
    "\n",
    "## Check the Accuracy score \n",
    "rftop10_accuracy_test = round(accuracy_score(y_test, y_pred_rfTop10_test),5)\n",
    "rftop10_accuracy_test"
   ]
  },
  {
   "cell_type": "code",
   "execution_count": null,
   "metadata": {},
   "outputs": [],
   "source": []
  },
  {
   "cell_type": "markdown",
   "metadata": {},
   "source": [
    "- ***Creating a Randome Forrest model uisng the top 10 features increases the accuracy from 77% to 81%.***\n",
    "- ***However, the testing accuracy decreases from 40% to 38%.***"
   ]
  },
  {
   "cell_type": "code",
   "execution_count": 57,
   "metadata": {},
   "outputs": [
    {
     "data": {
      "text/plain": [
       "RandomForestClassifier(bootstrap=True, class_weight=None, criterion='gini',\n",
       "                       max_depth=50, max_features=3, max_leaf_nodes=None,\n",
       "                       min_impurity_decrease=0.0, min_impurity_split=None,\n",
       "                       min_samples_leaf=1, min_samples_split=10,\n",
       "                       min_weight_fraction_leaf=0.0, n_estimators=30,\n",
       "                       n_jobs=None, oob_score=False, random_state=30, verbose=0,\n",
       "                       warm_start=False)"
      ]
     },
     "execution_count": 57,
     "metadata": {},
     "output_type": "execute_result"
    }
   ],
   "source": [
    "top5Features = ['deposit', 'patient_id', 'num_visitors', 'age', 'rooms_available']\n",
    "\n",
    "rf_top5 = RandomForestClassifier(n_estimators=30, max_features=3, max_depth=50, min_samples_split=10,\n",
    "                                 random_state=30)\n",
    "\n",
    "rf_top5.fit(X_train[top5Features], y_train)"
   ]
  },
  {
   "cell_type": "code",
   "execution_count": 58,
   "metadata": {},
   "outputs": [
    {
     "data": {
      "text/plain": [
       "0.74345"
      ]
     },
     "execution_count": 58,
     "metadata": {},
     "output_type": "execute_result"
    }
   ],
   "source": [
    "# Make predictions with training data\n",
    "y_pred_rfTop5 = rf_top5.predict(X_train[top5Features])\n",
    "\n",
    "## Check the Accuracy score \n",
    "rftop5_accuracy_train = round(accuracy_score(y_train, y_pred_rfTop5),5)\n",
    "rftop5_accuracy_train"
   ]
  },
  {
   "cell_type": "code",
   "execution_count": 59,
   "metadata": {},
   "outputs": [
    {
     "data": {
      "text/plain": [
       "0.323"
      ]
     },
     "execution_count": 59,
     "metadata": {},
     "output_type": "execute_result"
    }
   ],
   "source": [
    "# Make predictions with testing data \n",
    "y_pred_rfTop5_test = rf_top5.predict(X_test[top5Features])\n",
    "\n",
    "## Check the Accuracy score \n",
    "rftop5_accuracy_test = round(accuracy_score(y_test, y_pred_rfTop5_test),5)\n",
    "rftop5_accuracy_test"
   ]
  },
  {
   "cell_type": "markdown",
   "metadata": {},
   "source": [
    "***When we create a Random Forest model with the top 5 features both training and testing accuracy decreses.***"
   ]
  },
  {
   "cell_type": "code",
   "execution_count": null,
   "metadata": {},
   "outputs": [],
   "source": []
  },
  {
   "cell_type": "markdown",
   "metadata": {},
   "source": [
    "### 2. Neural Network Model\n",
    "\n",
    "- For the Neural Network model we will be using all the data and the top 10 features determined by Random Forest Classifier. "
   ]
  },
  {
   "cell_type": "code",
   "execution_count": 60,
   "metadata": {},
   "outputs": [
    {
     "name": "stderr",
     "output_type": "stream",
     "text": [
      "Using TensorFlow backend.\n"
     ]
    }
   ],
   "source": [
    "### Import all libraries required\n",
    "from tensorflow.keras.models import Sequential\n",
    "from tensorflow.keras.layers import Dense, BatchNormalization\n",
    "from keras.utils import to_categorical\n",
    "import  tensorflow.keras as keras"
   ]
  },
  {
   "cell_type": "code",
   "execution_count": 61,
   "metadata": {},
   "outputs": [],
   "source": [
    "### Make copies of the X and y variables \n",
    "\n",
    "X2 = X.copy()\n",
    "y2 = y.copy()"
   ]
  },
  {
   "cell_type": "code",
   "execution_count": 62,
   "metadata": {},
   "outputs": [
    {
     "data": {
      "text/html": [
       "<div>\n",
       "<style scoped>\n",
       "    .dataframe tbody tr th:only-of-type {\n",
       "        vertical-align: middle;\n",
       "    }\n",
       "\n",
       "    .dataframe tbody tr th {\n",
       "        vertical-align: top;\n",
       "    }\n",
       "\n",
       "    .dataframe thead th {\n",
       "        text-align: right;\n",
       "    }\n",
       "</style>\n",
       "<table border=\"1\" class=\"dataframe\">\n",
       "  <thead>\n",
       "    <tr style=\"text-align: right;\">\n",
       "      <th></th>\n",
       "      <th>hosp_code</th>\n",
       "      <th>city_code</th>\n",
       "      <th>rooms_available</th>\n",
       "      <th>bed_grade</th>\n",
       "      <th>patient_id</th>\n",
       "      <th>severity</th>\n",
       "      <th>num_visitors</th>\n",
       "      <th>age</th>\n",
       "      <th>deposit</th>\n",
       "      <th>hosp_type_b</th>\n",
       "      <th>...</th>\n",
       "      <th>ward_type_S</th>\n",
       "      <th>ward_type_T</th>\n",
       "      <th>ward_type_U</th>\n",
       "      <th>ward_code_B</th>\n",
       "      <th>ward_code_C</th>\n",
       "      <th>ward_code_D</th>\n",
       "      <th>ward_code_E</th>\n",
       "      <th>ward_code_F</th>\n",
       "      <th>admission_type_Trauma</th>\n",
       "      <th>admission_type_Urgent</th>\n",
       "    </tr>\n",
       "  </thead>\n",
       "  <tbody>\n",
       "    <tr>\n",
       "      <td>0</td>\n",
       "      <td>8</td>\n",
       "      <td>3</td>\n",
       "      <td>3</td>\n",
       "      <td>2.0</td>\n",
       "      <td>31397</td>\n",
       "      <td>2.0</td>\n",
       "      <td>2</td>\n",
       "      <td>5</td>\n",
       "      <td>4911</td>\n",
       "      <td>0</td>\n",
       "      <td>...</td>\n",
       "      <td>0</td>\n",
       "      <td>0</td>\n",
       "      <td>0</td>\n",
       "      <td>0</td>\n",
       "      <td>0</td>\n",
       "      <td>0</td>\n",
       "      <td>0</td>\n",
       "      <td>1</td>\n",
       "      <td>0</td>\n",
       "      <td>0</td>\n",
       "    </tr>\n",
       "    <tr>\n",
       "      <td>1</td>\n",
       "      <td>2</td>\n",
       "      <td>5</td>\n",
       "      <td>2</td>\n",
       "      <td>2.0</td>\n",
       "      <td>31397</td>\n",
       "      <td>2.0</td>\n",
       "      <td>2</td>\n",
       "      <td>5</td>\n",
       "      <td>5954</td>\n",
       "      <td>0</td>\n",
       "      <td>...</td>\n",
       "      <td>1</td>\n",
       "      <td>0</td>\n",
       "      <td>0</td>\n",
       "      <td>0</td>\n",
       "      <td>0</td>\n",
       "      <td>0</td>\n",
       "      <td>0</td>\n",
       "      <td>1</td>\n",
       "      <td>1</td>\n",
       "      <td>0</td>\n",
       "    </tr>\n",
       "    <tr>\n",
       "      <td>2</td>\n",
       "      <td>10</td>\n",
       "      <td>1</td>\n",
       "      <td>2</td>\n",
       "      <td>2.0</td>\n",
       "      <td>31397</td>\n",
       "      <td>2.0</td>\n",
       "      <td>2</td>\n",
       "      <td>5</td>\n",
       "      <td>4745</td>\n",
       "      <td>0</td>\n",
       "      <td>...</td>\n",
       "      <td>1</td>\n",
       "      <td>0</td>\n",
       "      <td>0</td>\n",
       "      <td>0</td>\n",
       "      <td>0</td>\n",
       "      <td>0</td>\n",
       "      <td>1</td>\n",
       "      <td>0</td>\n",
       "      <td>1</td>\n",
       "      <td>0</td>\n",
       "    </tr>\n",
       "    <tr>\n",
       "      <td>3</td>\n",
       "      <td>26</td>\n",
       "      <td>2</td>\n",
       "      <td>2</td>\n",
       "      <td>2.0</td>\n",
       "      <td>31397</td>\n",
       "      <td>2.0</td>\n",
       "      <td>2</td>\n",
       "      <td>5</td>\n",
       "      <td>7272</td>\n",
       "      <td>1</td>\n",
       "      <td>...</td>\n",
       "      <td>0</td>\n",
       "      <td>0</td>\n",
       "      <td>0</td>\n",
       "      <td>0</td>\n",
       "      <td>0</td>\n",
       "      <td>1</td>\n",
       "      <td>0</td>\n",
       "      <td>0</td>\n",
       "      <td>1</td>\n",
       "      <td>0</td>\n",
       "    </tr>\n",
       "    <tr>\n",
       "      <td>4</td>\n",
       "      <td>26</td>\n",
       "      <td>2</td>\n",
       "      <td>2</td>\n",
       "      <td>2.0</td>\n",
       "      <td>31397</td>\n",
       "      <td>2.0</td>\n",
       "      <td>2</td>\n",
       "      <td>5</td>\n",
       "      <td>5558</td>\n",
       "      <td>1</td>\n",
       "      <td>...</td>\n",
       "      <td>1</td>\n",
       "      <td>0</td>\n",
       "      <td>0</td>\n",
       "      <td>0</td>\n",
       "      <td>0</td>\n",
       "      <td>1</td>\n",
       "      <td>0</td>\n",
       "      <td>0</td>\n",
       "      <td>1</td>\n",
       "      <td>0</td>\n",
       "    </tr>\n",
       "  </tbody>\n",
       "</table>\n",
       "<p>5 rows × 33 columns</p>\n",
       "</div>"
      ],
      "text/plain": [
       "   hosp_code  city_code  rooms_available  bed_grade  patient_id  severity  \\\n",
       "0          8          3                3        2.0       31397       2.0   \n",
       "1          2          5                2        2.0       31397       2.0   \n",
       "2         10          1                2        2.0       31397       2.0   \n",
       "3         26          2                2        2.0       31397       2.0   \n",
       "4         26          2                2        2.0       31397       2.0   \n",
       "\n",
       "   num_visitors  age  deposit  hosp_type_b  ...  ward_type_S  ward_type_T  \\\n",
       "0             2    5     4911            0  ...            0            0   \n",
       "1             2    5     5954            0  ...            1            0   \n",
       "2             2    5     4745            0  ...            1            0   \n",
       "3             2    5     7272            1  ...            0            0   \n",
       "4             2    5     5558            1  ...            1            0   \n",
       "\n",
       "   ward_type_U  ward_code_B  ward_code_C  ward_code_D  ward_code_E  \\\n",
       "0            0            0            0            0            0   \n",
       "1            0            0            0            0            0   \n",
       "2            0            0            0            0            1   \n",
       "3            0            0            0            1            0   \n",
       "4            0            0            0            1            0   \n",
       "\n",
       "   ward_code_F  admission_type_Trauma  admission_type_Urgent  \n",
       "0            1                      0                      0  \n",
       "1            1                      1                      0  \n",
       "2            0                      1                      0  \n",
       "3            0                      1                      0  \n",
       "4            0                      1                      0  \n",
       "\n",
       "[5 rows x 33 columns]"
      ]
     },
     "execution_count": 62,
     "metadata": {},
     "output_type": "execute_result"
    }
   ],
   "source": [
    "X2.head()"
   ]
  },
  {
   "cell_type": "code",
   "execution_count": 63,
   "metadata": {},
   "outputs": [],
   "source": [
    "#### Standardize (scale) all the data using a Robust Scaler \n",
    "from sklearn.preprocessing import RobustScaler\n",
    "\n",
    "scaler = RobustScaler()\n",
    "X2.loc[:,:] = scaler.fit_transform(X2)"
   ]
  },
  {
   "cell_type": "code",
   "execution_count": 64,
   "metadata": {},
   "outputs": [
    {
     "data": {
      "text/html": [
       "<div>\n",
       "<style scoped>\n",
       "    .dataframe tbody tr th:only-of-type {\n",
       "        vertical-align: middle;\n",
       "    }\n",
       "\n",
       "    .dataframe tbody tr th {\n",
       "        vertical-align: top;\n",
       "    }\n",
       "\n",
       "    .dataframe thead th {\n",
       "        text-align: right;\n",
       "    }\n",
       "</style>\n",
       "<table border=\"1\" class=\"dataframe\">\n",
       "  <thead>\n",
       "    <tr style=\"text-align: right;\">\n",
       "      <th></th>\n",
       "      <th>hosp_code</th>\n",
       "      <th>city_code</th>\n",
       "      <th>rooms_available</th>\n",
       "      <th>bed_grade</th>\n",
       "      <th>patient_id</th>\n",
       "      <th>severity</th>\n",
       "      <th>num_visitors</th>\n",
       "      <th>age</th>\n",
       "      <th>deposit</th>\n",
       "      <th>hosp_type_b</th>\n",
       "      <th>...</th>\n",
       "      <th>ward_type_S</th>\n",
       "      <th>ward_type_T</th>\n",
       "      <th>ward_type_U</th>\n",
       "      <th>ward_code_B</th>\n",
       "      <th>ward_code_C</th>\n",
       "      <th>ward_code_D</th>\n",
       "      <th>ward_code_E</th>\n",
       "      <th>ward_code_F</th>\n",
       "      <th>admission_type_Trauma</th>\n",
       "      <th>admission_type_Urgent</th>\n",
       "    </tr>\n",
       "  </thead>\n",
       "  <tbody>\n",
       "    <tr>\n",
       "      <td>0</td>\n",
       "      <td>-0.733333</td>\n",
       "      <td>-0.4</td>\n",
       "      <td>0.0</td>\n",
       "      <td>-1.0</td>\n",
       "      <td>-0.523109</td>\n",
       "      <td>1.0</td>\n",
       "      <td>-0.5</td>\n",
       "      <td>0.5</td>\n",
       "      <td>0.139002</td>\n",
       "      <td>0.0</td>\n",
       "      <td>...</td>\n",
       "      <td>0.0</td>\n",
       "      <td>0.0</td>\n",
       "      <td>0.0</td>\n",
       "      <td>0.0</td>\n",
       "      <td>0.0</td>\n",
       "      <td>0.0</td>\n",
       "      <td>0.0</td>\n",
       "      <td>1.0</td>\n",
       "      <td>0.0</td>\n",
       "      <td>0.0</td>\n",
       "    </tr>\n",
       "    <tr>\n",
       "      <td>1</td>\n",
       "      <td>-1.133333</td>\n",
       "      <td>0.0</td>\n",
       "      <td>-0.5</td>\n",
       "      <td>-1.0</td>\n",
       "      <td>-0.523109</td>\n",
       "      <td>1.0</td>\n",
       "      <td>-0.5</td>\n",
       "      <td>0.5</td>\n",
       "      <td>0.991823</td>\n",
       "      <td>0.0</td>\n",
       "      <td>...</td>\n",
       "      <td>1.0</td>\n",
       "      <td>0.0</td>\n",
       "      <td>0.0</td>\n",
       "      <td>0.0</td>\n",
       "      <td>0.0</td>\n",
       "      <td>0.0</td>\n",
       "      <td>0.0</td>\n",
       "      <td>1.0</td>\n",
       "      <td>1.0</td>\n",
       "      <td>0.0</td>\n",
       "    </tr>\n",
       "    <tr>\n",
       "      <td>2</td>\n",
       "      <td>-0.600000</td>\n",
       "      <td>-0.8</td>\n",
       "      <td>-0.5</td>\n",
       "      <td>-1.0</td>\n",
       "      <td>-0.523109</td>\n",
       "      <td>1.0</td>\n",
       "      <td>-0.5</td>\n",
       "      <td>0.5</td>\n",
       "      <td>0.003271</td>\n",
       "      <td>0.0</td>\n",
       "      <td>...</td>\n",
       "      <td>1.0</td>\n",
       "      <td>0.0</td>\n",
       "      <td>0.0</td>\n",
       "      <td>0.0</td>\n",
       "      <td>0.0</td>\n",
       "      <td>0.0</td>\n",
       "      <td>1.0</td>\n",
       "      <td>0.0</td>\n",
       "      <td>1.0</td>\n",
       "      <td>0.0</td>\n",
       "    </tr>\n",
       "    <tr>\n",
       "      <td>3</td>\n",
       "      <td>0.466667</td>\n",
       "      <td>-0.6</td>\n",
       "      <td>-0.5</td>\n",
       "      <td>-1.0</td>\n",
       "      <td>-0.523109</td>\n",
       "      <td>1.0</td>\n",
       "      <td>-0.5</td>\n",
       "      <td>0.5</td>\n",
       "      <td>2.069501</td>\n",
       "      <td>1.0</td>\n",
       "      <td>...</td>\n",
       "      <td>0.0</td>\n",
       "      <td>0.0</td>\n",
       "      <td>0.0</td>\n",
       "      <td>0.0</td>\n",
       "      <td>0.0</td>\n",
       "      <td>1.0</td>\n",
       "      <td>0.0</td>\n",
       "      <td>0.0</td>\n",
       "      <td>1.0</td>\n",
       "      <td>0.0</td>\n",
       "    </tr>\n",
       "    <tr>\n",
       "      <td>4</td>\n",
       "      <td>0.466667</td>\n",
       "      <td>-0.6</td>\n",
       "      <td>-0.5</td>\n",
       "      <td>-1.0</td>\n",
       "      <td>-0.523109</td>\n",
       "      <td>1.0</td>\n",
       "      <td>-0.5</td>\n",
       "      <td>0.5</td>\n",
       "      <td>0.668029</td>\n",
       "      <td>1.0</td>\n",
       "      <td>...</td>\n",
       "      <td>1.0</td>\n",
       "      <td>0.0</td>\n",
       "      <td>0.0</td>\n",
       "      <td>0.0</td>\n",
       "      <td>0.0</td>\n",
       "      <td>1.0</td>\n",
       "      <td>0.0</td>\n",
       "      <td>0.0</td>\n",
       "      <td>1.0</td>\n",
       "      <td>0.0</td>\n",
       "    </tr>\n",
       "  </tbody>\n",
       "</table>\n",
       "<p>5 rows × 33 columns</p>\n",
       "</div>"
      ],
      "text/plain": [
       "   hosp_code  city_code  rooms_available  bed_grade  patient_id  severity  \\\n",
       "0  -0.733333       -0.4              0.0       -1.0   -0.523109       1.0   \n",
       "1  -1.133333        0.0             -0.5       -1.0   -0.523109       1.0   \n",
       "2  -0.600000       -0.8             -0.5       -1.0   -0.523109       1.0   \n",
       "3   0.466667       -0.6             -0.5       -1.0   -0.523109       1.0   \n",
       "4   0.466667       -0.6             -0.5       -1.0   -0.523109       1.0   \n",
       "\n",
       "   num_visitors  age   deposit  hosp_type_b  ...  ward_type_S  ward_type_T  \\\n",
       "0          -0.5  0.5  0.139002          0.0  ...          0.0          0.0   \n",
       "1          -0.5  0.5  0.991823          0.0  ...          1.0          0.0   \n",
       "2          -0.5  0.5  0.003271          0.0  ...          1.0          0.0   \n",
       "3          -0.5  0.5  2.069501          1.0  ...          0.0          0.0   \n",
       "4          -0.5  0.5  0.668029          1.0  ...          1.0          0.0   \n",
       "\n",
       "   ward_type_U  ward_code_B  ward_code_C  ward_code_D  ward_code_E  \\\n",
       "0          0.0          0.0          0.0          0.0          0.0   \n",
       "1          0.0          0.0          0.0          0.0          0.0   \n",
       "2          0.0          0.0          0.0          0.0          1.0   \n",
       "3          0.0          0.0          0.0          1.0          0.0   \n",
       "4          0.0          0.0          0.0          1.0          0.0   \n",
       "\n",
       "   ward_code_F  admission_type_Trauma  admission_type_Urgent  \n",
       "0          1.0                    0.0                    0.0  \n",
       "1          1.0                    1.0                    0.0  \n",
       "2          0.0                    1.0                    0.0  \n",
       "3          0.0                    1.0                    0.0  \n",
       "4          0.0                    1.0                    0.0  \n",
       "\n",
       "[5 rows x 33 columns]"
      ]
     },
     "execution_count": 64,
     "metadata": {},
     "output_type": "execute_result"
    }
   ],
   "source": [
    "X2.head()"
   ]
  },
  {
   "cell_type": "code",
   "execution_count": 65,
   "metadata": {},
   "outputs": [
    {
     "name": "stdout",
     "output_type": "stream",
     "text": [
      "y2 shape:  (318325, 11)\n"
     ]
    }
   ],
   "source": [
    "## Transform the target (y) variable to categorical (Adding number of classes)\n",
    "y2 = to_categorical(y2)\n",
    "\n",
    "print('y2 shape: ', y2.shape)"
   ]
  },
  {
   "cell_type": "code",
   "execution_count": null,
   "metadata": {},
   "outputs": [],
   "source": []
  },
  {
   "cell_type": "code",
   "execution_count": 66,
   "metadata": {},
   "outputs": [],
   "source": [
    "### Split the data into train and test sets \n",
    "X_train2, X_test2, y_train2,y_test2 = train_test_split(X2,y2,test_size = 0.2,random_state = 50)"
   ]
  },
  {
   "cell_type": "code",
   "execution_count": 67,
   "metadata": {},
   "outputs": [
    {
     "name": "stdout",
     "output_type": "stream",
     "text": [
      "(254660, 33)\n",
      "(254660, 11)\n",
      "(63665, 33)\n",
      "(63665, 11)\n"
     ]
    }
   ],
   "source": [
    "print(X_train2.shape)\n",
    "print(y_train2.shape)\n",
    "print(X_test2.shape)\n",
    "print(y_test2.shape)"
   ]
  },
  {
   "cell_type": "code",
   "execution_count": null,
   "metadata": {},
   "outputs": [],
   "source": []
  },
  {
   "cell_type": "code",
   "execution_count": 68,
   "metadata": {},
   "outputs": [],
   "source": [
    "## Create the Neural Netwrok \n",
    "## Create a new neural network \n",
    "# Define input shape\n",
    "input_shape = X_train2.shape[1]\n",
    "\n",
    "# Instantiate the Sequential model \n",
    "nn1 = Sequential()\n",
    "\n",
    "# Add Layers \n",
    "nn1.add(Dense(64, activation='relu',kernel_initializer='he_uniform' ,input_shape=(input_shape,)))\n",
    "nn1.add(Dense(32, activation='relu'))\n",
    "nn1.add(Dense(16, activation='relu'))\n",
    "nn1.add(Dense(8, activation='relu'))\n",
    "\n",
    "# Add output layer \n",
    "nn1.add(Dense(11, activation='relu'))"
   ]
  },
  {
   "cell_type": "code",
   "execution_count": 69,
   "metadata": {},
   "outputs": [
    {
     "name": "stdout",
     "output_type": "stream",
     "text": [
      "Model: \"sequential\"\n",
      "_________________________________________________________________\n",
      "Layer (type)                 Output Shape              Param #   \n",
      "=================================================================\n",
      "dense (Dense)                (None, 64)                2176      \n",
      "_________________________________________________________________\n",
      "dense_1 (Dense)              (None, 32)                2080      \n",
      "_________________________________________________________________\n",
      "dense_2 (Dense)              (None, 16)                528       \n",
      "_________________________________________________________________\n",
      "dense_3 (Dense)              (None, 8)                 136       \n",
      "_________________________________________________________________\n",
      "dense_4 (Dense)              (None, 11)                99        \n",
      "=================================================================\n",
      "Total params: 5,019\n",
      "Trainable params: 5,019\n",
      "Non-trainable params: 0\n",
      "_________________________________________________________________\n"
     ]
    }
   ],
   "source": [
    "# Define a custom optimizer \n",
    "opt = keras.optimizers.Adam(lr=0.0001)\n",
    "nn1.compile(loss='categorical_crossentropy', metrics=['accuracy'], optimizer=opt)\n",
    "nn1.summary()"
   ]
  },
  {
   "cell_type": "code",
   "execution_count": 70,
   "metadata": {},
   "outputs": [
    {
     "name": "stdout",
     "output_type": "stream",
     "text": [
      "Epoch 1/20\n",
      "13582/13582 [==============================] - 28s 2ms/step - loss: 2.4121 - accuracy: 0.2475 - val_loss: 1.8446 - val_accuracy: 0.2794\n",
      "Epoch 2/20\n",
      "13582/13582 [==============================] - 28s 2ms/step - loss: 1.7807 - accuracy: 0.3231 - val_loss: 1.7462 - val_accuracy: 0.3366\n",
      "Epoch 3/20\n",
      "13582/13582 [==============================] - 27s 2ms/step - loss: 1.7330 - accuracy: 0.3437 - val_loss: 1.7157 - val_accuracy: 0.3437\n",
      "Epoch 4/20\n",
      "13582/13582 [==============================] - 35s 3ms/step - loss: 1.7155 - accuracy: 0.3481 - val_loss: 1.7045 - val_accuracy: 0.3500\n",
      "Epoch 5/20\n",
      "13582/13582 [==============================] - 26s 2ms/step - loss: 1.6959 - accuracy: 0.3542 - val_loss: 1.6885 - val_accuracy: 0.3522\n",
      "Epoch 6/20\n",
      "13582/13582 [==============================] - 27s 2ms/step - loss: 1.6827 - accuracy: 0.3576 - val_loss: 1.6797 - val_accuracy: 0.3550\n",
      "Epoch 7/20\n",
      "13582/13582 [==============================] - 31s 2ms/step - loss: 1.6734 - accuracy: 0.3585 - val_loss: 1.6798 - val_accuracy: 0.3564\n",
      "Epoch 8/20\n",
      "13582/13582 [==============================] - 28s 2ms/step - loss: 1.6670 - accuracy: 0.3633 - val_loss: 1.6660 - val_accuracy: 0.3573\n",
      "Epoch 9/20\n",
      "13582/13582 [==============================] - 28s 2ms/step - loss: 1.6625 - accuracy: 0.3658 - val_loss: 1.6669 - val_accuracy: 0.3691\n",
      "Epoch 10/20\n",
      "13582/13582 [==============================] - 27s 2ms/step - loss: 1.6575 - accuracy: 0.3715 - val_loss: 1.6647 - val_accuracy: 0.3723\n",
      "Epoch 11/20\n",
      "13582/13582 [==============================] - 39s 3ms/step - loss: 1.6478 - accuracy: 0.3753 - val_loss: 1.6508 - val_accuracy: 0.3753\n",
      "Epoch 12/20\n",
      "13582/13582 [==============================] - 31s 2ms/step - loss: 1.6383 - accuracy: 0.3775 - val_loss: 1.6431 - val_accuracy: 0.3783\n",
      "Epoch 13/20\n",
      "13582/13582 [==============================] - 28s 2ms/step - loss: 1.6335 - accuracy: 0.3814 - val_loss: 1.6441 - val_accuracy: 0.3809\n",
      "Epoch 14/20\n",
      "13582/13582 [==============================] - 30s 2ms/step - loss: 1.6284 - accuracy: 0.3817 - val_loss: 1.6475 - val_accuracy: 0.3823\n",
      "Epoch 15/20\n",
      "13582/13582 [==============================] - 32s 2ms/step - loss: 1.6220 - accuracy: 0.3837 - val_loss: 1.6286 - val_accuracy: 0.3826\n",
      "Epoch 16/20\n",
      "13582/13582 [==============================] - 34s 2ms/step - loss: 1.6213 - accuracy: 0.3847 - val_loss: 1.6190 - val_accuracy: 0.3830\n",
      "Epoch 17/20\n",
      "13582/13582 [==============================] - 35s 3ms/step - loss: 1.6159 - accuracy: 0.3854 - val_loss: 1.6234 - val_accuracy: 0.3844\n",
      "Epoch 18/20\n",
      "13582/13582 [==============================] - 37s 3ms/step - loss: 1.6141 - accuracy: 0.3861 - val_loss: 1.6261 - val_accuracy: 0.3858\n",
      "Epoch 19/20\n",
      "13582/13582 [==============================] - 33s 2ms/step - loss: 1.6118 - accuracy: 0.3878 - val_loss: 1.6150 - val_accuracy: 0.3869\n",
      "Epoch 20/20\n",
      "13582/13582 [==============================] - 38s 3ms/step - loss: 1.6064 - accuracy: 0.3883 - val_loss: 1.6088 - val_accuracy: 0.3868\n"
     ]
    }
   ],
   "source": [
    "## Fit the model \n",
    "batch_size = 15\n",
    "n_epochs = 20\n",
    "\n",
    "hist = nn1.fit(X_train2, y_train2, epochs=n_epochs, batch_size=batch_size, validation_split=0.2)"
   ]
  },
  {
   "cell_type": "code",
   "execution_count": 71,
   "metadata": {},
   "outputs": [
    {
     "data": {
      "image/png": "[encoded data removed]",
      "text/plain": [
       "<Figure size 720x504 with 1 Axes>"
      ]
     },
     "metadata": {
      "needs_background": "light"
     },
     "output_type": "display_data"
    }
   ],
   "source": [
    "fig, ax = plt.subplots(figsize=(10,7))\n",
    "ax.plot(np.log(hist.history['loss']), label='Training Loss')\n",
    "ax.plot(np.log(hist.history['val_loss']), label='Validation Loss')\n",
    "ax.set_title(\"log(Loss) vs. epochs\", fontsize=15)\n",
    "ax.set_xlabel(\"epoch number\", fontsize=14)\n",
    "ax.legend(fontsize=12)\n",
    "ax.grid();"
   ]
  },
  {
   "cell_type": "code",
   "execution_count": 72,
   "metadata": {},
   "outputs": [
    {
     "data": {
      "image/png": "[encoded data removed]",
      "text/plain": [
       "<Figure size 720x504 with 1 Axes>"
      ]
     },
     "metadata": {
      "needs_background": "light"
     },
     "output_type": "display_data"
    }
   ],
   "source": [
    "fig, ax = plt.subplots(figsize=(10,7))\n",
    "ax.plot(hist.history['accuracy'], label='Training Accuracy')\n",
    "ax.plot(hist.history['val_accuracy'], label='Validation Accuracy')\n",
    "ax.set_title(\"Accuracy vs. epochs\", fontsize=15)\n",
    "ax.set_xlabel(\"epoch number\", fontsize=14)\n",
    "ax.legend(fontsize=12)\n",
    "ax.grid();"
   ]
  },
  {
   "cell_type": "code",
   "execution_count": null,
   "metadata": {},
   "outputs": [],
   "source": []
  },
  {
   "cell_type": "code",
   "execution_count": 76,
   "metadata": {},
   "outputs": [],
   "source": [
    "### Create a new nueral network with different parameters\n",
    "\n",
    "# Define input shape\n",
    "input_shape = X_train2.shape[1]\n",
    "\n",
    "# Instantiate the Sequential model \n",
    "nn2 = Sequential()\n",
    "\n",
    "# Add Layers \n",
    "nn2.add(Dense(64, activation='relu',kernel_initializer='he_uniform',input_shape=(input_shape,)))\n",
    "nn2.add(Dense(32, activation='relu'))\n",
    "nn2.add(Dense(16, activation='relu'))\n",
    "nn2.add(Dense(8, activation='relu'))\n",
    "\n",
    "# Add output layer \n",
    "nn2.add(Dense(11, activation='relu'))"
   ]
  },
  {
   "cell_type": "code",
   "execution_count": 77,
   "metadata": {},
   "outputs": [
    {
     "name": "stdout",
     "output_type": "stream",
     "text": [
      "Model: \"sequential_3\"\n",
      "_________________________________________________________________\n",
      "Layer (type)                 Output Shape              Param #   \n",
      "=================================================================\n",
      "dense_7 (Dense)              (None, 64)                2176      \n",
      "_________________________________________________________________\n",
      "dense_8 (Dense)              (None, 32)                2080      \n",
      "_________________________________________________________________\n",
      "dense_9 (Dense)              (None, 16)                528       \n",
      "_________________________________________________________________\n",
      "dense_10 (Dense)             (None, 8)                 136       \n",
      "_________________________________________________________________\n",
      "dense_11 (Dense)             (None, 11)                99        \n",
      "=================================================================\n",
      "Total params: 5,019\n",
      "Trainable params: 5,019\n",
      "Non-trainable params: 0\n",
      "_________________________________________________________________\n"
     ]
    }
   ],
   "source": [
    "# Define a custom optimizer \n",
    "opt = keras.optimizers.Adam(lr=0.001)\n",
    "nn2.compile(loss='categorical_crossentropy', metrics=['accuracy'], optimizer=opt)\n",
    "nn2.summary()"
   ]
  },
  {
   "cell_type": "code",
   "execution_count": 78,
   "metadata": {},
   "outputs": [
    {
     "name": "stdout",
     "output_type": "stream",
     "text": [
      "Epoch 1/25\n",
      "9550/9550 [==============================] - 19s 2ms/step - loss: 2.2383 - accuracy: 0.3426 - val_loss: 2.1341 - val_accuracy: 0.3581\n",
      "Epoch 2/25\n",
      "9550/9550 [==============================] - 62s 6ms/step - loss: 2.1219 - accuracy: 0.3694 - val_loss: 2.1100 - val_accuracy: 0.3813\n",
      "Epoch 3/25\n",
      "9550/9550 [==============================] - 26s 3ms/step - loss: 2.0924 - accuracy: 0.3837 - val_loss: 2.1000 - val_accuracy: 0.3824\n",
      "Epoch 4/25\n",
      "9550/9550 [==============================] - 29s 3ms/step - loss: 2.0696 - accuracy: 0.3885 - val_loss: 2.0739 - val_accuracy: 0.3862\n",
      "Epoch 5/25\n",
      "9550/9550 [==============================] - 25s 3ms/step - loss: 2.0512 - accuracy: 0.3933 - val_loss: 2.0513 - val_accuracy: 0.3996\n",
      "Epoch 6/25\n",
      "9550/9550 [==============================] - 32s 3ms/step - loss: 2.0386 - accuracy: 0.4016 - val_loss: 2.0461 - val_accuracy: 0.3992\n",
      "Epoch 7/25\n",
      "9550/9550 [==============================] - 24s 2ms/step - loss: 2.0281 - accuracy: 0.4030 - val_loss: 2.0358 - val_accuracy: 0.4026\n",
      "Epoch 8/25\n",
      "9550/9550 [==============================] - 21s 2ms/step - loss: 2.0211 - accuracy: 0.4034 - val_loss: 2.0165 - val_accuracy: 0.4029\n",
      "Epoch 9/25\n",
      "9550/9550 [==============================] - 23s 2ms/step - loss: 2.0163 - accuracy: 0.4019 - val_loss: 2.0149 - val_accuracy: 0.4036\n",
      "Epoch 10/25\n",
      "9550/9550 [==============================] - 23s 2ms/step - loss: 2.0073 - accuracy: 0.4038 - val_loss: 2.0189 - val_accuracy: 0.4046\n",
      "Epoch 11/25\n",
      "9550/9550 [==============================] - 20s 2ms/step - loss: 2.0055 - accuracy: 0.4046 - val_loss: 2.0127 - val_accuracy: 0.4051\n",
      "Epoch 12/25\n",
      "9550/9550 [==============================] - 22s 2ms/step - loss: 2.0000 - accuracy: 0.4056 - val_loss: 2.0175 - val_accuracy: 0.4044\n",
      "Epoch 13/25\n",
      "9550/9550 [==============================] - 29s 3ms/step - loss: 1.9975 - accuracy: 0.4060 - val_loss: 2.0120 - val_accuracy: 0.4035\n",
      "Epoch 14/25\n",
      "9550/9550 [==============================] - 29s 3ms/step - loss: 1.9954 - accuracy: 0.4076 - val_loss: 2.0108 - val_accuracy: 0.4076\n",
      "Epoch 15/25\n",
      "9550/9550 [==============================] - 24s 2ms/step - loss: 1.9935 - accuracy: 0.4081 - val_loss: 2.0066 - val_accuracy: 0.4058\n",
      "Epoch 16/25\n",
      "9550/9550 [==============================] - 20s 2ms/step - loss: 1.9933 - accuracy: 0.4088 - val_loss: 2.0010 - val_accuracy: 0.4079\n",
      "Epoch 17/25\n",
      "9550/9550 [==============================] - 21s 2ms/step - loss: 1.9973 - accuracy: 0.4092 - val_loss: 2.0174 - val_accuracy: 0.4032\n",
      "Epoch 18/25\n",
      "9550/9550 [==============================] - 22s 2ms/step - loss: 1.9938 - accuracy: 0.4096 - val_loss: 2.0079 - val_accuracy: 0.4058\n",
      "Epoch 19/25\n",
      "9550/9550 [==============================] - 22s 2ms/step - loss: 1.9972 - accuracy: 0.4095 - val_loss: 2.0100 - val_accuracy: 0.4074\n",
      "Epoch 20/25\n",
      "9550/9550 [==============================] - 22s 2ms/step - loss: 1.9920 - accuracy: 0.4097 - val_loss: 1.9991 - val_accuracy: 0.4071\n",
      "Epoch 21/25\n",
      "9550/9550 [==============================] - 21s 2ms/step - loss: 1.9872 - accuracy: 0.4100 - val_loss: 1.9995 - val_accuracy: 0.4061\n",
      "Epoch 22/25\n",
      "9550/9550 [==============================] - 22s 2ms/step - loss: 1.9906 - accuracy: 0.4097 - val_loss: 2.0086 - val_accuracy: 0.4058\n",
      "Epoch 23/25\n",
      "9550/9550 [==============================] - 20s 2ms/step - loss: 1.9854 - accuracy: 0.4110 - val_loss: 1.9982 - val_accuracy: 0.4059\n",
      "Epoch 24/25\n",
      "9550/9550 [==============================] - 22s 2ms/step - loss: 1.9903 - accuracy: 0.4106 - val_loss: 2.0272 - val_accuracy: 0.4058\n",
      "Epoch 25/25\n",
      "9550/9550 [==============================] - 21s 2ms/step - loss: 1.9989 - accuracy: 0.4114 - val_loss: 2.0015 - val_accuracy: 0.4079\n"
     ]
    }
   ],
   "source": [
    "## Fit the model \n",
    "batch_size = 20\n",
    "n_epochs = 25\n",
    "\n",
    "hist2 = nn2.fit(X_train2, y_train2, epochs=n_epochs, batch_size=batch_size, validation_split=0.25)"
   ]
  },
  {
   "cell_type": "code",
   "execution_count": null,
   "metadata": {},
   "outputs": [],
   "source": []
  },
  {
   "cell_type": "code",
   "execution_count": 79,
   "metadata": {},
   "outputs": [
    {
     "data": {
      "text/plain": [
       "0.7075180504723952"
      ]
     },
     "execution_count": 79,
     "metadata": {},
     "output_type": "execute_result"
    }
   ],
   "source": [
    "np.log(hist2.history['val_loss']).mean()"
   ]
  },
  {
   "cell_type": "code",
   "execution_count": 80,
   "metadata": {},
   "outputs": [
    {
     "data": {
      "text/plain": [
       "0.7047702209433798"
      ]
     },
     "execution_count": 80,
     "metadata": {},
     "output_type": "execute_result"
    }
   ],
   "source": [
    "np.log(hist2.history['loss']).mean()"
   ]
  },
  {
   "cell_type": "code",
   "execution_count": null,
   "metadata": {},
   "outputs": [],
   "source": []
  },
  {
   "cell_type": "code",
   "execution_count": 81,
   "metadata": {},
   "outputs": [
    {
     "data": {
      "image/png": "[encoded data removed]",
      "text/plain": [
       "<Figure size 720x504 with 1 Axes>"
      ]
     },
     "metadata": {
      "needs_background": "light"
     },
     "output_type": "display_data"
    }
   ],
   "source": [
    "fig, ax = plt.subplots(figsize=(10,7))\n",
    "ax.plot(np.log(hist2.history['loss']), label='Training Loss')\n",
    "ax.plot(np.log(hist2.history['val_loss']), label='Validation Loss')\n",
    "ax.set_title(\"log(Loss) vs. epochs\", fontsize=15)\n",
    "ax.set_xlabel(\"epoch number\", fontsize=14)\n",
    "ax.legend(fontsize=12)\n",
    "ax.grid();"
   ]
  },
  {
   "cell_type": "code",
   "execution_count": null,
   "metadata": {},
   "outputs": [],
   "source": []
  },
  {
   "cell_type": "code",
   "execution_count": 82,
   "metadata": {},
   "outputs": [
    {
     "data": {
      "image/png": "[encoded data removed]",
      "text/plain": [
       "<Figure size 720x504 with 1 Axes>"
      ]
     },
     "metadata": {
      "needs_background": "light"
     },
     "output_type": "display_data"
    }
   ],
   "source": [
    "fig, ax = plt.subplots(figsize=(10,7))\n",
    "ax.plot(hist2.history['accuracy'], label='Training Accuracy')\n",
    "ax.plot(hist2.history['val_accuracy'], label='Validation Accuracy')\n",
    "ax.set_title(\"Accuracy vs. epochs\", fontsize=15)\n",
    "ax.set_xlabel(\"epoch number\", fontsize=14)\n",
    "ax.legend(fontsize=12)\n",
    "ax.grid();"
   ]
  },
  {
   "cell_type": "code",
   "execution_count": null,
   "metadata": {},
   "outputs": [],
   "source": []
  },
  {
   "cell_type": "code",
   "execution_count": null,
   "metadata": {},
   "outputs": [],
   "source": []
  },
  {
   "cell_type": "markdown",
   "metadata": {},
   "source": [
    "#### Create a model using the top 10 features identified by Random FOrest Classifier "
   ]
  },
  {
   "cell_type": "code",
   "execution_count": null,
   "metadata": {},
   "outputs": [],
   "source": [
    "### Create new instances of X and y varaibles \n",
    "X3 = X.copy()\n",
    "y3 = y.copy()"
   ]
  },
  {
   "cell_type": "code",
   "execution_count": null,
   "metadata": {},
   "outputs": [],
   "source": [
    "## Add categories to y shape\n",
    "y3 = to_categorical(y3)\n",
    "y3.shape"
   ]
  },
  {
   "cell_type": "code",
   "execution_count": null,
   "metadata": {},
   "outputs": [],
   "source": [
    "### Split train and test sets \n",
    "### Split the data into train and test sets \n",
    "X_train3, X_test3, y_train3,y_test3 = train_test_split(X3,y3,test_size = 0.3,random_state = 38)"
   ]
  },
  {
   "cell_type": "code",
   "execution_count": null,
   "metadata": {},
   "outputs": [],
   "source": []
  },
  {
   "cell_type": "code",
   "execution_count": null,
   "metadata": {},
   "outputs": [],
   "source": [
    "# Define input shape\n",
    "input_shape = X_train3[top10Features].shape[1]\n",
    "\n",
    "# Instantiate the Sequential model \n",
    "nn3 = Sequential()\n",
    "\n",
    "# Add Layers \n",
    "nn3.add(Dense(64, activation='relu', input_shape=(input_shape,)))\n",
    "nn3.add(Dense(32, activation='relu'))\n",
    "nn3.add(Dense(16, activation='relu'))\n",
    "nn3.add(Dense(8, activation='relu'))\n",
    "\n",
    "# Add output layer \n",
    "nn3.add(Dense(11, activation='relu'))"
   ]
  },
  {
   "cell_type": "code",
   "execution_count": null,
   "metadata": {},
   "outputs": [],
   "source": [
    "# Define a custom optimizer \n",
    "opt = keras.optimizers.Adam(lr=0.0001)\n",
    "nn3.compile(loss='categorical_crossentropy', metrics=['accuracy'], optimizer=opt)\n",
    "nn3.summary()"
   ]
  },
  {
   "cell_type": "code",
   "execution_count": null,
   "metadata": {},
   "outputs": [],
   "source": [
    "## Fit the model \n",
    "batch_size = 20\n",
    "n_epochs = 20\n",
    "\n",
    "hist3 = nn3.fit(X_train3[top10Features], y_train3, epochs=n_epochs, batch_size=batch_size, validation_split=0.25)"
   ]
  },
  {
   "cell_type": "code",
   "execution_count": null,
   "metadata": {},
   "outputs": [],
   "source": []
  },
  {
   "cell_type": "code",
   "execution_count": null,
   "metadata": {},
   "outputs": [],
   "source": [
    "fig, ax = plt.subplots(figsize=(10,7))\n",
    "ax.plot(np.log(hist3.history['loss']), label='Training Loss')\n",
    "ax.plot(np.log(hist3.history['val_loss']), label='Validation Loss')\n",
    "ax.set_title(\"log(Loss) vs. epochs\", fontsize=15)\n",
    "ax.set_xlabel(\"epoch number\", fontsize=14)\n",
    "ax.legend(fontsize=12)\n",
    "ax.grid();"
   ]
  },
  {
   "cell_type": "code",
   "execution_count": null,
   "metadata": {},
   "outputs": [],
   "source": [
    "fig, ax = plt.subplots(figsize=(10,7))\n",
    "ax.plot(hist3.history['accuracy'], label='Training Accuracy')\n",
    "ax.plot(hist3.history['val_accuracy'], label='Validation Accuracy')\n",
    "ax.set_title(\"Accuracy vs. epochs\", fontsize=15)\n",
    "ax.set_xlabel(\"epoch number\", fontsize=14)\n",
    "ax.legend(fontsize=12)\n",
    "ax.grid();"
   ]
  },
  {
   "cell_type": "code",
   "execution_count": null,
   "metadata": {},
   "outputs": [],
   "source": []
  },
  {
   "cell_type": "code",
   "execution_count": null,
   "metadata": {},
   "outputs": [],
   "source": []
  },
  {
   "cell_type": "code",
   "execution_count": 108,
   "metadata": {},
   "outputs": [],
   "source": [
    "#metrics_data = {\n",
    "    #\"Training Accuracy(%)\":[((rfAll_accuracy) * 100).round(),((rftop10_accuracy_train) * 100).round(),\n",
    "                                 #round((hist2.history['accuracy'][1]) * 100)],\n",
    "    #\"Testing Accuracy(%)\":[((rfAll_accuracy_test) * 100).round(),((rftop10_accuracy_test) * 100).round(),\n",
    "                                 #round((hist2.history['val_accuracy'][1]) * 100)],\n",
    "    ##'Training Loss(%)':['NA','NA', float(42.0)],\n",
    "    #\"Validation Loss(%)\":['NA','NA', float(43.0)]\n",
    "#}\n",
    "\n",
    "\n",
    "#Model_comparison = pd.DataFrame(metrics_data,index=['Random Forest All Varaibles','Random Forest Top10', 'ANN'])"
   ]
  },
  {
   "cell_type": "code",
   "execution_count": 123,
   "metadata": {},
   "outputs": [],
   "source": [
    "#Model_comparison"
   ]
  },
  {
   "cell_type": "code",
   "execution_count": 146,
   "metadata": {},
   "outputs": [],
   "source": [
    "metrics_data = {\n",
    "    \"Training Accuracy (%)\":[77,81,41],\n",
    "    \"Testing Accuracy (%)\":[40,39,40],\n",
    "    'Training Loss (%)':['NA','NA', 42],\n",
    "    \"Validation Loss (%)\":['NA','NA',43]\n",
    "}\n",
    "\n",
    "\n",
    "model_comparison = pd.DataFrame(metrics_data,index=['Random Forest All Variables','Random Forest Top10', 'ANN'])"
   ]
  },
  {
   "cell_type": "code",
   "execution_count": 147,
   "metadata": {},
   "outputs": [
    {
     "data": {
      "text/html": [
       "<div>\n",
       "<style scoped>\n",
       "    .dataframe tbody tr th:only-of-type {\n",
       "        vertical-align: middle;\n",
       "    }\n",
       "\n",
       "    .dataframe tbody tr th {\n",
       "        vertical-align: top;\n",
       "    }\n",
       "\n",
       "    .dataframe thead th {\n",
       "        text-align: right;\n",
       "    }\n",
       "</style>\n",
       "<table border=\"1\" class=\"dataframe\">\n",
       "  <thead>\n",
       "    <tr style=\"text-align: right;\">\n",
       "      <th></th>\n",
       "      <th>Training Accuracy (%)</th>\n",
       "      <th>Testing Accuracy (%)</th>\n",
       "      <th>Training Loss (%)</th>\n",
       "      <th>Validation Loss (%)</th>\n",
       "    </tr>\n",
       "  </thead>\n",
       "  <tbody>\n",
       "    <tr>\n",
       "      <td>Random Forest All Variables</td>\n",
       "      <td>77</td>\n",
       "      <td>40</td>\n",
       "      <td>NA</td>\n",
       "      <td>NA</td>\n",
       "    </tr>\n",
       "    <tr>\n",
       "      <td>Random Forest Top10</td>\n",
       "      <td>81</td>\n",
       "      <td>39</td>\n",
       "      <td>NA</td>\n",
       "      <td>NA</td>\n",
       "    </tr>\n",
       "    <tr>\n",
       "      <td>ANN</td>\n",
       "      <td>41</td>\n",
       "      <td>40</td>\n",
       "      <td>42</td>\n",
       "      <td>43</td>\n",
       "    </tr>\n",
       "  </tbody>\n",
       "</table>\n",
       "</div>"
      ],
      "text/plain": [
       "                             Training Accuracy (%)  Testing Accuracy (%)  \\\n",
       "Random Forest All Variables                     77                    40   \n",
       "Random Forest Top10                             81                    39   \n",
       "ANN                                             41                    40   \n",
       "\n",
       "                            Training Loss (%) Validation Loss (%)  \n",
       "Random Forest All Variables                NA                  NA  \n",
       "Random Forest Top10                        NA                  NA  \n",
       "ANN                                        42                  43  "
      ]
     },
     "execution_count": 147,
     "metadata": {},
     "output_type": "execute_result"
    }
   ],
   "source": [
    "model_comparison"
   ]
  },
  {
   "cell_type": "code",
   "execution_count": null,
   "metadata": {},
   "outputs": [],
   "source": []
  }
 ],
 "metadata": {
  "kernelspec": {
   "display_name": "Python 3",
   "language": "python",
   "name": "python3"
  },
  "language_info": {
   "codemirror_mode": {
    "name": "ipython",
    "version": 3
   },
   "file_extension": ".py",
   "mimetype": "text/x-python",
   "name": "python",
   "nbconvert_exporter": "python",
   "pygments_lexer": "ipython3",
   "version": "3.7.4"
  }
 },
 "nbformat": 4,
 "nbformat_minor": 2
}
